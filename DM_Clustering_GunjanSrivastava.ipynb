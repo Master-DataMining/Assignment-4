{
  "nbformat": 4,
  "nbformat_minor": 0,
  "metadata": {
    "colab": {
      "name": "DM_Clustering_GunjanSrivastava.ipynb",
      "provenance": []
    },
    "kernelspec": {
      "name": "python3",
      "display_name": "Python 3"
    },
    "language_info": {
      "name": "python"
    },
    "widgets": {
      "application/vnd.jupyter.widget-state+json": {
        "cef3d173b2d34f0eae2dfa30f884d030": {
          "model_module": "@jupyter-widgets/controls",
          "model_name": "IntProgressModel",
          "model_module_version": "1.5.0",
          "state": {
            "_view_name": "ProgressView",
            "style": "IPY_MODEL_8381dea5a535437abc1eff646cee1e22",
            "_dom_classes": [],
            "description": "Processing: ",
            "_model_name": "IntProgressModel",
            "bar_style": "",
            "max": 3,
            "_view_module": "@jupyter-widgets/controls",
            "_model_module_version": "1.5.0",
            "value": 3,
            "_view_count": null,
            "_view_module_version": "1.5.0",
            "orientation": "horizontal",
            "min": 0,
            "description_tooltip": null,
            "_model_module": "@jupyter-widgets/controls",
            "layout": "IPY_MODEL_ce916dc728b447329b0d5325e5c9caf6"
          }
        },
        "8381dea5a535437abc1eff646cee1e22": {
          "model_module": "@jupyter-widgets/controls",
          "model_name": "ProgressStyleModel",
          "model_module_version": "1.5.0",
          "state": {
            "_view_name": "StyleView",
            "_model_name": "ProgressStyleModel",
            "description_width": "",
            "_view_module": "@jupyter-widgets/base",
            "_model_module_version": "1.5.0",
            "_view_count": null,
            "_view_module_version": "1.2.0",
            "bar_color": null,
            "_model_module": "@jupyter-widgets/controls"
          }
        },
        "ce916dc728b447329b0d5325e5c9caf6": {
          "model_module": "@jupyter-widgets/base",
          "model_name": "LayoutModel",
          "model_module_version": "1.2.0",
          "state": {
            "_view_name": "LayoutView",
            "grid_template_rows": null,
            "right": null,
            "justify_content": null,
            "_view_module": "@jupyter-widgets/base",
            "overflow": null,
            "_model_module_version": "1.2.0",
            "_view_count": null,
            "flex_flow": null,
            "width": null,
            "min_width": null,
            "border": null,
            "align_items": null,
            "bottom": null,
            "_model_module": "@jupyter-widgets/base",
            "top": null,
            "grid_column": null,
            "overflow_y": null,
            "overflow_x": null,
            "grid_auto_flow": null,
            "grid_area": null,
            "grid_template_columns": null,
            "flex": null,
            "_model_name": "LayoutModel",
            "justify_items": null,
            "grid_row": null,
            "max_height": null,
            "align_content": null,
            "visibility": null,
            "align_self": null,
            "height": null,
            "min_height": null,
            "padding": null,
            "grid_auto_rows": null,
            "grid_gap": null,
            "max_width": null,
            "order": null,
            "_view_module_version": "1.2.0",
            "grid_template_areas": null,
            "object_position": null,
            "object_fit": null,
            "grid_auto_columns": null,
            "margin": null,
            "display": null,
            "left": null
          }
        },
        "7200b5519e794131809bf1bc3736eb53": {
          "model_module": "@jupyter-widgets/controls",
          "model_name": "TextModel",
          "model_module_version": "1.5.0",
          "state": {
            "_view_name": "TextView",
            "style": "IPY_MODEL_2c512632ce8e43c1a2873f3b9c028f82",
            "_dom_classes": [],
            "description": "",
            "_model_name": "TextModel",
            "placeholder": "​",
            "_view_module": "@jupyter-widgets/controls",
            "_model_module_version": "1.5.0",
            "value": "Following data types have been inferred automatically, if they are correct press enter to continue or type 'quit' otherwise.",
            "_view_count": null,
            "disabled": false,
            "_view_module_version": "1.5.0",
            "continuous_update": true,
            "description_tooltip": null,
            "_model_module": "@jupyter-widgets/controls",
            "layout": "IPY_MODEL_abdbe891be92437f8cbfa536fabd209f"
          }
        },
        "2c512632ce8e43c1a2873f3b9c028f82": {
          "model_module": "@jupyter-widgets/controls",
          "model_name": "DescriptionStyleModel",
          "model_module_version": "1.5.0",
          "state": {
            "_view_name": "StyleView",
            "_model_name": "DescriptionStyleModel",
            "description_width": "",
            "_view_module": "@jupyter-widgets/base",
            "_model_module_version": "1.5.0",
            "_view_count": null,
            "_view_module_version": "1.2.0",
            "_model_module": "@jupyter-widgets/controls"
          }
        },
        "abdbe891be92437f8cbfa536fabd209f": {
          "model_module": "@jupyter-widgets/base",
          "model_name": "LayoutModel",
          "model_module_version": "1.2.0",
          "state": {
            "_view_name": "LayoutView",
            "grid_template_rows": null,
            "right": null,
            "justify_content": null,
            "_view_module": "@jupyter-widgets/base",
            "overflow": null,
            "_model_module_version": "1.2.0",
            "_view_count": null,
            "flex_flow": null,
            "width": "100%",
            "min_width": null,
            "border": null,
            "align_items": null,
            "bottom": null,
            "_model_module": "@jupyter-widgets/base",
            "top": null,
            "grid_column": null,
            "overflow_y": null,
            "overflow_x": null,
            "grid_auto_flow": null,
            "grid_area": null,
            "grid_template_columns": null,
            "flex": null,
            "_model_name": "LayoutModel",
            "justify_items": null,
            "grid_row": null,
            "max_height": null,
            "align_content": null,
            "visibility": null,
            "align_self": null,
            "height": null,
            "min_height": null,
            "padding": null,
            "grid_auto_rows": null,
            "grid_gap": null,
            "max_width": null,
            "order": null,
            "_view_module_version": "1.2.0",
            "grid_template_areas": null,
            "object_position": null,
            "object_fit": null,
            "grid_auto_columns": null,
            "margin": null,
            "display": null,
            "left": null
          }
        },
        "76c1aa49347e4657853588adc1c2f060": {
          "model_module": "@jupyter-widgets/controls",
          "model_name": "IntProgressModel",
          "model_module_version": "1.5.0",
          "state": {
            "_view_name": "ProgressView",
            "style": "IPY_MODEL_01493080be8b440b974465c6bfdf9dd7",
            "_dom_classes": [],
            "description": "Processing: ",
            "_model_name": "IntProgressModel",
            "bar_style": "",
            "max": 3,
            "_view_module": "@jupyter-widgets/controls",
            "_model_module_version": "1.5.0",
            "value": 3,
            "_view_count": null,
            "_view_module_version": "1.5.0",
            "orientation": "horizontal",
            "min": 0,
            "description_tooltip": null,
            "_model_module": "@jupyter-widgets/controls",
            "layout": "IPY_MODEL_7cda01eac0a0472f9db6238a706a81f2"
          }
        },
        "01493080be8b440b974465c6bfdf9dd7": {
          "model_module": "@jupyter-widgets/controls",
          "model_name": "ProgressStyleModel",
          "model_module_version": "1.5.0",
          "state": {
            "_view_name": "StyleView",
            "_model_name": "ProgressStyleModel",
            "description_width": "",
            "_view_module": "@jupyter-widgets/base",
            "_model_module_version": "1.5.0",
            "_view_count": null,
            "_view_module_version": "1.2.0",
            "bar_color": null,
            "_model_module": "@jupyter-widgets/controls"
          }
        },
        "7cda01eac0a0472f9db6238a706a81f2": {
          "model_module": "@jupyter-widgets/base",
          "model_name": "LayoutModel",
          "model_module_version": "1.2.0",
          "state": {
            "_view_name": "LayoutView",
            "grid_template_rows": null,
            "right": null,
            "justify_content": null,
            "_view_module": "@jupyter-widgets/base",
            "overflow": null,
            "_model_module_version": "1.2.0",
            "_view_count": null,
            "flex_flow": null,
            "width": null,
            "min_width": null,
            "border": null,
            "align_items": null,
            "bottom": null,
            "_model_module": "@jupyter-widgets/base",
            "top": null,
            "grid_column": null,
            "overflow_y": null,
            "overflow_x": null,
            "grid_auto_flow": null,
            "grid_area": null,
            "grid_template_columns": null,
            "flex": null,
            "_model_name": "LayoutModel",
            "justify_items": null,
            "grid_row": null,
            "max_height": null,
            "align_content": null,
            "visibility": null,
            "align_self": null,
            "height": null,
            "min_height": null,
            "padding": null,
            "grid_auto_rows": null,
            "grid_gap": null,
            "max_width": null,
            "order": null,
            "_view_module_version": "1.2.0",
            "grid_template_areas": null,
            "object_position": null,
            "object_fit": null,
            "grid_auto_columns": null,
            "margin": null,
            "display": null,
            "left": null
          }
        },
        "10e2eb5f6c6b46189c34e4c5f7c1052b": {
          "model_module": "@jupyter-widgets/controls",
          "model_name": "IntProgressModel",
          "model_module_version": "1.5.0",
          "state": {
            "_view_name": "ProgressView",
            "style": "IPY_MODEL_443b54737fff48fe8f17509b2285db22",
            "_dom_classes": [],
            "description": "Processing: ",
            "_model_name": "IntProgressModel",
            "bar_style": "",
            "max": 3,
            "_view_module": "@jupyter-widgets/controls",
            "_model_module_version": "1.5.0",
            "value": 3,
            "_view_count": null,
            "_view_module_version": "1.5.0",
            "orientation": "horizontal",
            "min": 0,
            "description_tooltip": null,
            "_model_module": "@jupyter-widgets/controls",
            "layout": "IPY_MODEL_3573c870a7b0407baf8698bd162b1c96"
          }
        },
        "443b54737fff48fe8f17509b2285db22": {
          "model_module": "@jupyter-widgets/controls",
          "model_name": "ProgressStyleModel",
          "model_module_version": "1.5.0",
          "state": {
            "_view_name": "StyleView",
            "_model_name": "ProgressStyleModel",
            "description_width": "",
            "_view_module": "@jupyter-widgets/base",
            "_model_module_version": "1.5.0",
            "_view_count": null,
            "_view_module_version": "1.2.0",
            "bar_color": null,
            "_model_module": "@jupyter-widgets/controls"
          }
        },
        "3573c870a7b0407baf8698bd162b1c96": {
          "model_module": "@jupyter-widgets/base",
          "model_name": "LayoutModel",
          "model_module_version": "1.2.0",
          "state": {
            "_view_name": "LayoutView",
            "grid_template_rows": null,
            "right": null,
            "justify_content": null,
            "_view_module": "@jupyter-widgets/base",
            "overflow": null,
            "_model_module_version": "1.2.0",
            "_view_count": null,
            "flex_flow": null,
            "width": null,
            "min_width": null,
            "border": null,
            "align_items": null,
            "bottom": null,
            "_model_module": "@jupyter-widgets/base",
            "top": null,
            "grid_column": null,
            "overflow_y": null,
            "overflow_x": null,
            "grid_auto_flow": null,
            "grid_area": null,
            "grid_template_columns": null,
            "flex": null,
            "_model_name": "LayoutModel",
            "justify_items": null,
            "grid_row": null,
            "max_height": null,
            "align_content": null,
            "visibility": null,
            "align_self": null,
            "height": null,
            "min_height": null,
            "padding": null,
            "grid_auto_rows": null,
            "grid_gap": null,
            "max_width": null,
            "order": null,
            "_view_module_version": "1.2.0",
            "grid_template_areas": null,
            "object_position": null,
            "object_fit": null,
            "grid_auto_columns": null,
            "margin": null,
            "display": null,
            "left": null
          }
        }
      }
    }
  },
  "cells": [
    {
      "cell_type": "markdown",
      "metadata": {
        "id": "q2W0hBgnnk1X"
      },
      "source": [
        "#**Assignment 4 - Clustering Techniques**\n",
        "\n"
      ]
    },
    {
      "cell_type": "markdown",
      "metadata": {
        "id": "tLFSzlsX1GKF"
      },
      "source": [
        "#**K-Means Clustering**\n",
        "\n",
        "K-means is a centroid-based or partition-based clustering algorithm. This algorithm partitions all the points in the sample space into K groups of similarity. The similarity is usually measured using Euclidian Distance."
      ]
    },
    {
      "cell_type": "code",
      "metadata": {
        "id": "6kP_K8_qzG84"
      },
      "source": [
        "import pandas as pd\n",
        "import numpy as np\n",
        "from google.colab import files\n",
        "import matplotlib.pyplot as plt\n",
        "import io\n",
        "import requests\n",
        "%matplotlib inline\n",
        "from matplotlib.colors import ListedColormap\n",
        "from sklearn.cluster import KMeans\n",
        "import seaborn as sns\n",
        "import warnings\n",
        "warnings.filterwarnings(\"ignore\")\n",
        "\n",
        "from google.colab import drive"
      ],
      "execution_count": 7,
      "outputs": []
    },
    {
      "cell_type": "code",
      "metadata": {
        "colab": {
          "base_uri": "https://localhost:8080/",
          "height": 426
        },
        "id": "dAWqpsrM1cyP",
        "outputId": "3ecbf4fb-2495-41e2-f94f-ba81324f0068"
      },
      "source": [
        "drive.mount('/content/drive/')\n",
        "path = '/content/drive/MyDrive/DataMining/Assignment3/housing_data.csv'\n",
        "data = pd.read_csv(path)\n",
        "data.head(5)"
      ],
      "execution_count": 8,
      "outputs": [
        {
          "output_type": "stream",
          "name": "stdout",
          "text": [
            "Mounted at /content/drive/\n"
          ]
        },
        {
          "output_type": "execute_result",
          "data": {
            "text/html": [
              "<div>\n",
              "<style scoped>\n",
              "    .dataframe tbody tr th:only-of-type {\n",
              "        vertical-align: middle;\n",
              "    }\n",
              "\n",
              "    .dataframe tbody tr th {\n",
              "        vertical-align: top;\n",
              "    }\n",
              "\n",
              "    .dataframe thead th {\n",
              "        text-align: right;\n",
              "    }\n",
              "</style>\n",
              "<table border=\"1\" class=\"dataframe\">\n",
              "  <thead>\n",
              "    <tr style=\"text-align: right;\">\n",
              "      <th></th>\n",
              "      <th>date</th>\n",
              "      <th>price</th>\n",
              "      <th>bedrooms</th>\n",
              "      <th>bathrooms</th>\n",
              "      <th>sqft_living</th>\n",
              "      <th>sqft_lot</th>\n",
              "      <th>floors</th>\n",
              "      <th>waterfront</th>\n",
              "      <th>view</th>\n",
              "      <th>condition</th>\n",
              "      <th>sqft_above</th>\n",
              "      <th>sqft_basement</th>\n",
              "      <th>yr_built</th>\n",
              "      <th>yr_renovated</th>\n",
              "      <th>street</th>\n",
              "      <th>city</th>\n",
              "      <th>statezip</th>\n",
              "      <th>country</th>\n",
              "    </tr>\n",
              "  </thead>\n",
              "  <tbody>\n",
              "    <tr>\n",
              "      <th>0</th>\n",
              "      <td>2014-05-02 00:00:00</td>\n",
              "      <td>313000.0</td>\n",
              "      <td>3.0</td>\n",
              "      <td>1.50</td>\n",
              "      <td>1340</td>\n",
              "      <td>7912</td>\n",
              "      <td>1.5</td>\n",
              "      <td>0</td>\n",
              "      <td>0</td>\n",
              "      <td>3</td>\n",
              "      <td>1340</td>\n",
              "      <td>0</td>\n",
              "      <td>1955</td>\n",
              "      <td>2005</td>\n",
              "      <td>18810 Densmore Ave N</td>\n",
              "      <td>Shoreline</td>\n",
              "      <td>WA 98133</td>\n",
              "      <td>USA</td>\n",
              "    </tr>\n",
              "    <tr>\n",
              "      <th>1</th>\n",
              "      <td>2014-05-02 00:00:00</td>\n",
              "      <td>2384000.0</td>\n",
              "      <td>5.0</td>\n",
              "      <td>2.50</td>\n",
              "      <td>3650</td>\n",
              "      <td>9050</td>\n",
              "      <td>2.0</td>\n",
              "      <td>0</td>\n",
              "      <td>4</td>\n",
              "      <td>5</td>\n",
              "      <td>3370</td>\n",
              "      <td>280</td>\n",
              "      <td>1921</td>\n",
              "      <td>0</td>\n",
              "      <td>709 W Blaine St</td>\n",
              "      <td>Seattle</td>\n",
              "      <td>WA 98119</td>\n",
              "      <td>USA</td>\n",
              "    </tr>\n",
              "    <tr>\n",
              "      <th>2</th>\n",
              "      <td>2014-05-02 00:00:00</td>\n",
              "      <td>342000.0</td>\n",
              "      <td>3.0</td>\n",
              "      <td>2.00</td>\n",
              "      <td>1930</td>\n",
              "      <td>11947</td>\n",
              "      <td>1.0</td>\n",
              "      <td>0</td>\n",
              "      <td>0</td>\n",
              "      <td>4</td>\n",
              "      <td>1930</td>\n",
              "      <td>0</td>\n",
              "      <td>1966</td>\n",
              "      <td>0</td>\n",
              "      <td>26206-26214 143rd Ave SE</td>\n",
              "      <td>Kent</td>\n",
              "      <td>WA 98042</td>\n",
              "      <td>USA</td>\n",
              "    </tr>\n",
              "    <tr>\n",
              "      <th>3</th>\n",
              "      <td>2014-05-02 00:00:00</td>\n",
              "      <td>420000.0</td>\n",
              "      <td>3.0</td>\n",
              "      <td>2.25</td>\n",
              "      <td>2000</td>\n",
              "      <td>8030</td>\n",
              "      <td>1.0</td>\n",
              "      <td>0</td>\n",
              "      <td>0</td>\n",
              "      <td>4</td>\n",
              "      <td>1000</td>\n",
              "      <td>1000</td>\n",
              "      <td>1963</td>\n",
              "      <td>0</td>\n",
              "      <td>857 170th Pl NE</td>\n",
              "      <td>Bellevue</td>\n",
              "      <td>WA 98008</td>\n",
              "      <td>USA</td>\n",
              "    </tr>\n",
              "    <tr>\n",
              "      <th>4</th>\n",
              "      <td>2014-05-02 00:00:00</td>\n",
              "      <td>550000.0</td>\n",
              "      <td>4.0</td>\n",
              "      <td>2.50</td>\n",
              "      <td>1940</td>\n",
              "      <td>10500</td>\n",
              "      <td>1.0</td>\n",
              "      <td>0</td>\n",
              "      <td>0</td>\n",
              "      <td>4</td>\n",
              "      <td>1140</td>\n",
              "      <td>800</td>\n",
              "      <td>1976</td>\n",
              "      <td>1992</td>\n",
              "      <td>9105 170th Ave NE</td>\n",
              "      <td>Redmond</td>\n",
              "      <td>WA 98052</td>\n",
              "      <td>USA</td>\n",
              "    </tr>\n",
              "  </tbody>\n",
              "</table>\n",
              "</div>"
            ],
            "text/plain": [
              "                  date      price  bedrooms  ...       city  statezip  country\n",
              "0  2014-05-02 00:00:00   313000.0       3.0  ...  Shoreline  WA 98133      USA\n",
              "1  2014-05-02 00:00:00  2384000.0       5.0  ...    Seattle  WA 98119      USA\n",
              "2  2014-05-02 00:00:00   342000.0       3.0  ...       Kent  WA 98042      USA\n",
              "3  2014-05-02 00:00:00   420000.0       3.0  ...   Bellevue  WA 98008      USA\n",
              "4  2014-05-02 00:00:00   550000.0       4.0  ...    Redmond  WA 98052      USA\n",
              "\n",
              "[5 rows x 18 columns]"
            ]
          },
          "metadata": {},
          "execution_count": 8
        }
      ]
    },
    {
      "cell_type": "code",
      "metadata": {
        "colab": {
          "base_uri": "https://localhost:8080/"
        },
        "id": "63ftLuhTo4ds",
        "outputId": "8a97974b-43e2-4855-c3ea-a58660d7de31"
      },
      "source": [
        "#Basic information of the data\n",
        "data.info()"
      ],
      "execution_count": 9,
      "outputs": [
        {
          "output_type": "stream",
          "name": "stdout",
          "text": [
            "<class 'pandas.core.frame.DataFrame'>\n",
            "RangeIndex: 4600 entries, 0 to 4599\n",
            "Data columns (total 18 columns):\n",
            " #   Column         Non-Null Count  Dtype  \n",
            "---  ------         --------------  -----  \n",
            " 0   date           4600 non-null   object \n",
            " 1   price          4600 non-null   float64\n",
            " 2   bedrooms       4600 non-null   float64\n",
            " 3   bathrooms      4600 non-null   float64\n",
            " 4   sqft_living    4600 non-null   int64  \n",
            " 5   sqft_lot       4600 non-null   int64  \n",
            " 6   floors         4600 non-null   float64\n",
            " 7   waterfront     4600 non-null   int64  \n",
            " 8   view           4600 non-null   int64  \n",
            " 9   condition      4600 non-null   int64  \n",
            " 10  sqft_above     4600 non-null   int64  \n",
            " 11  sqft_basement  4600 non-null   int64  \n",
            " 12  yr_built       4600 non-null   int64  \n",
            " 13  yr_renovated   4600 non-null   int64  \n",
            " 14  street         4600 non-null   object \n",
            " 15  city           4600 non-null   object \n",
            " 16  statezip       4600 non-null   object \n",
            " 17  country        4600 non-null   object \n",
            "dtypes: float64(4), int64(9), object(5)\n",
            "memory usage: 647.0+ KB\n"
          ]
        }
      ]
    },
    {
      "cell_type": "markdown",
      "metadata": {
        "id": "DkdcYJ1MqtqK"
      },
      "source": [
        "Data has 18 columns and 4600 rows of values. None of the rows have null values.\n",
        "\n",
        "If any of the columns contain value of no significance in clustering the data, Eg: Serial number and Customer ID, it can be dropped. But in this dataset all column values are significant and hence all are required."
      ]
    },
    {
      "cell_type": "code",
      "metadata": {
        "colab": {
          "base_uri": "https://localhost:8080/",
          "height": 295
        },
        "id": "ZETZ-RQYrV3b",
        "outputId": "165cc4c1-40a7-42dd-8808-de29d348284f"
      },
      "source": [
        "#Statistics of the data\n",
        "data.describe()"
      ],
      "execution_count": 10,
      "outputs": [
        {
          "output_type": "execute_result",
          "data": {
            "text/html": [
              "<div>\n",
              "<style scoped>\n",
              "    .dataframe tbody tr th:only-of-type {\n",
              "        vertical-align: middle;\n",
              "    }\n",
              "\n",
              "    .dataframe tbody tr th {\n",
              "        vertical-align: top;\n",
              "    }\n",
              "\n",
              "    .dataframe thead th {\n",
              "        text-align: right;\n",
              "    }\n",
              "</style>\n",
              "<table border=\"1\" class=\"dataframe\">\n",
              "  <thead>\n",
              "    <tr style=\"text-align: right;\">\n",
              "      <th></th>\n",
              "      <th>price</th>\n",
              "      <th>bedrooms</th>\n",
              "      <th>bathrooms</th>\n",
              "      <th>sqft_living</th>\n",
              "      <th>sqft_lot</th>\n",
              "      <th>floors</th>\n",
              "      <th>waterfront</th>\n",
              "      <th>view</th>\n",
              "      <th>condition</th>\n",
              "      <th>sqft_above</th>\n",
              "      <th>sqft_basement</th>\n",
              "      <th>yr_built</th>\n",
              "      <th>yr_renovated</th>\n",
              "    </tr>\n",
              "  </thead>\n",
              "  <tbody>\n",
              "    <tr>\n",
              "      <th>count</th>\n",
              "      <td>4.600000e+03</td>\n",
              "      <td>4600.000000</td>\n",
              "      <td>4600.000000</td>\n",
              "      <td>4600.000000</td>\n",
              "      <td>4.600000e+03</td>\n",
              "      <td>4600.000000</td>\n",
              "      <td>4600.000000</td>\n",
              "      <td>4600.000000</td>\n",
              "      <td>4600.000000</td>\n",
              "      <td>4600.000000</td>\n",
              "      <td>4600.000000</td>\n",
              "      <td>4600.000000</td>\n",
              "      <td>4600.000000</td>\n",
              "    </tr>\n",
              "    <tr>\n",
              "      <th>mean</th>\n",
              "      <td>5.519630e+05</td>\n",
              "      <td>3.400870</td>\n",
              "      <td>2.160815</td>\n",
              "      <td>2139.346957</td>\n",
              "      <td>1.485252e+04</td>\n",
              "      <td>1.512065</td>\n",
              "      <td>0.007174</td>\n",
              "      <td>0.240652</td>\n",
              "      <td>3.451739</td>\n",
              "      <td>1827.265435</td>\n",
              "      <td>312.081522</td>\n",
              "      <td>1970.786304</td>\n",
              "      <td>808.608261</td>\n",
              "    </tr>\n",
              "    <tr>\n",
              "      <th>std</th>\n",
              "      <td>5.638347e+05</td>\n",
              "      <td>0.908848</td>\n",
              "      <td>0.783781</td>\n",
              "      <td>963.206916</td>\n",
              "      <td>3.588444e+04</td>\n",
              "      <td>0.538288</td>\n",
              "      <td>0.084404</td>\n",
              "      <td>0.778405</td>\n",
              "      <td>0.677230</td>\n",
              "      <td>862.168977</td>\n",
              "      <td>464.137228</td>\n",
              "      <td>29.731848</td>\n",
              "      <td>979.414536</td>\n",
              "    </tr>\n",
              "    <tr>\n",
              "      <th>min</th>\n",
              "      <td>0.000000e+00</td>\n",
              "      <td>0.000000</td>\n",
              "      <td>0.000000</td>\n",
              "      <td>370.000000</td>\n",
              "      <td>6.380000e+02</td>\n",
              "      <td>1.000000</td>\n",
              "      <td>0.000000</td>\n",
              "      <td>0.000000</td>\n",
              "      <td>1.000000</td>\n",
              "      <td>370.000000</td>\n",
              "      <td>0.000000</td>\n",
              "      <td>1900.000000</td>\n",
              "      <td>0.000000</td>\n",
              "    </tr>\n",
              "    <tr>\n",
              "      <th>25%</th>\n",
              "      <td>3.228750e+05</td>\n",
              "      <td>3.000000</td>\n",
              "      <td>1.750000</td>\n",
              "      <td>1460.000000</td>\n",
              "      <td>5.000750e+03</td>\n",
              "      <td>1.000000</td>\n",
              "      <td>0.000000</td>\n",
              "      <td>0.000000</td>\n",
              "      <td>3.000000</td>\n",
              "      <td>1190.000000</td>\n",
              "      <td>0.000000</td>\n",
              "      <td>1951.000000</td>\n",
              "      <td>0.000000</td>\n",
              "    </tr>\n",
              "    <tr>\n",
              "      <th>50%</th>\n",
              "      <td>4.609435e+05</td>\n",
              "      <td>3.000000</td>\n",
              "      <td>2.250000</td>\n",
              "      <td>1980.000000</td>\n",
              "      <td>7.683000e+03</td>\n",
              "      <td>1.500000</td>\n",
              "      <td>0.000000</td>\n",
              "      <td>0.000000</td>\n",
              "      <td>3.000000</td>\n",
              "      <td>1590.000000</td>\n",
              "      <td>0.000000</td>\n",
              "      <td>1976.000000</td>\n",
              "      <td>0.000000</td>\n",
              "    </tr>\n",
              "    <tr>\n",
              "      <th>75%</th>\n",
              "      <td>6.549625e+05</td>\n",
              "      <td>4.000000</td>\n",
              "      <td>2.500000</td>\n",
              "      <td>2620.000000</td>\n",
              "      <td>1.100125e+04</td>\n",
              "      <td>2.000000</td>\n",
              "      <td>0.000000</td>\n",
              "      <td>0.000000</td>\n",
              "      <td>4.000000</td>\n",
              "      <td>2300.000000</td>\n",
              "      <td>610.000000</td>\n",
              "      <td>1997.000000</td>\n",
              "      <td>1999.000000</td>\n",
              "    </tr>\n",
              "    <tr>\n",
              "      <th>max</th>\n",
              "      <td>2.659000e+07</td>\n",
              "      <td>9.000000</td>\n",
              "      <td>8.000000</td>\n",
              "      <td>13540.000000</td>\n",
              "      <td>1.074218e+06</td>\n",
              "      <td>3.500000</td>\n",
              "      <td>1.000000</td>\n",
              "      <td>4.000000</td>\n",
              "      <td>5.000000</td>\n",
              "      <td>9410.000000</td>\n",
              "      <td>4820.000000</td>\n",
              "      <td>2014.000000</td>\n",
              "      <td>2014.000000</td>\n",
              "    </tr>\n",
              "  </tbody>\n",
              "</table>\n",
              "</div>"
            ],
            "text/plain": [
              "              price     bedrooms  ...     yr_built  yr_renovated\n",
              "count  4.600000e+03  4600.000000  ...  4600.000000   4600.000000\n",
              "mean   5.519630e+05     3.400870  ...  1970.786304    808.608261\n",
              "std    5.638347e+05     0.908848  ...    29.731848    979.414536\n",
              "min    0.000000e+00     0.000000  ...  1900.000000      0.000000\n",
              "25%    3.228750e+05     3.000000  ...  1951.000000      0.000000\n",
              "50%    4.609435e+05     3.000000  ...  1976.000000      0.000000\n",
              "75%    6.549625e+05     4.000000  ...  1997.000000   1999.000000\n",
              "max    2.659000e+07     9.000000  ...  2014.000000   2014.000000\n",
              "\n",
              "[8 rows x 13 columns]"
            ]
          },
          "metadata": {},
          "execution_count": 10
        }
      ]
    },
    {
      "cell_type": "code",
      "metadata": {
        "colab": {
          "base_uri": "https://localhost:8080/",
          "height": 357
        },
        "id": "9cec74_NuezC",
        "outputId": "8ca527ea-d3eb-41d6-c250-af41b1f5e19b"
      },
      "source": [
        "# creating a subset of the data using price, sqft_lot and yr_built\n",
        "#data_subset = data.loc[:,['price', 'bedrooms', 'bathrooms', 'sqft_lot', 'sqft_above','yr_built']]\n",
        "data_subset = data.loc[:,['price','sqft_above']]\n",
        "data_subset.head(10)"
      ],
      "execution_count": 11,
      "outputs": [
        {
          "output_type": "execute_result",
          "data": {
            "text/html": [
              "<div>\n",
              "<style scoped>\n",
              "    .dataframe tbody tr th:only-of-type {\n",
              "        vertical-align: middle;\n",
              "    }\n",
              "\n",
              "    .dataframe tbody tr th {\n",
              "        vertical-align: top;\n",
              "    }\n",
              "\n",
              "    .dataframe thead th {\n",
              "        text-align: right;\n",
              "    }\n",
              "</style>\n",
              "<table border=\"1\" class=\"dataframe\">\n",
              "  <thead>\n",
              "    <tr style=\"text-align: right;\">\n",
              "      <th></th>\n",
              "      <th>price</th>\n",
              "      <th>sqft_above</th>\n",
              "    </tr>\n",
              "  </thead>\n",
              "  <tbody>\n",
              "    <tr>\n",
              "      <th>0</th>\n",
              "      <td>313000.0</td>\n",
              "      <td>1340</td>\n",
              "    </tr>\n",
              "    <tr>\n",
              "      <th>1</th>\n",
              "      <td>2384000.0</td>\n",
              "      <td>3370</td>\n",
              "    </tr>\n",
              "    <tr>\n",
              "      <th>2</th>\n",
              "      <td>342000.0</td>\n",
              "      <td>1930</td>\n",
              "    </tr>\n",
              "    <tr>\n",
              "      <th>3</th>\n",
              "      <td>420000.0</td>\n",
              "      <td>1000</td>\n",
              "    </tr>\n",
              "    <tr>\n",
              "      <th>4</th>\n",
              "      <td>550000.0</td>\n",
              "      <td>1140</td>\n",
              "    </tr>\n",
              "    <tr>\n",
              "      <th>5</th>\n",
              "      <td>490000.0</td>\n",
              "      <td>880</td>\n",
              "    </tr>\n",
              "    <tr>\n",
              "      <th>6</th>\n",
              "      <td>335000.0</td>\n",
              "      <td>1350</td>\n",
              "    </tr>\n",
              "    <tr>\n",
              "      <th>7</th>\n",
              "      <td>482000.0</td>\n",
              "      <td>2710</td>\n",
              "    </tr>\n",
              "    <tr>\n",
              "      <th>8</th>\n",
              "      <td>452500.0</td>\n",
              "      <td>1570</td>\n",
              "    </tr>\n",
              "    <tr>\n",
              "      <th>9</th>\n",
              "      <td>640000.0</td>\n",
              "      <td>1520</td>\n",
              "    </tr>\n",
              "  </tbody>\n",
              "</table>\n",
              "</div>"
            ],
            "text/plain": [
              "       price  sqft_above\n",
              "0   313000.0        1340\n",
              "1  2384000.0        3370\n",
              "2   342000.0        1930\n",
              "3   420000.0        1000\n",
              "4   550000.0        1140\n",
              "5   490000.0         880\n",
              "6   335000.0        1350\n",
              "7   482000.0        2710\n",
              "8   452500.0        1570\n",
              "9   640000.0        1520"
            ]
          },
          "metadata": {},
          "execution_count": 11
        }
      ]
    },
    {
      "cell_type": "code",
      "metadata": {
        "colab": {
          "base_uri": "https://localhost:8080/",
          "height": 294
        },
        "id": "8nhbyQ4Iv_xx",
        "outputId": "5970145f-38a8-44b4-fb13-8c014878e62e"
      },
      "source": [
        "# plotting prices over the years\n",
        "plt.scatter(data_subset['sqft_above'],data_subset['price'])"
      ],
      "execution_count": 12,
      "outputs": [
        {
          "output_type": "execute_result",
          "data": {
            "text/plain": [
              "<matplotlib.collections.PathCollection at 0x7ff0e7772d10>"
            ]
          },
          "metadata": {},
          "execution_count": 12
        },
        {
          "output_type": "display_data",
          "data": {
            "image/png": "[encoded data removed]",
            "text/plain": [
              "<Figure size 432x288 with 1 Axes>"
            ]
          },
          "metadata": {
            "needs_background": "light"
          }
        }
      ]
    },
    {
      "cell_type": "markdown",
      "metadata": {
        "id": "HLcvJry0tiKS"
      },
      "source": [
        "There is a variation in the magnitude of data. Variables like yr_built have low magnitude and price and sqft_lot have higher magnitude. \n",
        "\n",
        "Since K-means is a distance based algorithm, this difference in magnitude can create a problem. So let's bring all the variables to the same magnitude."
      ]
    },
    {
      "cell_type": "code",
      "metadata": {
        "colab": {
          "base_uri": "https://localhost:8080/",
          "height": 313
        },
        "id": "DDfHuNaZwkll",
        "outputId": "d00efbae-8ce3-4d2e-ab5d-f738f772025f"
      },
      "source": [
        "#Standardising the data\n",
        "from sklearn.preprocessing import StandardScaler\n",
        "scaler = StandardScaler()\n",
        "#Using sqft_above and price for easy visualization\n",
        "data_scaled = scaler.fit_transform(data_subset)\n",
        "print(\"Type of data scaled: {}\".format(type(data_scaled)))\n",
        "\n",
        "#Statistics of the scaled data\n",
        "data_s = pd.DataFrame(data_scaled).describe()\n",
        "data_s"
      ],
      "execution_count": 13,
      "outputs": [
        {
          "output_type": "stream",
          "name": "stdout",
          "text": [
            "Type of data scaled: <class 'numpy.ndarray'>\n"
          ]
        },
        {
          "output_type": "execute_result",
          "data": {
            "text/html": [
              "<div>\n",
              "<style scoped>\n",
              "    .dataframe tbody tr th:only-of-type {\n",
              "        vertical-align: middle;\n",
              "    }\n",
              "\n",
              "    .dataframe tbody tr th {\n",
              "        vertical-align: top;\n",
              "    }\n",
              "\n",
              "    .dataframe thead th {\n",
              "        text-align: right;\n",
              "    }\n",
              "</style>\n",
              "<table border=\"1\" class=\"dataframe\">\n",
              "  <thead>\n",
              "    <tr style=\"text-align: right;\">\n",
              "      <th></th>\n",
              "      <th>0</th>\n",
              "      <th>1</th>\n",
              "    </tr>\n",
              "  </thead>\n",
              "  <tbody>\n",
              "    <tr>\n",
              "      <th>count</th>\n",
              "      <td>4.600000e+03</td>\n",
              "      <td>4.600000e+03</td>\n",
              "    </tr>\n",
              "    <tr>\n",
              "      <th>mean</th>\n",
              "      <td>6.736158e-17</td>\n",
              "      <td>-7.018540e-17</td>\n",
              "    </tr>\n",
              "    <tr>\n",
              "      <th>std</th>\n",
              "      <td>1.000109e+00</td>\n",
              "      <td>1.000109e+00</td>\n",
              "    </tr>\n",
              "    <tr>\n",
              "      <th>min</th>\n",
              "      <td>-9.790511e-01</td>\n",
              "      <td>-1.690416e+00</td>\n",
              "    </tr>\n",
              "    <tr>\n",
              "      <th>25%</th>\n",
              "      <td>-4.063476e-01</td>\n",
              "      <td>-7.392225e-01</td>\n",
              "    </tr>\n",
              "    <tr>\n",
              "      <th>50%</th>\n",
              "      <td>-1.614470e-01</td>\n",
              "      <td>-2.752259e-01</td>\n",
              "    </tr>\n",
              "    <tr>\n",
              "      <th>75%</th>\n",
              "      <td>1.826966e-01</td>\n",
              "      <td>5.483681e-01</td>\n",
              "    </tr>\n",
              "    <tr>\n",
              "      <th>max</th>\n",
              "      <td>4.618529e+01</td>\n",
              "      <td>8.795908e+00</td>\n",
              "    </tr>\n",
              "  </tbody>\n",
              "</table>\n",
              "</div>"
            ],
            "text/plain": [
              "                  0             1\n",
              "count  4.600000e+03  4.600000e+03\n",
              "mean   6.736158e-17 -7.018540e-17\n",
              "std    1.000109e+00  1.000109e+00\n",
              "min   -9.790511e-01 -1.690416e+00\n",
              "25%   -4.063476e-01 -7.392225e-01\n",
              "50%   -1.614470e-01 -2.752259e-01\n",
              "75%    1.826966e-01  5.483681e-01\n",
              "max    4.618529e+01  8.795908e+00"
            ]
          },
          "metadata": {},
          "execution_count": 13
        }
      ]
    },
    {
      "cell_type": "markdown",
      "metadata": {
        "id": "l39jCbkhNDVI"
      },
      "source": [
        "The magnitude of all values look same now."
      ]
    },
    {
      "cell_type": "code",
      "metadata": {
        "colab": {
          "base_uri": "https://localhost:8080/",
          "height": 203
        },
        "id": "rHIgbXi0M_03",
        "outputId": "3464800b-9004-4d3d-bdc8-9548bd8e450e"
      },
      "source": [
        "#Changing the scaled data set type to panda dataframe\n",
        "df_scaled = pd.DataFrame(data_scaled, columns= data_subset.columns[0:])\n",
        "#View the first 5 rows after scaling\n",
        "df_scaled.head()"
      ],
      "execution_count": 14,
      "outputs": [
        {
          "output_type": "execute_result",
          "data": {
            "text/html": [
              "<div>\n",
              "<style scoped>\n",
              "    .dataframe tbody tr th:only-of-type {\n",
              "        vertical-align: middle;\n",
              "    }\n",
              "\n",
              "    .dataframe tbody tr th {\n",
              "        vertical-align: top;\n",
              "    }\n",
              "\n",
              "    .dataframe thead th {\n",
              "        text-align: right;\n",
              "    }\n",
              "</style>\n",
              "<table border=\"1\" class=\"dataframe\">\n",
              "  <thead>\n",
              "    <tr style=\"text-align: right;\">\n",
              "      <th></th>\n",
              "      <th>price</th>\n",
              "      <th>sqft_above</th>\n",
              "    </tr>\n",
              "  </thead>\n",
              "  <tbody>\n",
              "    <tr>\n",
              "      <th>0</th>\n",
              "      <td>-0.423864</td>\n",
              "      <td>-0.565224</td>\n",
              "    </tr>\n",
              "    <tr>\n",
              "      <th>1</th>\n",
              "      <td>3.249598</td>\n",
              "      <td>1.789559</td>\n",
              "    </tr>\n",
              "    <tr>\n",
              "      <th>2</th>\n",
              "      <td>-0.372424</td>\n",
              "      <td>0.119171</td>\n",
              "    </tr>\n",
              "    <tr>\n",
              "      <th>3</th>\n",
              "      <td>-0.234071</td>\n",
              "      <td>-0.959621</td>\n",
              "    </tr>\n",
              "    <tr>\n",
              "      <th>4</th>\n",
              "      <td>-0.003482</td>\n",
              "      <td>-0.797222</td>\n",
              "    </tr>\n",
              "  </tbody>\n",
              "</table>\n",
              "</div>"
            ],
            "text/plain": [
              "      price  sqft_above\n",
              "0 -0.423864   -0.565224\n",
              "1  3.249598    1.789559\n",
              "2 -0.372424    0.119171\n",
              "3 -0.234071   -0.959621\n",
              "4 -0.003482   -0.797222"
            ]
          },
          "metadata": {},
          "execution_count": 14
        }
      ]
    },
    {
      "cell_type": "code",
      "metadata": {
        "colab": {
          "base_uri": "https://localhost:8080/"
        },
        "id": "NHgvlrtcQapd",
        "outputId": "899c388c-0469-42ed-bd32-4b56dc0a7902"
      },
      "source": [
        "#Defining the kmeans function with initializion as kmeans++\n",
        "kmeans = KMeans(n_clusters=2, init='k-means++')\n",
        "\n",
        "#Fitting the k-means algorithm on scaled data \n",
        "kmeans.fit(df_scaled)"
      ],
      "execution_count": 15,
      "outputs": [
        {
          "output_type": "execute_result",
          "data": {
            "text/plain": [
              "KMeans(n_clusters=2)"
            ]
          },
          "metadata": {},
          "execution_count": 15
        }
      ]
    },
    {
      "cell_type": "markdown",
      "metadata": {
        "id": "Z14tEHVDRgHf"
      },
      "source": [
        "To calculate how well formed the k-means clusters are we calculate the intertia."
      ]
    },
    {
      "cell_type": "code",
      "metadata": {
        "colab": {
          "base_uri": "https://localhost:8080/"
        },
        "id": "ia7cm9iaRZvN",
        "outputId": "7d717dd3-29d8-4a13-a9d1-a3e09068ab9a"
      },
      "source": [
        "kmeans.inertia_"
      ],
      "execution_count": 16,
      "outputs": [
        {
          "output_type": "execute_result",
          "data": {
            "text/plain": [
              "5629.503976656404"
            ]
          },
          "metadata": {},
          "execution_count": 16
        }
      ]
    },
    {
      "cell_type": "code",
      "metadata": {
        "colab": {
          "base_uri": "https://localhost:8080/",
          "height": 388
        },
        "id": "9JSCAMgpSGxa",
        "outputId": "7df5815d-f154-4e63-be07-72edb3ef1db2"
      },
      "source": [
        "#Fiting multiple k-means algorithm and storing the values in a list\n",
        "SSE = []\n",
        "for cluster in range(1, 20):\n",
        "  kmeans = KMeans(n_clusters = cluster, init = 'k-means++')\n",
        "  kmeans.fit(df_scaled)\n",
        "  SSE.append(kmeans.inertia_)\n",
        "\n",
        "#Converting the results into dataframe and plotting them\n",
        "frame = pd.DataFrame({'Cluster': range(1, 20), 'SSE': SSE})\n",
        "plt.figure(figsize=(10,6))\n",
        "plt.plot(frame['Cluster'], frame['SSE'], marker = 'o')\n",
        "plt.xlabel('Number of Clusters')\n",
        "plt.ylabel('Inertia')\n",
        "plt.show()\n"
      ],
      "execution_count": 17,
      "outputs": [
        {
          "output_type": "display_data",
          "data": {
            "image/png": "[encoded data removed]",
            "text/plain": [
              "<Figure size 720x432 with 1 Axes>"
            ]
          },
          "metadata": {
            "needs_background": "light"
          }
        }
      ]
    },
    {
      "cell_type": "code",
      "metadata": {
        "id": "cJKyuZvCxpUb"
      },
      "source": [
        "def kmeans_func(no_cluster, df):\n",
        "  kmeans = KMeans(n_clusters = no_cluster, init = 'k-means++')\n",
        "  kmeans.fit(df)\n",
        "  pred = kmeans.predict(df)\n",
        "  kmeans.cluster_centers_\n",
        "  return (pred, kmeans.cluster_centers_)"
      ],
      "execution_count": 18,
      "outputs": []
    },
    {
      "cell_type": "markdown",
      "metadata": {
        "id": "-1Ml7YLvzgbc"
      },
      "source": [
        "Apply the above function to clusters 3 to 7"
      ]
    },
    {
      "cell_type": "code",
      "metadata": {
        "id": "yIiKTpMWzeHQ"
      },
      "source": [
        "pred_3, centroid_3 = kmeans_func(3, df_scaled)\n",
        "pred_4, centroid_4 = kmeans_func(4, df_scaled)\n",
        "pred_5, centroid_5 = kmeans_func(5, df_scaled)\n",
        "pred_6, centroid_6 = kmeans_func(6, df_scaled)\n",
        "pred_7, centroid_7 = kmeans_func(7, df_scaled)"
      ],
      "execution_count": 19,
      "outputs": []
    },
    {
      "cell_type": "markdown",
      "metadata": {
        "id": "AwRW1G1x00U2"
      },
      "source": [
        "Lets look at the value counts"
      ]
    },
    {
      "cell_type": "code",
      "metadata": {
        "colab": {
          "base_uri": "https://localhost:8080/"
        },
        "id": "O8ma3iWa05Oi",
        "outputId": "0879f203-e17e-4757-86fe-ff6e1a0735cb"
      },
      "source": [
        "unique, counts = np.unique(pred_3, return_counts=True)\n",
        "print(np.asarray((unique, counts)).T)"
      ],
      "execution_count": 20,
      "outputs": [
        {
          "output_type": "stream",
          "name": "stdout",
          "text": [
            "[[   0 3317]\n",
            " [   1 1281]\n",
            " [   2    2]]\n"
          ]
        }
      ]
    },
    {
      "cell_type": "markdown",
      "metadata": {
        "id": "oSe-F9Be1gW_"
      },
      "source": [
        "Here we can plot for each cluster for better understanding."
      ]
    },
    {
      "cell_type": "code",
      "metadata": {
        "id": "wPkSQ7Qh1lhY"
      },
      "source": [
        "df_scaled = np.array(df_scaled)"
      ],
      "execution_count": 21,
      "outputs": []
    },
    {
      "cell_type": "code",
      "metadata": {
        "colab": {
          "base_uri": "https://localhost:8080/",
          "height": 458
        },
        "id": "t4RHXnWP1uhZ",
        "outputId": "67aef40f-fcf9-4ab0-c06b-fd900aad1a3c"
      },
      "source": [
        "plt.figure(figsize = (15, 7))\n",
        "sns.scatterplot(df_scaled[pred_3 == 0,0], df_scaled[pred_3 == 0,1], color = 'purple', label = 'Cluster 1', s = 50)\n",
        "sns.scatterplot(df_scaled[pred_3 == 1,0], df_scaled[pred_3 == 1,1], color = 'blue', label = 'Cluster 2', s = 50)\n",
        "sns.scatterplot(df_scaled[pred_3 == 2,0], df_scaled[pred_3 == 2,1], color = 'orange', label = 'Cluster 3', s = 50)\n",
        "sns.scatterplot(centroid_3[:,0], centroid_3[:,1], color = 'red', label = 'Centroids', marker=',')\n",
        "plt.grid(False)\n",
        "plt.title('House Pricing in Sydney and Melbourne')\n",
        "plt.xlabel('price')\n",
        "plt.ylabel('sqft_above')\n",
        "plt.legend()\n",
        "plt.show()"
      ],
      "execution_count": 22,
      "outputs": [
        {
          "output_type": "display_data",
          "data": {
            "image/png": "[encoded data removed]",
            "text/plain": [
              "<Figure size 1080x504 with 1 Axes>"
            ]
          },
          "metadata": {
            "needs_background": "light"
          }
        }
      ]
    },
    {
      "cell_type": "markdown",
      "metadata": {
        "id": "ObeE4sv8gnlz"
      },
      "source": [
        "#Findings\n",
        "\n",
        "* The purple and the blue clusters lay in the lower end of pricing levels\n",
        "* As the square footage gradually increases so does the price of the house but still stays in the lower end of pricing. \n",
        "* Most houses have a price range that is under 20M, which is represented by the purple and blue clusters.\n",
        "* The outliers represented by yellow as seen are very few and are in the price range of 20M to 40M.\n",
        "* A centroid lies at the 1:1 point on the graph of the blue cluster which means, in this cluster the pricing of the house steadily increases with the square footage of the house.\n",
        "* A centroid in the purple cluster is at a 1:2 point in the graph indicating for a lower price a higher square footage is got. This could be due to the change in the region to an area that has houses with lower prices.\n",
        "* The outliers are providing lower square footage at a higher price, this could be due to the change in region where that area has a higher real estate value.\n"
      ]
    },
    {
      "cell_type": "markdown",
      "metadata": {
        "id": "f_2P0OKbYBNP"
      },
      "source": [
        "# 2. TENSOR FLOW APPROACH"
      ]
    },
    {
      "cell_type": "code",
      "metadata": {
        "colab": {
          "base_uri": "https://localhost:8080/"
        },
        "id": "eMbg5CJXiIpK",
        "outputId": "81ed0663-84e9-4825-ddc4-6c4d91934de1"
      },
      "source": [
        "#Import tensorflow libraries\n",
        "%tensorflow_version 2.x \n",
        "import tensorflow as tf\n",
        "tf.keras.backend.clear_session()\n",
        "print(tf.__version__)"
      ],
      "execution_count": 23,
      "outputs": [
        {
          "output_type": "stream",
          "name": "stdout",
          "text": [
            "2.7.0\n"
          ]
        }
      ]
    },
    {
      "cell_type": "code",
      "metadata": {
        "colab": {
          "base_uri": "https://localhost:8080/"
        },
        "id": "PrIx_VBNjHNl",
        "outputId": "f0cc411c-8380-4c07-cd4c-f125bf06f870"
      },
      "source": [
        "df = data\n",
        "print(df)"
      ],
      "execution_count": 24,
      "outputs": [
        {
          "output_type": "stream",
          "name": "stdout",
          "text": [
            "                     date         price  bedrooms  ...       city  statezip  country\n",
            "0     2014-05-02 00:00:00  3.130000e+05       3.0  ...  Shoreline  WA 98133      USA\n",
            "1     2014-05-02 00:00:00  2.384000e+06       5.0  ...    Seattle  WA 98119      USA\n",
            "2     2014-05-02 00:00:00  3.420000e+05       3.0  ...       Kent  WA 98042      USA\n",
            "3     2014-05-02 00:00:00  4.200000e+05       3.0  ...   Bellevue  WA 98008      USA\n",
            "4     2014-05-02 00:00:00  5.500000e+05       4.0  ...    Redmond  WA 98052      USA\n",
            "...                   ...           ...       ...  ...        ...       ...      ...\n",
            "4595  2014-07-09 00:00:00  3.081667e+05       3.0  ...    Seattle  WA 98133      USA\n",
            "4596  2014-07-09 00:00:00  5.343333e+05       3.0  ...   Bellevue  WA 98007      USA\n",
            "4597  2014-07-09 00:00:00  4.169042e+05       3.0  ...     Renton  WA 98059      USA\n",
            "4598  2014-07-10 00:00:00  2.034000e+05       4.0  ...    Seattle  WA 98178      USA\n",
            "4599  2014-07-10 00:00:00  2.206000e+05       3.0  ...  Covington  WA 98042      USA\n",
            "\n",
            "[4600 rows x 18 columns]\n"
          ]
        }
      ]
    },
    {
      "cell_type": "code",
      "metadata": {
        "colab": {
          "base_uri": "https://localhost:8080/",
          "height": 357
        },
        "id": "1As_UfdZjmgx",
        "outputId": "8ec9177d-0ddf-4785-f2d9-6163bda51831"
      },
      "source": [
        "#Considering only price and sqft_above values\n",
        "data_sub = df.loc[:,['price', 'sqft_above']]\n",
        "data_sub.head(10)"
      ],
      "execution_count": 25,
      "outputs": [
        {
          "output_type": "execute_result",
          "data": {
            "text/html": [
              "<div>\n",
              "<style scoped>\n",
              "    .dataframe tbody tr th:only-of-type {\n",
              "        vertical-align: middle;\n",
              "    }\n",
              "\n",
              "    .dataframe tbody tr th {\n",
              "        vertical-align: top;\n",
              "    }\n",
              "\n",
              "    .dataframe thead th {\n",
              "        text-align: right;\n",
              "    }\n",
              "</style>\n",
              "<table border=\"1\" class=\"dataframe\">\n",
              "  <thead>\n",
              "    <tr style=\"text-align: right;\">\n",
              "      <th></th>\n",
              "      <th>price</th>\n",
              "      <th>sqft_above</th>\n",
              "    </tr>\n",
              "  </thead>\n",
              "  <tbody>\n",
              "    <tr>\n",
              "      <th>0</th>\n",
              "      <td>313000.0</td>\n",
              "      <td>1340</td>\n",
              "    </tr>\n",
              "    <tr>\n",
              "      <th>1</th>\n",
              "      <td>2384000.0</td>\n",
              "      <td>3370</td>\n",
              "    </tr>\n",
              "    <tr>\n",
              "      <th>2</th>\n",
              "      <td>342000.0</td>\n",
              "      <td>1930</td>\n",
              "    </tr>\n",
              "    <tr>\n",
              "      <th>3</th>\n",
              "      <td>420000.0</td>\n",
              "      <td>1000</td>\n",
              "    </tr>\n",
              "    <tr>\n",
              "      <th>4</th>\n",
              "      <td>550000.0</td>\n",
              "      <td>1140</td>\n",
              "    </tr>\n",
              "    <tr>\n",
              "      <th>5</th>\n",
              "      <td>490000.0</td>\n",
              "      <td>880</td>\n",
              "    </tr>\n",
              "    <tr>\n",
              "      <th>6</th>\n",
              "      <td>335000.0</td>\n",
              "      <td>1350</td>\n",
              "    </tr>\n",
              "    <tr>\n",
              "      <th>7</th>\n",
              "      <td>482000.0</td>\n",
              "      <td>2710</td>\n",
              "    </tr>\n",
              "    <tr>\n",
              "      <th>8</th>\n",
              "      <td>452500.0</td>\n",
              "      <td>1570</td>\n",
              "    </tr>\n",
              "    <tr>\n",
              "      <th>9</th>\n",
              "      <td>640000.0</td>\n",
              "      <td>1520</td>\n",
              "    </tr>\n",
              "  </tbody>\n",
              "</table>\n",
              "</div>"
            ],
            "text/plain": [
              "       price  sqft_above\n",
              "0   313000.0        1340\n",
              "1  2384000.0        3370\n",
              "2   342000.0        1930\n",
              "3   420000.0        1000\n",
              "4   550000.0        1140\n",
              "5   490000.0         880\n",
              "6   335000.0        1350\n",
              "7   482000.0        2710\n",
              "8   452500.0        1570\n",
              "9   640000.0        1520"
            ]
          },
          "metadata": {},
          "execution_count": 25
        }
      ]
    },
    {
      "cell_type": "code",
      "metadata": {
        "colab": {
          "base_uri": "https://localhost:8080/",
          "height": 296
        },
        "id": "sIiEf7QOkAQO",
        "outputId": "eb8b6ede-6ef4-4eb8-ea8c-fbc623d5df91"
      },
      "source": [
        "#Plot the points using the values in cloumns price and sqft_above\n",
        "plt.scatter(data_sub['price'],data_sub['sqft_above'])"
      ],
      "execution_count": 26,
      "outputs": [
        {
          "output_type": "execute_result",
          "data": {
            "text/plain": [
              "<matplotlib.collections.PathCollection at 0x7ff07f50d410>"
            ]
          },
          "metadata": {},
          "execution_count": 26
        },
        {
          "output_type": "display_data",
          "data": {
            "image/png": "[encoded data removed]",
            "text/plain": [
              "<Figure size 432x288 with 1 Axes>"
            ]
          },
          "metadata": {
            "needs_background": "light"
          }
        }
      ]
    },
    {
      "cell_type": "code",
      "metadata": {
        "colab": {
          "base_uri": "https://localhost:8080/",
          "height": 203
        },
        "id": "GUj7r7rCkRbM",
        "outputId": "607901ab-bd8a-4813-b7c1-492f2e5cadb9"
      },
      "source": [
        "#Standardising the data\n",
        "from sklearn.preprocessing import MinMaxScaler\n",
        "scaler2 = MinMaxScaler()\n",
        "scaler2.fit(data_sub[['price']])\n",
        "data_sub['price'] = scaler2.transform(data_sub[['price']])\n",
        "\n",
        "scaler2.fit(data_sub[['sqft_above']])\n",
        "data_sub['sqft_above'] = scaler2.transform(data_sub[['sqft_above']])\n",
        "\n",
        "data_sub.head()"
      ],
      "execution_count": 27,
      "outputs": [
        {
          "output_type": "execute_result",
          "data": {
            "text/html": [
              "<div>\n",
              "<style scoped>\n",
              "    .dataframe tbody tr th:only-of-type {\n",
              "        vertical-align: middle;\n",
              "    }\n",
              "\n",
              "    .dataframe tbody tr th {\n",
              "        vertical-align: top;\n",
              "    }\n",
              "\n",
              "    .dataframe thead th {\n",
              "        text-align: right;\n",
              "    }\n",
              "</style>\n",
              "<table border=\"1\" class=\"dataframe\">\n",
              "  <thead>\n",
              "    <tr style=\"text-align: right;\">\n",
              "      <th></th>\n",
              "      <th>price</th>\n",
              "      <th>sqft_above</th>\n",
              "    </tr>\n",
              "  </thead>\n",
              "  <tbody>\n",
              "    <tr>\n",
              "      <th>0</th>\n",
              "      <td>0.011771</td>\n",
              "      <td>0.107301</td>\n",
              "    </tr>\n",
              "    <tr>\n",
              "      <th>1</th>\n",
              "      <td>0.089658</td>\n",
              "      <td>0.331858</td>\n",
              "    </tr>\n",
              "    <tr>\n",
              "      <th>2</th>\n",
              "      <td>0.012862</td>\n",
              "      <td>0.172566</td>\n",
              "    </tr>\n",
              "    <tr>\n",
              "      <th>3</th>\n",
              "      <td>0.015795</td>\n",
              "      <td>0.069690</td>\n",
              "    </tr>\n",
              "    <tr>\n",
              "      <th>4</th>\n",
              "      <td>0.020684</td>\n",
              "      <td>0.085177</td>\n",
              "    </tr>\n",
              "  </tbody>\n",
              "</table>\n",
              "</div>"
            ],
            "text/plain": [
              "      price  sqft_above\n",
              "0  0.011771    0.107301\n",
              "1  0.089658    0.331858\n",
              "2  0.012862    0.172566\n",
              "3  0.015795    0.069690\n",
              "4  0.020684    0.085177"
            ]
          },
          "metadata": {},
          "execution_count": 27
        }
      ]
    },
    {
      "cell_type": "code",
      "metadata": {
        "colab": {
          "base_uri": "https://localhost:8080/"
        },
        "id": "hYsLjGg6mobG",
        "outputId": "63ea3aa8-2ae8-4b86-972f-8b277333b17f"
      },
      "source": [
        "# using tensorflow estimator KMeans method\n",
        "\n",
        "num_points = 200\n",
        "\n",
        "def cluster_func():\n",
        "  return tf.compat.v1.train.limit_epochs(\n",
        "      tf.convert_to_tensor(data_sub.to_numpy(), dtype=tf.float32), num_epochs=1)\n",
        "  \n",
        "num_clusters = 4\n",
        "kmeans = tf.compat.v1.estimator.experimental.KMeans(\n",
        "    num_clusters = num_clusters, use_mini_batch=False)"
      ],
      "execution_count": 28,
      "outputs": [
        {
          "output_type": "stream",
          "name": "stdout",
          "text": [
            "INFO:tensorflow:Using default config.\n",
            "WARNING:tensorflow:Using temporary folder as model directory: /tmp/tmpn8wpgue2\n",
            "INFO:tensorflow:Using config: {'_model_dir': '/tmp/tmpn8wpgue2', '_tf_random_seed': None, '_save_summary_steps': 100, '_save_checkpoints_steps': None, '_save_checkpoints_secs': 600, '_session_config': allow_soft_placement: true\n",
            "graph_options {\n",
            "  rewrite_options {\n",
            "    meta_optimizer_iterations: ONE\n",
            "  }\n",
            "}\n",
            ", '_keep_checkpoint_max': 5, '_keep_checkpoint_every_n_hours': 10000, '_log_step_count_steps': 100, '_train_distribute': None, '_device_fn': None, '_protocol': None, '_eval_distribute': None, '_experimental_distribute': None, '_experimental_max_worker_delay_secs': None, '_session_creation_timeout_secs': 7200, '_checkpoint_save_graph_def': True, '_service': None, '_cluster_spec': ClusterSpec({}), '_task_type': 'worker', '_task_id': 0, '_global_id_in_cluster': 0, '_master': '', '_evaluation_master': '', '_is_chief': True, '_num_ps_replicas': 0, '_num_worker_replicas': 1}\n"
          ]
        }
      ]
    },
    {
      "cell_type": "code",
      "metadata": {
        "colab": {
          "base_uri": "https://localhost:8080/"
        },
        "id": "X2J_NJrlnhlK",
        "outputId": "f3644e61-0865-4d9f-e43d-fe7d8a5f9479"
      },
      "source": [
        "# Train the algorithm\n",
        "num_iterations = 15\n",
        "previous_centers = None\n",
        "for _ in range(num_iterations):\n",
        "  kmeans.train(cluster_func)\n",
        "  cluster_centers = kmeans.cluster_centers()\n",
        "  if previous_centers is not None:\n",
        "    print ('delta:', cluster_centers - previous_centers)\n",
        "  previous_centers = cluster_centers\n",
        "  print ('score:', kmeans.score(cluster_func))\n",
        "print ('cluster centers:', cluster_centers)\n",
        "\n",
        "# map the input points to their clusters\n",
        "cluster_indices = list(kmeans.predict_cluster_index(cluster_func))\n",
        "for i, point in enumerate(data_sub):\n",
        "  cluster_index = cluster_indices[i]\n",
        "  center = cluster_centers[cluster_index]"
      ],
      "execution_count": 29,
      "outputs": [
        {
          "output_type": "stream",
          "name": "stdout",
          "text": [
            "WARNING:tensorflow:From /usr/local/lib/python3.7/dist-packages/tensorflow/python/training/training_util.py:401: Variable.initialized_value (from tensorflow.python.ops.variables) is deprecated and will be removed in a future version.\n",
            "Instructions for updating:\n",
            "Use Variable.read_value. Variables in 2.X are initialized automatically both in eager and graph (inside tf.defun) contexts.\n",
            "WARNING:tensorflow:From <ipython-input-28-859877f88bc1>:7: limit_epochs (from tensorflow.python.training.input) is deprecated and will be removed in a future version.\n",
            "Instructions for updating:\n",
            "Queue-based input pipelines have been replaced by `tf.data`. Use `tf.data.Dataset.from_tensors(tensor).repeat(num_epochs)`.\n",
            "WARNING:tensorflow:From /usr/local/lib/python3.7/dist-packages/tensorflow/python/training/input.py:112: BaseResourceVariable.count_up_to (from tensorflow.python.ops.resource_variable_ops) is deprecated and will be removed in a future version.\n",
            "Instructions for updating:\n",
            "Prefer Dataset.range instead.\n",
            "INFO:tensorflow:Calling model_fn.\n",
            "INFO:tensorflow:Done calling model_fn.\n",
            "INFO:tensorflow:Create CheckpointSaverHook.\n",
            "INFO:tensorflow:Graph was finalized.\n",
            "INFO:tensorflow:Running local_init_op.\n",
            "INFO:tensorflow:Done running local_init_op.\n",
            "INFO:tensorflow:Calling checkpoint listeners before saving checkpoint 0...\n",
            "INFO:tensorflow:Saving checkpoints for 0 into /tmp/tmpn8wpgue2/model.ckpt.\n",
            "INFO:tensorflow:Calling checkpoint listeners after saving checkpoint 0...\n",
            "INFO:tensorflow:Calling checkpoint listeners before saving checkpoint 1...\n",
            "INFO:tensorflow:Saving checkpoints for 1 into /tmp/tmpn8wpgue2/model.ckpt.\n",
            "INFO:tensorflow:Calling checkpoint listeners after saving checkpoint 1...\n",
            "INFO:tensorflow:Loss for final step: None.\n",
            "INFO:tensorflow:Calling model_fn.\n",
            "INFO:tensorflow:Done calling model_fn.\n",
            "INFO:tensorflow:Starting evaluation at 2021-12-01T00:19:13\n",
            "INFO:tensorflow:Graph was finalized.\n",
            "INFO:tensorflow:Restoring parameters from /tmp/tmpn8wpgue2/model.ckpt-1\n",
            "INFO:tensorflow:Running local_init_op.\n",
            "INFO:tensorflow:Done running local_init_op.\n",
            "INFO:tensorflow:Evaluation [1/1]\n",
            "INFO:tensorflow:Inference Time : 0.17636s\n",
            "INFO:tensorflow:Finished evaluation at 2021-12-01-00:19:13\n",
            "INFO:tensorflow:Saving dict for global step 1: global_step = 1, loss = 16.068396, score = 16.068396\n",
            "INFO:tensorflow:Saving 'checkpoint_path' summary for global step 1: /tmp/tmpn8wpgue2/model.ckpt-1\n",
            "score: 16.068396\n",
            "INFO:tensorflow:Calling model_fn.\n",
            "INFO:tensorflow:Done calling model_fn.\n",
            "INFO:tensorflow:Create CheckpointSaverHook.\n",
            "INFO:tensorflow:Graph was finalized.\n",
            "INFO:tensorflow:Restoring parameters from /tmp/tmpn8wpgue2/model.ckpt-1\n",
            "WARNING:tensorflow:From /usr/local/lib/python3.7/dist-packages/tensorflow/python/training/saver.py:1165: get_checkpoint_mtimes (from tensorflow.python.training.checkpoint_management) is deprecated and will be removed in a future version.\n",
            "Instructions for updating:\n",
            "Use standard file utilities to get mtimes.\n",
            "INFO:tensorflow:Running local_init_op.\n",
            "INFO:tensorflow:Done running local_init_op.\n",
            "INFO:tensorflow:Calling checkpoint listeners before saving checkpoint 1...\n",
            "INFO:tensorflow:Saving checkpoints for 1 into /tmp/tmpn8wpgue2/model.ckpt.\n",
            "INFO:tensorflow:Calling checkpoint listeners after saving checkpoint 1...\n",
            "INFO:tensorflow:loss = 16.068396, step = 1\n",
            "INFO:tensorflow:Calling checkpoint listeners before saving checkpoint 3...\n",
            "INFO:tensorflow:Saving checkpoints for 3 into /tmp/tmpn8wpgue2/model.ckpt.\n",
            "INFO:tensorflow:Calling checkpoint listeners after saving checkpoint 3...\n",
            "INFO:tensorflow:Loss for final step: 16.068396.\n",
            "delta: [[ 0.00149265  0.05361882]\n",
            " [-0.00073544  0.00141539]\n",
            " [ 0.00920983  0.00292327]\n",
            " [ 0.00590415 -0.02312207]]\n",
            "INFO:tensorflow:Calling model_fn.\n",
            "INFO:tensorflow:Done calling model_fn.\n",
            "INFO:tensorflow:Starting evaluation at 2021-12-01T00:19:14\n",
            "INFO:tensorflow:Graph was finalized.\n",
            "INFO:tensorflow:Restoring parameters from /tmp/tmpn8wpgue2/model.ckpt-3\n",
            "INFO:tensorflow:Running local_init_op.\n",
            "INFO:tensorflow:Done running local_init_op.\n",
            "INFO:tensorflow:Evaluation [1/1]\n",
            "INFO:tensorflow:Inference Time : 0.14440s\n",
            "INFO:tensorflow:Finished evaluation at 2021-12-01-00:19:14\n",
            "INFO:tensorflow:Saving dict for global step 3: global_step = 3, loss = 9.982402, score = 9.982402\n",
            "INFO:tensorflow:Saving 'checkpoint_path' summary for global step 3: /tmp/tmpn8wpgue2/model.ckpt-3\n",
            "score: 9.982402\n",
            "INFO:tensorflow:Calling model_fn.\n",
            "INFO:tensorflow:Done calling model_fn.\n",
            "INFO:tensorflow:Create CheckpointSaverHook.\n",
            "INFO:tensorflow:Graph was finalized.\n",
            "INFO:tensorflow:Restoring parameters from /tmp/tmpn8wpgue2/model.ckpt-3\n",
            "INFO:tensorflow:Running local_init_op.\n",
            "INFO:tensorflow:Done running local_init_op.\n",
            "INFO:tensorflow:Calling checkpoint listeners before saving checkpoint 3...\n",
            "INFO:tensorflow:Saving checkpoints for 3 into /tmp/tmpn8wpgue2/model.ckpt.\n",
            "INFO:tensorflow:Calling checkpoint listeners after saving checkpoint 3...\n",
            "INFO:tensorflow:loss = 9.982402, step = 3\n",
            "INFO:tensorflow:Calling checkpoint listeners before saving checkpoint 5...\n",
            "INFO:tensorflow:Saving checkpoints for 5 into /tmp/tmpn8wpgue2/model.ckpt.\n",
            "INFO:tensorflow:Calling checkpoint listeners after saving checkpoint 5...\n",
            "INFO:tensorflow:Loss for final step: 9.982402.\n",
            "delta: [[ 0.00200681  0.02439946]\n",
            " [-0.00251134 -0.00553441]\n",
            " [ 0.00253801  0.01398486]\n",
            " [-0.00014991 -0.00523715]]\n",
            "INFO:tensorflow:Calling model_fn.\n",
            "INFO:tensorflow:Done calling model_fn.\n",
            "INFO:tensorflow:Starting evaluation at 2021-12-01T00:19:15\n",
            "INFO:tensorflow:Graph was finalized.\n",
            "INFO:tensorflow:Restoring parameters from /tmp/tmpn8wpgue2/model.ckpt-5\n",
            "INFO:tensorflow:Running local_init_op.\n",
            "INFO:tensorflow:Done running local_init_op.\n",
            "INFO:tensorflow:Evaluation [1/1]\n",
            "INFO:tensorflow:Inference Time : 0.14649s\n",
            "INFO:tensorflow:Finished evaluation at 2021-12-01-00:19:15\n",
            "INFO:tensorflow:Saving dict for global step 5: global_step = 5, loss = 8.594232, score = 8.594232\n",
            "INFO:tensorflow:Saving 'checkpoint_path' summary for global step 5: /tmp/tmpn8wpgue2/model.ckpt-5\n",
            "score: 8.594232\n",
            "INFO:tensorflow:Calling model_fn.\n",
            "INFO:tensorflow:Done calling model_fn.\n",
            "INFO:tensorflow:Create CheckpointSaverHook.\n",
            "INFO:tensorflow:Graph was finalized.\n",
            "INFO:tensorflow:Restoring parameters from /tmp/tmpn8wpgue2/model.ckpt-5\n",
            "INFO:tensorflow:Running local_init_op.\n",
            "INFO:tensorflow:Done running local_init_op.\n",
            "INFO:tensorflow:Calling checkpoint listeners before saving checkpoint 5...\n",
            "INFO:tensorflow:Saving checkpoints for 5 into /tmp/tmpn8wpgue2/model.ckpt.\n",
            "INFO:tensorflow:Calling checkpoint listeners after saving checkpoint 5...\n",
            "INFO:tensorflow:loss = 8.594232, step = 5\n",
            "INFO:tensorflow:Calling checkpoint listeners before saving checkpoint 7...\n",
            "INFO:tensorflow:Saving checkpoints for 7 into /tmp/tmpn8wpgue2/model.ckpt.\n",
            "INFO:tensorflow:Calling checkpoint listeners after saving checkpoint 7...\n",
            "INFO:tensorflow:Loss for final step: 8.594232.\n",
            "delta: [[ 0.00185498  0.01919845]\n",
            " [-0.00064633 -0.00120428]\n",
            " [ 0.00110918  0.01120628]\n",
            " [-0.00017471 -0.00255082]]\n",
            "INFO:tensorflow:Calling model_fn.\n",
            "INFO:tensorflow:Done calling model_fn.\n",
            "INFO:tensorflow:Starting evaluation at 2021-12-01T00:19:16\n",
            "INFO:tensorflow:Graph was finalized.\n",
            "INFO:tensorflow:Restoring parameters from /tmp/tmpn8wpgue2/model.ckpt-7\n",
            "INFO:tensorflow:Running local_init_op.\n",
            "INFO:tensorflow:Done running local_init_op.\n",
            "INFO:tensorflow:Evaluation [1/1]\n",
            "INFO:tensorflow:Inference Time : 0.15109s\n",
            "INFO:tensorflow:Finished evaluation at 2021-12-01-00:19:16\n",
            "INFO:tensorflow:Saving dict for global step 7: global_step = 7, loss = 7.857404, score = 7.857404\n",
            "INFO:tensorflow:Saving 'checkpoint_path' summary for global step 7: /tmp/tmpn8wpgue2/model.ckpt-7\n",
            "score: 7.857404\n",
            "INFO:tensorflow:Calling model_fn.\n",
            "INFO:tensorflow:Done calling model_fn.\n",
            "INFO:tensorflow:Create CheckpointSaverHook.\n",
            "INFO:tensorflow:Graph was finalized.\n",
            "INFO:tensorflow:Restoring parameters from /tmp/tmpn8wpgue2/model.ckpt-7\n",
            "INFO:tensorflow:Running local_init_op.\n",
            "INFO:tensorflow:Done running local_init_op.\n",
            "INFO:tensorflow:Calling checkpoint listeners before saving checkpoint 7...\n",
            "INFO:tensorflow:Saving checkpoints for 7 into /tmp/tmpn8wpgue2/model.ckpt.\n",
            "INFO:tensorflow:Calling checkpoint listeners after saving checkpoint 7...\n",
            "INFO:tensorflow:loss = 7.857404, step = 7\n",
            "INFO:tensorflow:Calling checkpoint listeners before saving checkpoint 9...\n",
            "INFO:tensorflow:Saving checkpoints for 9 into /tmp/tmpn8wpgue2/model.ckpt.\n",
            "WARNING:tensorflow:From /usr/local/lib/python3.7/dist-packages/tensorflow/python/training/saver.py:1058: remove_checkpoint (from tensorflow.python.training.checkpoint_management) is deprecated and will be removed in a future version.\n",
            "Instructions for updating:\n",
            "Use standard file APIs to delete files with this prefix.\n",
            "INFO:tensorflow:Calling checkpoint listeners after saving checkpoint 9...\n",
            "INFO:tensorflow:Loss for final step: 7.857404.\n",
            "delta: [[ 1.9085892e-03  1.5373796e-02]\n",
            " [-1.2220256e-04  1.1680424e-03]\n",
            " [ 4.5289099e-04  9.4207078e-03]\n",
            " [ 3.2382086e-06 -1.0123774e-03]]\n",
            "INFO:tensorflow:Calling model_fn.\n",
            "INFO:tensorflow:Done calling model_fn.\n",
            "INFO:tensorflow:Starting evaluation at 2021-12-01T00:19:17\n",
            "INFO:tensorflow:Graph was finalized.\n",
            "INFO:tensorflow:Restoring parameters from /tmp/tmpn8wpgue2/model.ckpt-9\n",
            "INFO:tensorflow:Running local_init_op.\n",
            "INFO:tensorflow:Done running local_init_op.\n",
            "INFO:tensorflow:Evaluation [1/1]\n",
            "INFO:tensorflow:Inference Time : 0.13707s\n",
            "INFO:tensorflow:Finished evaluation at 2021-12-01-00:19:17\n",
            "INFO:tensorflow:Saving dict for global step 9: global_step = 9, loss = 7.4308634, score = 7.4308634\n",
            "INFO:tensorflow:Saving 'checkpoint_path' summary for global step 9: /tmp/tmpn8wpgue2/model.ckpt-9\n",
            "score: 7.4308634\n",
            "INFO:tensorflow:Calling model_fn.\n",
            "INFO:tensorflow:Done calling model_fn.\n",
            "INFO:tensorflow:Create CheckpointSaverHook.\n",
            "INFO:tensorflow:Graph was finalized.\n",
            "INFO:tensorflow:Restoring parameters from /tmp/tmpn8wpgue2/model.ckpt-9\n",
            "INFO:tensorflow:Running local_init_op.\n",
            "INFO:tensorflow:Done running local_init_op.\n",
            "INFO:tensorflow:Calling checkpoint listeners before saving checkpoint 9...\n",
            "INFO:tensorflow:Saving checkpoints for 9 into /tmp/tmpn8wpgue2/model.ckpt.\n",
            "INFO:tensorflow:Calling checkpoint listeners after saving checkpoint 9...\n",
            "INFO:tensorflow:loss = 7.4308634, step = 9\n",
            "INFO:tensorflow:Calling checkpoint listeners before saving checkpoint 11...\n",
            "INFO:tensorflow:Saving checkpoints for 11 into /tmp/tmpn8wpgue2/model.ckpt.\n",
            "INFO:tensorflow:Calling checkpoint listeners after saving checkpoint 11...\n",
            "INFO:tensorflow:Loss for final step: 7.4308634.\n",
            "delta: [[1.1756085e-03 1.0130376e-02]\n",
            " [3.6153942e-06 1.9264370e-03]\n",
            " [5.2849576e-04 6.5598339e-03]\n",
            " [6.2575564e-06 1.8045306e-05]]\n",
            "INFO:tensorflow:Calling model_fn.\n",
            "INFO:tensorflow:Done calling model_fn.\n",
            "INFO:tensorflow:Starting evaluation at 2021-12-01T00:19:18\n",
            "INFO:tensorflow:Graph was finalized.\n",
            "INFO:tensorflow:Restoring parameters from /tmp/tmpn8wpgue2/model.ckpt-11\n",
            "INFO:tensorflow:Running local_init_op.\n",
            "INFO:tensorflow:Done running local_init_op.\n",
            "INFO:tensorflow:Evaluation [1/1]\n",
            "INFO:tensorflow:Inference Time : 0.14829s\n",
            "INFO:tensorflow:Finished evaluation at 2021-12-01-00:19:18\n",
            "INFO:tensorflow:Saving dict for global step 11: global_step = 11, loss = 7.2484245, score = 7.2484245\n",
            "INFO:tensorflow:Saving 'checkpoint_path' summary for global step 11: /tmp/tmpn8wpgue2/model.ckpt-11\n",
            "score: 7.2484245\n",
            "INFO:tensorflow:Calling model_fn.\n",
            "INFO:tensorflow:Done calling model_fn.\n",
            "INFO:tensorflow:Create CheckpointSaverHook.\n",
            "INFO:tensorflow:Graph was finalized.\n",
            "INFO:tensorflow:Restoring parameters from /tmp/tmpn8wpgue2/model.ckpt-11\n",
            "INFO:tensorflow:Running local_init_op.\n",
            "INFO:tensorflow:Done running local_init_op.\n",
            "INFO:tensorflow:Calling checkpoint listeners before saving checkpoint 11...\n",
            "INFO:tensorflow:Saving checkpoints for 11 into /tmp/tmpn8wpgue2/model.ckpt.\n",
            "INFO:tensorflow:Calling checkpoint listeners after saving checkpoint 11...\n",
            "INFO:tensorflow:loss = 7.2484245, step = 11\n",
            "INFO:tensorflow:Calling checkpoint listeners before saving checkpoint 13...\n",
            "INFO:tensorflow:Saving checkpoints for 13 into /tmp/tmpn8wpgue2/model.ckpt.\n",
            "INFO:tensorflow:Calling checkpoint listeners after saving checkpoint 13...\n",
            "INFO:tensorflow:Loss for final step: 7.2484245.\n",
            "delta: [[7.5226277e-04 5.3001642e-03]\n",
            " [5.7345256e-05 2.2078007e-03]\n",
            " [3.8173608e-04 4.5657456e-03]\n",
            " [6.8228692e-06 4.4958293e-04]]\n",
            "INFO:tensorflow:Calling model_fn.\n",
            "INFO:tensorflow:Done calling model_fn.\n",
            "INFO:tensorflow:Starting evaluation at 2021-12-01T00:19:19\n",
            "INFO:tensorflow:Graph was finalized.\n",
            "INFO:tensorflow:Restoring parameters from /tmp/tmpn8wpgue2/model.ckpt-13\n",
            "INFO:tensorflow:Running local_init_op.\n",
            "INFO:tensorflow:Done running local_init_op.\n",
            "INFO:tensorflow:Evaluation [1/1]\n",
            "INFO:tensorflow:Inference Time : 0.15738s\n",
            "INFO:tensorflow:Finished evaluation at 2021-12-01-00:19:19\n",
            "INFO:tensorflow:Saving dict for global step 13: global_step = 13, loss = 7.161051, score = 7.161051\n",
            "INFO:tensorflow:Saving 'checkpoint_path' summary for global step 13: /tmp/tmpn8wpgue2/model.ckpt-13\n",
            "score: 7.161051\n",
            "INFO:tensorflow:Calling model_fn.\n",
            "INFO:tensorflow:Done calling model_fn.\n",
            "INFO:tensorflow:Create CheckpointSaverHook.\n",
            "INFO:tensorflow:Graph was finalized.\n",
            "INFO:tensorflow:Restoring parameters from /tmp/tmpn8wpgue2/model.ckpt-13\n",
            "INFO:tensorflow:Running local_init_op.\n",
            "INFO:tensorflow:Done running local_init_op.\n",
            "INFO:tensorflow:Calling checkpoint listeners before saving checkpoint 13...\n",
            "INFO:tensorflow:Saving checkpoints for 13 into /tmp/tmpn8wpgue2/model.ckpt.\n",
            "INFO:tensorflow:Calling checkpoint listeners after saving checkpoint 13...\n",
            "INFO:tensorflow:loss = 7.161051, step = 13\n",
            "INFO:tensorflow:Calling checkpoint listeners before saving checkpoint 15...\n",
            "INFO:tensorflow:Saving checkpoints for 15 into /tmp/tmpn8wpgue2/model.ckpt.\n",
            "INFO:tensorflow:Calling checkpoint listeners after saving checkpoint 15...\n",
            "INFO:tensorflow:Loss for final step: 7.161051.\n",
            "delta: [[9.5105916e-04 5.0285757e-03]\n",
            " [1.3346970e-04 2.3711473e-03]\n",
            " [2.1868013e-04 4.2823553e-03]\n",
            " [3.7516467e-05 7.4420869e-04]]\n",
            "INFO:tensorflow:Calling model_fn.\n",
            "INFO:tensorflow:Done calling model_fn.\n",
            "INFO:tensorflow:Starting evaluation at 2021-12-01T00:19:20\n",
            "INFO:tensorflow:Graph was finalized.\n",
            "INFO:tensorflow:Restoring parameters from /tmp/tmpn8wpgue2/model.ckpt-15\n",
            "INFO:tensorflow:Running local_init_op.\n",
            "INFO:tensorflow:Done running local_init_op.\n",
            "INFO:tensorflow:Evaluation [1/1]\n",
            "INFO:tensorflow:Inference Time : 0.17228s\n",
            "INFO:tensorflow:Finished evaluation at 2021-12-01-00:19:20\n",
            "INFO:tensorflow:Saving dict for global step 15: global_step = 15, loss = 7.080384, score = 7.080384\n",
            "INFO:tensorflow:Saving 'checkpoint_path' summary for global step 15: /tmp/tmpn8wpgue2/model.ckpt-15\n",
            "score: 7.080384\n",
            "INFO:tensorflow:Calling model_fn.\n",
            "INFO:tensorflow:Done calling model_fn.\n",
            "INFO:tensorflow:Create CheckpointSaverHook.\n",
            "INFO:tensorflow:Graph was finalized.\n",
            "INFO:tensorflow:Restoring parameters from /tmp/tmpn8wpgue2/model.ckpt-15\n",
            "INFO:tensorflow:Running local_init_op.\n",
            "INFO:tensorflow:Done running local_init_op.\n",
            "INFO:tensorflow:Calling checkpoint listeners before saving checkpoint 15...\n",
            "INFO:tensorflow:Saving checkpoints for 15 into /tmp/tmpn8wpgue2/model.ckpt.\n",
            "INFO:tensorflow:Calling checkpoint listeners after saving checkpoint 15...\n",
            "INFO:tensorflow:loss = 7.080384, step = 15\n",
            "INFO:tensorflow:Calling checkpoint listeners before saving checkpoint 17...\n",
            "INFO:tensorflow:Saving checkpoints for 17 into /tmp/tmpn8wpgue2/model.ckpt.\n",
            "INFO:tensorflow:Calling checkpoint listeners after saving checkpoint 17...\n",
            "INFO:tensorflow:Loss for final step: 7.080384.\n",
            "delta: [[8.7974221e-04 5.6404769e-03]\n",
            " [1.4043041e-04 2.1672398e-03]\n",
            " [2.4286471e-04 3.8970709e-03]\n",
            " [6.3880347e-05 8.1581622e-04]]\n",
            "INFO:tensorflow:Calling model_fn.\n",
            "INFO:tensorflow:Done calling model_fn.\n",
            "INFO:tensorflow:Starting evaluation at 2021-12-01T00:19:21\n",
            "INFO:tensorflow:Graph was finalized.\n",
            "INFO:tensorflow:Restoring parameters from /tmp/tmpn8wpgue2/model.ckpt-17\n",
            "INFO:tensorflow:Running local_init_op.\n",
            "INFO:tensorflow:Done running local_init_op.\n",
            "INFO:tensorflow:Evaluation [1/1]\n",
            "INFO:tensorflow:Inference Time : 0.14739s\n",
            "INFO:tensorflow:Finished evaluation at 2021-12-01-00:19:21\n",
            "INFO:tensorflow:Saving dict for global step 17: global_step = 17, loss = 7.012108, score = 7.012108\n",
            "INFO:tensorflow:Saving 'checkpoint_path' summary for global step 17: /tmp/tmpn8wpgue2/model.ckpt-17\n",
            "score: 7.012108\n",
            "INFO:tensorflow:Calling model_fn.\n",
            "INFO:tensorflow:Done calling model_fn.\n",
            "INFO:tensorflow:Create CheckpointSaverHook.\n",
            "INFO:tensorflow:Graph was finalized.\n",
            "INFO:tensorflow:Restoring parameters from /tmp/tmpn8wpgue2/model.ckpt-17\n",
            "INFO:tensorflow:Running local_init_op.\n",
            "INFO:tensorflow:Done running local_init_op.\n",
            "INFO:tensorflow:Calling checkpoint listeners before saving checkpoint 17...\n",
            "INFO:tensorflow:Saving checkpoints for 17 into /tmp/tmpn8wpgue2/model.ckpt.\n",
            "INFO:tensorflow:Calling checkpoint listeners after saving checkpoint 17...\n",
            "INFO:tensorflow:loss = 7.012108, step = 17\n",
            "INFO:tensorflow:Calling checkpoint listeners before saving checkpoint 19...\n",
            "INFO:tensorflow:Saving checkpoints for 19 into /tmp/tmpn8wpgue2/model.ckpt.\n",
            "INFO:tensorflow:Calling checkpoint listeners after saving checkpoint 19...\n",
            "INFO:tensorflow:Loss for final step: 7.012108.\n",
            "delta: [[3.4032390e-04 3.9149225e-03]\n",
            " [1.3798848e-04 1.9237548e-03]\n",
            " [2.9881857e-04 3.1600744e-03]\n",
            " [3.8669445e-05 6.2996894e-04]]\n",
            "INFO:tensorflow:Calling model_fn.\n",
            "INFO:tensorflow:Done calling model_fn.\n",
            "INFO:tensorflow:Starting evaluation at 2021-12-01T00:19:22\n",
            "INFO:tensorflow:Graph was finalized.\n",
            "INFO:tensorflow:Restoring parameters from /tmp/tmpn8wpgue2/model.ckpt-19\n",
            "INFO:tensorflow:Running local_init_op.\n",
            "INFO:tensorflow:Done running local_init_op.\n",
            "INFO:tensorflow:Evaluation [1/1]\n",
            "INFO:tensorflow:Inference Time : 0.15180s\n",
            "INFO:tensorflow:Finished evaluation at 2021-12-01-00:19:22\n",
            "INFO:tensorflow:Saving dict for global step 19: global_step = 19, loss = 6.970508, score = 6.970508\n",
            "INFO:tensorflow:Saving 'checkpoint_path' summary for global step 19: /tmp/tmpn8wpgue2/model.ckpt-19\n",
            "score: 6.970508\n",
            "INFO:tensorflow:Calling model_fn.\n",
            "INFO:tensorflow:Done calling model_fn.\n",
            "INFO:tensorflow:Create CheckpointSaverHook.\n",
            "INFO:tensorflow:Graph was finalized.\n",
            "INFO:tensorflow:Restoring parameters from /tmp/tmpn8wpgue2/model.ckpt-19\n",
            "INFO:tensorflow:Running local_init_op.\n",
            "INFO:tensorflow:Done running local_init_op.\n",
            "INFO:tensorflow:Calling checkpoint listeners before saving checkpoint 19...\n",
            "INFO:tensorflow:Saving checkpoints for 19 into /tmp/tmpn8wpgue2/model.ckpt.\n",
            "INFO:tensorflow:Calling checkpoint listeners after saving checkpoint 19...\n",
            "INFO:tensorflow:loss = 6.970508, step = 19\n",
            "INFO:tensorflow:Calling checkpoint listeners before saving checkpoint 21...\n",
            "INFO:tensorflow:Saving checkpoints for 21 into /tmp/tmpn8wpgue2/model.ckpt.\n",
            "INFO:tensorflow:Calling checkpoint listeners after saving checkpoint 21...\n",
            "INFO:tensorflow:Loss for final step: 6.970508.\n",
            "delta: [[3.2808632e-04 2.9516518e-03]\n",
            " [3.2622367e-05 1.6349107e-03]\n",
            " [2.6838295e-04 2.5219768e-03]\n",
            " [7.0434064e-05 5.3939968e-04]]\n",
            "INFO:tensorflow:Calling model_fn.\n",
            "INFO:tensorflow:Done calling model_fn.\n",
            "INFO:tensorflow:Starting evaluation at 2021-12-01T00:19:23\n",
            "INFO:tensorflow:Graph was finalized.\n",
            "INFO:tensorflow:Restoring parameters from /tmp/tmpn8wpgue2/model.ckpt-21\n",
            "INFO:tensorflow:Running local_init_op.\n",
            "INFO:tensorflow:Done running local_init_op.\n",
            "INFO:tensorflow:Evaluation [1/1]\n",
            "INFO:tensorflow:Inference Time : 0.15099s\n",
            "INFO:tensorflow:Finished evaluation at 2021-12-01-00:19:23\n",
            "INFO:tensorflow:Saving dict for global step 21: global_step = 21, loss = 6.942902, score = 6.942902\n",
            "INFO:tensorflow:Saving 'checkpoint_path' summary for global step 21: /tmp/tmpn8wpgue2/model.ckpt-21\n",
            "score: 6.942902\n",
            "INFO:tensorflow:Calling model_fn.\n",
            "INFO:tensorflow:Done calling model_fn.\n",
            "INFO:tensorflow:Create CheckpointSaverHook.\n",
            "INFO:tensorflow:Graph was finalized.\n",
            "INFO:tensorflow:Restoring parameters from /tmp/tmpn8wpgue2/model.ckpt-21\n",
            "INFO:tensorflow:Running local_init_op.\n",
            "INFO:tensorflow:Done running local_init_op.\n",
            "INFO:tensorflow:Calling checkpoint listeners before saving checkpoint 21...\n",
            "INFO:tensorflow:Saving checkpoints for 21 into /tmp/tmpn8wpgue2/model.ckpt.\n",
            "INFO:tensorflow:Calling checkpoint listeners after saving checkpoint 21...\n",
            "INFO:tensorflow:loss = 6.942902, step = 21\n",
            "INFO:tensorflow:Calling checkpoint listeners before saving checkpoint 23...\n",
            "INFO:tensorflow:Saving checkpoints for 23 into /tmp/tmpn8wpgue2/model.ckpt.\n",
            "INFO:tensorflow:Calling checkpoint listeners after saving checkpoint 23...\n",
            "INFO:tensorflow:Loss for final step: 6.942902.\n",
            "delta: [[3.5578012e-04 3.2589138e-03]\n",
            " [2.9833987e-05 1.4827400e-03]\n",
            " [2.3766235e-04 2.2559762e-03]\n",
            " [8.8659115e-05 5.9566647e-04]]\n",
            "INFO:tensorflow:Calling model_fn.\n",
            "INFO:tensorflow:Done calling model_fn.\n",
            "INFO:tensorflow:Starting evaluation at 2021-12-01T00:19:24\n",
            "INFO:tensorflow:Graph was finalized.\n",
            "INFO:tensorflow:Restoring parameters from /tmp/tmpn8wpgue2/model.ckpt-23\n",
            "INFO:tensorflow:Running local_init_op.\n",
            "INFO:tensorflow:Done running local_init_op.\n",
            "INFO:tensorflow:Evaluation [1/1]\n",
            "INFO:tensorflow:Inference Time : 0.15909s\n",
            "INFO:tensorflow:Finished evaluation at 2021-12-01-00:19:24\n",
            "INFO:tensorflow:Saving dict for global step 23: global_step = 23, loss = 6.9169273, score = 6.9169273\n",
            "INFO:tensorflow:Saving 'checkpoint_path' summary for global step 23: /tmp/tmpn8wpgue2/model.ckpt-23\n",
            "score: 6.9169273\n",
            "INFO:tensorflow:Calling model_fn.\n",
            "INFO:tensorflow:Done calling model_fn.\n",
            "INFO:tensorflow:Create CheckpointSaverHook.\n",
            "INFO:tensorflow:Graph was finalized.\n",
            "INFO:tensorflow:Restoring parameters from /tmp/tmpn8wpgue2/model.ckpt-23\n",
            "INFO:tensorflow:Running local_init_op.\n",
            "INFO:tensorflow:Done running local_init_op.\n",
            "INFO:tensorflow:Calling checkpoint listeners before saving checkpoint 23...\n",
            "INFO:tensorflow:Saving checkpoints for 23 into /tmp/tmpn8wpgue2/model.ckpt.\n",
            "INFO:tensorflow:Calling checkpoint listeners after saving checkpoint 23...\n",
            "INFO:tensorflow:loss = 6.9169273, step = 23\n",
            "INFO:tensorflow:Calling checkpoint listeners before saving checkpoint 25...\n",
            "INFO:tensorflow:Saving checkpoints for 25 into /tmp/tmpn8wpgue2/model.ckpt.\n",
            "INFO:tensorflow:Calling checkpoint listeners after saving checkpoint 25...\n",
            "INFO:tensorflow:Loss for final step: 6.9169273.\n",
            "delta: [[4.6039000e-04 4.2962432e-03]\n",
            " [1.2687594e-04 1.4286190e-03]\n",
            " [2.4006329e-04 2.6926845e-03]\n",
            " [1.3961457e-05 4.7024339e-04]]\n",
            "INFO:tensorflow:Calling model_fn.\n",
            "INFO:tensorflow:Done calling model_fn.\n",
            "INFO:tensorflow:Starting evaluation at 2021-12-01T00:19:25\n",
            "INFO:tensorflow:Graph was finalized.\n",
            "INFO:tensorflow:Restoring parameters from /tmp/tmpn8wpgue2/model.ckpt-25\n",
            "INFO:tensorflow:Running local_init_op.\n",
            "INFO:tensorflow:Done running local_init_op.\n",
            "INFO:tensorflow:Evaluation [1/1]\n",
            "INFO:tensorflow:Inference Time : 0.14966s\n",
            "INFO:tensorflow:Finished evaluation at 2021-12-01-00:19:25\n",
            "INFO:tensorflow:Saving dict for global step 25: global_step = 25, loss = 6.8794365, score = 6.8794365\n",
            "INFO:tensorflow:Saving 'checkpoint_path' summary for global step 25: /tmp/tmpn8wpgue2/model.ckpt-25\n",
            "score: 6.8794365\n",
            "INFO:tensorflow:Calling model_fn.\n",
            "INFO:tensorflow:Done calling model_fn.\n",
            "INFO:tensorflow:Create CheckpointSaverHook.\n",
            "INFO:tensorflow:Graph was finalized.\n",
            "INFO:tensorflow:Restoring parameters from /tmp/tmpn8wpgue2/model.ckpt-25\n",
            "INFO:tensorflow:Running local_init_op.\n",
            "INFO:tensorflow:Done running local_init_op.\n",
            "INFO:tensorflow:Calling checkpoint listeners before saving checkpoint 25...\n",
            "INFO:tensorflow:Saving checkpoints for 25 into /tmp/tmpn8wpgue2/model.ckpt.\n",
            "INFO:tensorflow:Calling checkpoint listeners after saving checkpoint 25...\n",
            "INFO:tensorflow:loss = 6.8794365, step = 25\n",
            "INFO:tensorflow:Calling checkpoint listeners before saving checkpoint 27...\n",
            "INFO:tensorflow:Saving checkpoints for 27 into /tmp/tmpn8wpgue2/model.ckpt.\n",
            "INFO:tensorflow:Calling checkpoint listeners after saving checkpoint 27...\n",
            "INFO:tensorflow:Loss for final step: 6.8794365.\n",
            "delta: [[ 9.4629824e-04  4.8788488e-03]\n",
            " [ 1.9272417e-04  1.1841804e-03]\n",
            " [ 3.0890107e-05  2.4080873e-03]\n",
            " [-1.2743287e-05  4.7370791e-04]]\n",
            "INFO:tensorflow:Calling model_fn.\n",
            "INFO:tensorflow:Done calling model_fn.\n",
            "INFO:tensorflow:Starting evaluation at 2021-12-01T00:19:26\n",
            "INFO:tensorflow:Graph was finalized.\n",
            "INFO:tensorflow:Restoring parameters from /tmp/tmpn8wpgue2/model.ckpt-27\n",
            "INFO:tensorflow:Running local_init_op.\n",
            "INFO:tensorflow:Done running local_init_op.\n",
            "INFO:tensorflow:Evaluation [1/1]\n",
            "INFO:tensorflow:Inference Time : 0.14938s\n",
            "INFO:tensorflow:Finished evaluation at 2021-12-01-00:19:26\n",
            "INFO:tensorflow:Saving dict for global step 27: global_step = 27, loss = 6.848766, score = 6.848766\n",
            "INFO:tensorflow:Saving 'checkpoint_path' summary for global step 27: /tmp/tmpn8wpgue2/model.ckpt-27\n",
            "score: 6.848766\n",
            "INFO:tensorflow:Calling model_fn.\n",
            "INFO:tensorflow:Done calling model_fn.\n",
            "INFO:tensorflow:Create CheckpointSaverHook.\n",
            "INFO:tensorflow:Graph was finalized.\n",
            "INFO:tensorflow:Restoring parameters from /tmp/tmpn8wpgue2/model.ckpt-27\n",
            "INFO:tensorflow:Running local_init_op.\n",
            "INFO:tensorflow:Done running local_init_op.\n",
            "INFO:tensorflow:Calling checkpoint listeners before saving checkpoint 27...\n",
            "INFO:tensorflow:Saving checkpoints for 27 into /tmp/tmpn8wpgue2/model.ckpt.\n",
            "INFO:tensorflow:Calling checkpoint listeners after saving checkpoint 27...\n",
            "INFO:tensorflow:loss = 6.848766, step = 27\n",
            "INFO:tensorflow:Calling checkpoint listeners before saving checkpoint 29...\n",
            "INFO:tensorflow:Saving checkpoints for 29 into /tmp/tmpn8wpgue2/model.ckpt.\n",
            "INFO:tensorflow:Calling checkpoint listeners after saving checkpoint 29...\n",
            "INFO:tensorflow:Loss for final step: 6.848766.\n",
            "delta: [[6.9820508e-04 3.7737787e-03]\n",
            " [6.4201653e-05 1.3435036e-03]\n",
            " [1.4781207e-04 2.3856014e-03]\n",
            " [3.9414503e-05 3.9258599e-04]]\n",
            "INFO:tensorflow:Calling model_fn.\n",
            "INFO:tensorflow:Done calling model_fn.\n",
            "INFO:tensorflow:Starting evaluation at 2021-12-01T00:19:27\n",
            "INFO:tensorflow:Graph was finalized.\n",
            "INFO:tensorflow:Restoring parameters from /tmp/tmpn8wpgue2/model.ckpt-29\n",
            "INFO:tensorflow:Running local_init_op.\n",
            "INFO:tensorflow:Done running local_init_op.\n",
            "INFO:tensorflow:Evaluation [1/1]\n",
            "INFO:tensorflow:Inference Time : 0.15455s\n",
            "INFO:tensorflow:Finished evaluation at 2021-12-01-00:19:27\n",
            "INFO:tensorflow:Saving dict for global step 29: global_step = 29, loss = 6.827131, score = 6.827131\n",
            "INFO:tensorflow:Saving 'checkpoint_path' summary for global step 29: /tmp/tmpn8wpgue2/model.ckpt-29\n",
            "score: 6.827131\n",
            "cluster centers: [[0.04329708 0.39517155]\n",
            " [0.02040887 0.14957702]\n",
            " [0.02566785 0.24814948]\n",
            " [0.01432225 0.0805077 ]]\n",
            "WARNING:tensorflow:Input graph does not use tf.data.Dataset or contain a QueueRunner. That means predict yields forever. This is probably a mistake.\n",
            "INFO:tensorflow:Calling model_fn.\n",
            "INFO:tensorflow:Done calling model_fn.\n",
            "INFO:tensorflow:Graph was finalized.\n",
            "INFO:tensorflow:Restoring parameters from /tmp/tmpn8wpgue2/model.ckpt-29\n",
            "INFO:tensorflow:Running local_init_op.\n",
            "INFO:tensorflow:Done running local_init_op.\n"
          ]
        }
      ]
    },
    {
      "cell_type": "code",
      "metadata": {
        "colab": {
          "base_uri": "https://localhost:8080/"
        },
        "id": "meuxYmxqn-ir",
        "outputId": "d3723966-c2fb-40e8-9000-cb86a110239a"
      },
      "source": [
        "centeroids = kmeans.cluster_centers()\n",
        "centeroids"
      ],
      "execution_count": 30,
      "outputs": [
        {
          "output_type": "execute_result",
          "data": {
            "text/plain": [
              "array([[0.04329708, 0.39517155],\n",
              "       [0.02040887, 0.14957702],\n",
              "       [0.02566785, 0.24814948],\n",
              "       [0.01432225, 0.0805077 ]], dtype=float32)"
            ]
          },
          "metadata": {},
          "execution_count": 30
        }
      ]
    },
    {
      "cell_type": "code",
      "metadata": {
        "colab": {
          "base_uri": "https://localhost:8080/",
          "height": 280
        },
        "id": "0Iyo1HVUoGBK",
        "outputId": "9afbb898-76aa-4944-a14c-ca60f5fcb5ac"
      },
      "source": [
        "data_sub.plot.scatter(x= 'sqft_above', y = 'price', c=cluster_indices, s=100, cmap='Paired')\n",
        "plt.scatter(centeroids[:, 0], centeroids[:, 1], c='black', s=100, alpha=0.5);"
      ],
      "execution_count": 31,
      "outputs": [
        {
          "output_type": "display_data",
          "data": {
            "image/png": "[encoded data removed]",
            "text/plain": [
              "<Figure size 432x288 with 1 Axes>"
            ]
          },
          "metadata": {
            "needs_background": "light"
          }
        }
      ]
    },
    {
      "cell_type": "markdown",
      "metadata": {
        "id": "5_HyFxjL_4f_"
      },
      "source": [
        "#**Hierarchical Clustering**\n",
        "\n",
        "Hierarchical clustering also known as hierarchical cluster analysis (HCA) is also a method of cluster analysis which seeks to build a hierarchy of clusters without having fixed number of cluster.\n",
        "\n",
        "Implemented Agglomerative hierarchical clustering using scikit library to find clusters and interpret them on Housing price prediction dataset."
      ]
    },
    {
      "cell_type": "markdown",
      "metadata": {
        "id": "Oi4Rs_MPoUUh"
      },
      "source": [
        "###**Perform preprocessing on dataset**"
      ]
    },
    {
      "cell_type": "code",
      "metadata": {
        "colab": {
          "base_uri": "https://localhost:8080/",
          "height": 279
        },
        "id": "1N7PGCSs3IjP",
        "outputId": "da29b9a3-e78e-4f0e-bd14-f772146a2c84"
      },
      "source": [
        "from sklearn.preprocessing import StandardScaler\n",
        "\n",
        "data_df = data.loc[data['price'] > 0]\n",
        "data_selected = data[['price', 'sqft_living']]\n",
        "\n",
        "scaler = StandardScaler()\n",
        "data_scaled = scaler.fit_transform(data_selected)\n",
        "\n",
        "plt.scatter(data_scaled[:,0],data_scaled[:,1])\n",
        "plt.xlabel('price')\n",
        "plt.ylabel('sqft_living')\n",
        "plt.show()\n"
      ],
      "execution_count": 33,
      "outputs": [
        {
          "output_type": "display_data",
          "data": {
            "image/png": "[encoded data removed]",
            "text/plain": [
              "<Figure size 432x288 with 1 Axes>"
            ]
          },
          "metadata": {
            "needs_background": "light"
          }
        }
      ]
    },
    {
      "cell_type": "markdown",
      "metadata": {
        "id": "lpzJ6L-6oaRo"
      },
      "source": [
        "###**Draw dendogram to decide the number of clusters required for the house rent prediction.**"
      ]
    },
    {
      "cell_type": "code",
      "metadata": {
        "colab": {
          "base_uri": "https://localhost:8080/",
          "height": 447
        },
        "id": "mY8EWw323V-v",
        "outputId": "9e041ac1-3c87-41e3-baa7-5cdef809cf08"
      },
      "source": [
        "import scipy.cluster.hierarchy as shc\n",
        "plt.figure(figsize=(10, 7))  \n",
        "plt.title(\"Dendrograms\")  \n",
        "dend = shc.dendrogram(shc.linkage(data_scaled, method='ward'))"
      ],
      "execution_count": 34,
      "outputs": [
        {
          "output_type": "display_data",
          "data": {
            "image/png": "[encoded data removed]",
            "text/plain": [
              "<Figure size 720x504 with 1 Axes>"
            ]
          },
          "metadata": {
            "needs_background": "light"
          }
        }
      ]
    },
    {
      "cell_type": "markdown",
      "metadata": {
        "id": "CX32wxTrohTP"
      },
      "source": [
        "##**The vertical line with maximum distance is the blue line, therefore we decide to cut the dendogram at that point**"
      ]
    },
    {
      "cell_type": "code",
      "metadata": {
        "colab": {
          "base_uri": "https://localhost:8080/",
          "height": 465
        },
        "id": "7FBL3_KF3r9d",
        "outputId": "96eeca0f-2270-4845-8a4c-ef366900e2b1"
      },
      "source": [
        "plt.figure(figsize=(10, 7))  \n",
        "plt.title(\"Dendrograms\")  \n",
        "dend = shc.dendrogram(shc.linkage(data_scaled, method='ward'))\n",
        "plt.axhline(y=72, color='b', linestyle='--')"
      ],
      "execution_count": 35,
      "outputs": [
        {
          "output_type": "execute_result",
          "data": {
            "text/plain": [
              "<matplotlib.lines.Line2D at 0x7ff0760c9910>"
            ]
          },
          "metadata": {},
          "execution_count": 35
        },
        {
          "output_type": "display_data",
          "data": {
            "image/png": "[encoded data removed]",
            "text/plain": [
              "<Figure size 720x504 with 1 Axes>"
            ]
          },
          "metadata": {
            "needs_background": "light"
          }
        }
      ]
    },
    {
      "cell_type": "markdown",
      "metadata": {
        "id": "Gc55M_b5ooL6"
      },
      "source": [
        "###**Got two vertical points that cut the blue line, so apply hierarchical clustering on two clusters**"
      ]
    },
    {
      "cell_type": "code",
      "metadata": {
        "colab": {
          "base_uri": "https://localhost:8080/"
        },
        "id": "L6JgSUDO3xHr",
        "outputId": "cbf13a64-3cff-44b1-e09c-04365e46677a"
      },
      "source": [
        "from sklearn.cluster import AgglomerativeClustering\n",
        "cluster = AgglomerativeClustering(n_clusters=2, affinity='euclidean', linkage='ward')  \n",
        "cluster.fit_predict(data_scaled)"
      ],
      "execution_count": 36,
      "outputs": [
        {
          "output_type": "execute_result",
          "data": {
            "text/plain": [
              "array([1, 0, 1, ..., 0, 1, 1])"
            ]
          },
          "metadata": {},
          "execution_count": 36
        }
      ]
    },
    {
      "cell_type": "markdown",
      "metadata": {
        "id": "kIh2sEtIouL9"
      },
      "source": [
        "###**Visualizing the two clusters**"
      ]
    },
    {
      "cell_type": "code",
      "metadata": {
        "colab": {
          "base_uri": "https://localhost:8080/",
          "height": 295
        },
        "id": "dA0tpUGq32hw",
        "outputId": "c6c4eea8-bcfd-4571-853d-add4b7d94604"
      },
      "source": [
        "cmap = ListedColormap(['green', 'pink']) \n",
        "plt.scatter(data_scaled[:,0], data_scaled[:,1], c=cluster.labels_, cmap =cmap) \n",
        "\n",
        "plt.title('sqft_living Vs pricing')\n",
        "plt.xlabel('square Feet')\n",
        "plt.ylabel('price')\n",
        "plt.show() "
      ],
      "execution_count": 37,
      "outputs": [
        {
          "output_type": "display_data",
          "data": {
            "image/png": "[encoded data removed]",
            "text/plain": [
              "<Figure size 432x288 with 1 Axes>"
            ]
          },
          "metadata": {
            "needs_background": "light"
          }
        }
      ]
    },
    {
      "cell_type": "markdown",
      "metadata": {
        "id": "IBTfDiVbEBlD"
      },
      "source": [
        "#**GMM Clustering**\n",
        "\n",
        "As its name implies, each cluster is modelled according to a different Gaussian distribution."
      ]
    },
    {
      "cell_type": "markdown",
      "metadata": {
        "id": "7fxcDljgPEOC"
      },
      "source": [
        "####**Creating a subset of the data using price, sqft_living**"
      ]
    },
    {
      "cell_type": "code",
      "metadata": {
        "id": "RanvwCWV9Soi"
      },
      "source": [
        "import pandas as pd\n",
        "import numpy as np\n",
        "from google.colab import files\n",
        "import matplotlib.pyplot as plt\n",
        "import io\n",
        "import requests\n",
        "%matplotlib inline\n",
        "from matplotlib.colors import ListedColormap"
      ],
      "execution_count": 38,
      "outputs": []
    },
    {
      "cell_type": "code",
      "metadata": {
        "colab": {
          "base_uri": "https://localhost:8080/",
          "height": 730
        },
        "id": "ZFqCIWE5-fZX",
        "outputId": "edc1e343-0d97-43a0-a9e7-00ca43b551f5"
      },
      "source": [
        "gmm_data=data\n",
        "gmm_data.head(10)"
      ],
      "execution_count": 39,
      "outputs": [
        {
          "output_type": "execute_result",
          "data": {
            "text/html": [
              "<div>\n",
              "<style scoped>\n",
              "    .dataframe tbody tr th:only-of-type {\n",
              "        vertical-align: middle;\n",
              "    }\n",
              "\n",
              "    .dataframe tbody tr th {\n",
              "        vertical-align: top;\n",
              "    }\n",
              "\n",
              "    .dataframe thead th {\n",
              "        text-align: right;\n",
              "    }\n",
              "</style>\n",
              "<table border=\"1\" class=\"dataframe\">\n",
              "  <thead>\n",
              "    <tr style=\"text-align: right;\">\n",
              "      <th></th>\n",
              "      <th>date</th>\n",
              "      <th>price</th>\n",
              "      <th>bedrooms</th>\n",
              "      <th>bathrooms</th>\n",
              "      <th>sqft_living</th>\n",
              "      <th>sqft_lot</th>\n",
              "      <th>floors</th>\n",
              "      <th>waterfront</th>\n",
              "      <th>view</th>\n",
              "      <th>condition</th>\n",
              "      <th>sqft_above</th>\n",
              "      <th>sqft_basement</th>\n",
              "      <th>yr_built</th>\n",
              "      <th>yr_renovated</th>\n",
              "      <th>street</th>\n",
              "      <th>city</th>\n",
              "      <th>statezip</th>\n",
              "      <th>country</th>\n",
              "    </tr>\n",
              "  </thead>\n",
              "  <tbody>\n",
              "    <tr>\n",
              "      <th>0</th>\n",
              "      <td>2014-05-02 00:00:00</td>\n",
              "      <td>313000.0</td>\n",
              "      <td>3.0</td>\n",
              "      <td>1.50</td>\n",
              "      <td>1340</td>\n",
              "      <td>7912</td>\n",
              "      <td>1.5</td>\n",
              "      <td>0</td>\n",
              "      <td>0</td>\n",
              "      <td>3</td>\n",
              "      <td>1340</td>\n",
              "      <td>0</td>\n",
              "      <td>1955</td>\n",
              "      <td>2005</td>\n",
              "      <td>18810 Densmore Ave N</td>\n",
              "      <td>Shoreline</td>\n",
              "      <td>WA 98133</td>\n",
              "      <td>USA</td>\n",
              "    </tr>\n",
              "    <tr>\n",
              "      <th>1</th>\n",
              "      <td>2014-05-02 00:00:00</td>\n",
              "      <td>2384000.0</td>\n",
              "      <td>5.0</td>\n",
              "      <td>2.50</td>\n",
              "      <td>3650</td>\n",
              "      <td>9050</td>\n",
              "      <td>2.0</td>\n",
              "      <td>0</td>\n",
              "      <td>4</td>\n",
              "      <td>5</td>\n",
              "      <td>3370</td>\n",
              "      <td>280</td>\n",
              "      <td>1921</td>\n",
              "      <td>0</td>\n",
              "      <td>709 W Blaine St</td>\n",
              "      <td>Seattle</td>\n",
              "      <td>WA 98119</td>\n",
              "      <td>USA</td>\n",
              "    </tr>\n",
              "    <tr>\n",
              "      <th>2</th>\n",
              "      <td>2014-05-02 00:00:00</td>\n",
              "      <td>342000.0</td>\n",
              "      <td>3.0</td>\n",
              "      <td>2.00</td>\n",
              "      <td>1930</td>\n",
              "      <td>11947</td>\n",
              "      <td>1.0</td>\n",
              "      <td>0</td>\n",
              "      <td>0</td>\n",
              "      <td>4</td>\n",
              "      <td>1930</td>\n",
              "      <td>0</td>\n",
              "      <td>1966</td>\n",
              "      <td>0</td>\n",
              "      <td>26206-26214 143rd Ave SE</td>\n",
              "      <td>Kent</td>\n",
              "      <td>WA 98042</td>\n",
              "      <td>USA</td>\n",
              "    </tr>\n",
              "    <tr>\n",
              "      <th>3</th>\n",
              "      <td>2014-05-02 00:00:00</td>\n",
              "      <td>420000.0</td>\n",
              "      <td>3.0</td>\n",
              "      <td>2.25</td>\n",
              "      <td>2000</td>\n",
              "      <td>8030</td>\n",
              "      <td>1.0</td>\n",
              "      <td>0</td>\n",
              "      <td>0</td>\n",
              "      <td>4</td>\n",
              "      <td>1000</td>\n",
              "      <td>1000</td>\n",
              "      <td>1963</td>\n",
              "      <td>0</td>\n",
              "      <td>857 170th Pl NE</td>\n",
              "      <td>Bellevue</td>\n",
              "      <td>WA 98008</td>\n",
              "      <td>USA</td>\n",
              "    </tr>\n",
              "    <tr>\n",
              "      <th>4</th>\n",
              "      <td>2014-05-02 00:00:00</td>\n",
              "      <td>550000.0</td>\n",
              "      <td>4.0</td>\n",
              "      <td>2.50</td>\n",
              "      <td>1940</td>\n",
              "      <td>10500</td>\n",
              "      <td>1.0</td>\n",
              "      <td>0</td>\n",
              "      <td>0</td>\n",
              "      <td>4</td>\n",
              "      <td>1140</td>\n",
              "      <td>800</td>\n",
              "      <td>1976</td>\n",
              "      <td>1992</td>\n",
              "      <td>9105 170th Ave NE</td>\n",
              "      <td>Redmond</td>\n",
              "      <td>WA 98052</td>\n",
              "      <td>USA</td>\n",
              "    </tr>\n",
              "    <tr>\n",
              "      <th>5</th>\n",
              "      <td>2014-05-02 00:00:00</td>\n",
              "      <td>490000.0</td>\n",
              "      <td>2.0</td>\n",
              "      <td>1.00</td>\n",
              "      <td>880</td>\n",
              "      <td>6380</td>\n",
              "      <td>1.0</td>\n",
              "      <td>0</td>\n",
              "      <td>0</td>\n",
              "      <td>3</td>\n",
              "      <td>880</td>\n",
              "      <td>0</td>\n",
              "      <td>1938</td>\n",
              "      <td>1994</td>\n",
              "      <td>522 NE 88th St</td>\n",
              "      <td>Seattle</td>\n",
              "      <td>WA 98115</td>\n",
              "      <td>USA</td>\n",
              "    </tr>\n",
              "    <tr>\n",
              "      <th>6</th>\n",
              "      <td>2014-05-02 00:00:00</td>\n",
              "      <td>335000.0</td>\n",
              "      <td>2.0</td>\n",
              "      <td>2.00</td>\n",
              "      <td>1350</td>\n",
              "      <td>2560</td>\n",
              "      <td>1.0</td>\n",
              "      <td>0</td>\n",
              "      <td>0</td>\n",
              "      <td>3</td>\n",
              "      <td>1350</td>\n",
              "      <td>0</td>\n",
              "      <td>1976</td>\n",
              "      <td>0</td>\n",
              "      <td>2616 174th Ave NE</td>\n",
              "      <td>Redmond</td>\n",
              "      <td>WA 98052</td>\n",
              "      <td>USA</td>\n",
              "    </tr>\n",
              "    <tr>\n",
              "      <th>7</th>\n",
              "      <td>2014-05-02 00:00:00</td>\n",
              "      <td>482000.0</td>\n",
              "      <td>4.0</td>\n",
              "      <td>2.50</td>\n",
              "      <td>2710</td>\n",
              "      <td>35868</td>\n",
              "      <td>2.0</td>\n",
              "      <td>0</td>\n",
              "      <td>0</td>\n",
              "      <td>3</td>\n",
              "      <td>2710</td>\n",
              "      <td>0</td>\n",
              "      <td>1989</td>\n",
              "      <td>0</td>\n",
              "      <td>23762 SE 253rd Pl</td>\n",
              "      <td>Maple Valley</td>\n",
              "      <td>WA 98038</td>\n",
              "      <td>USA</td>\n",
              "    </tr>\n",
              "    <tr>\n",
              "      <th>8</th>\n",
              "      <td>2014-05-02 00:00:00</td>\n",
              "      <td>452500.0</td>\n",
              "      <td>3.0</td>\n",
              "      <td>2.50</td>\n",
              "      <td>2430</td>\n",
              "      <td>88426</td>\n",
              "      <td>1.0</td>\n",
              "      <td>0</td>\n",
              "      <td>0</td>\n",
              "      <td>4</td>\n",
              "      <td>1570</td>\n",
              "      <td>860</td>\n",
              "      <td>1985</td>\n",
              "      <td>0</td>\n",
              "      <td>46611-46625 SE 129th St</td>\n",
              "      <td>North Bend</td>\n",
              "      <td>WA 98045</td>\n",
              "      <td>USA</td>\n",
              "    </tr>\n",
              "    <tr>\n",
              "      <th>9</th>\n",
              "      <td>2014-05-02 00:00:00</td>\n",
              "      <td>640000.0</td>\n",
              "      <td>4.0</td>\n",
              "      <td>2.00</td>\n",
              "      <td>1520</td>\n",
              "      <td>6200</td>\n",
              "      <td>1.5</td>\n",
              "      <td>0</td>\n",
              "      <td>0</td>\n",
              "      <td>3</td>\n",
              "      <td>1520</td>\n",
              "      <td>0</td>\n",
              "      <td>1945</td>\n",
              "      <td>2010</td>\n",
              "      <td>6811 55th Ave NE</td>\n",
              "      <td>Seattle</td>\n",
              "      <td>WA 98115</td>\n",
              "      <td>USA</td>\n",
              "    </tr>\n",
              "  </tbody>\n",
              "</table>\n",
              "</div>"
            ],
            "text/plain": [
              "                  date      price  bedrooms  ...          city  statezip  country\n",
              "0  2014-05-02 00:00:00   313000.0       3.0  ...     Shoreline  WA 98133      USA\n",
              "1  2014-05-02 00:00:00  2384000.0       5.0  ...       Seattle  WA 98119      USA\n",
              "2  2014-05-02 00:00:00   342000.0       3.0  ...          Kent  WA 98042      USA\n",
              "3  2014-05-02 00:00:00   420000.0       3.0  ...      Bellevue  WA 98008      USA\n",
              "4  2014-05-02 00:00:00   550000.0       4.0  ...       Redmond  WA 98052      USA\n",
              "5  2014-05-02 00:00:00   490000.0       2.0  ...       Seattle  WA 98115      USA\n",
              "6  2014-05-02 00:00:00   335000.0       2.0  ...       Redmond  WA 98052      USA\n",
              "7  2014-05-02 00:00:00   482000.0       4.0  ...  Maple Valley  WA 98038      USA\n",
              "8  2014-05-02 00:00:00   452500.0       3.0  ...    North Bend  WA 98045      USA\n",
              "9  2014-05-02 00:00:00   640000.0       4.0  ...       Seattle  WA 98115      USA\n",
              "\n",
              "[10 rows x 18 columns]"
            ]
          },
          "metadata": {},
          "execution_count": 39
        }
      ]
    },
    {
      "cell_type": "code",
      "metadata": {
        "colab": {
          "base_uri": "https://localhost:8080/",
          "height": 295
        },
        "id": "m0ewlu3h_A9k",
        "outputId": "c843fa31-e930-4ccf-8533-82890caacf91"
      },
      "source": [
        "gmm_data.describe()"
      ],
      "execution_count": 40,
      "outputs": [
        {
          "output_type": "execute_result",
          "data": {
            "text/html": [
              "<div>\n",
              "<style scoped>\n",
              "    .dataframe tbody tr th:only-of-type {\n",
              "        vertical-align: middle;\n",
              "    }\n",
              "\n",
              "    .dataframe tbody tr th {\n",
              "        vertical-align: top;\n",
              "    }\n",
              "\n",
              "    .dataframe thead th {\n",
              "        text-align: right;\n",
              "    }\n",
              "</style>\n",
              "<table border=\"1\" class=\"dataframe\">\n",
              "  <thead>\n",
              "    <tr style=\"text-align: right;\">\n",
              "      <th></th>\n",
              "      <th>price</th>\n",
              "      <th>bedrooms</th>\n",
              "      <th>bathrooms</th>\n",
              "      <th>sqft_living</th>\n",
              "      <th>sqft_lot</th>\n",
              "      <th>floors</th>\n",
              "      <th>waterfront</th>\n",
              "      <th>view</th>\n",
              "      <th>condition</th>\n",
              "      <th>sqft_above</th>\n",
              "      <th>sqft_basement</th>\n",
              "      <th>yr_built</th>\n",
              "      <th>yr_renovated</th>\n",
              "    </tr>\n",
              "  </thead>\n",
              "  <tbody>\n",
              "    <tr>\n",
              "      <th>count</th>\n",
              "      <td>4.600000e+03</td>\n",
              "      <td>4600.000000</td>\n",
              "      <td>4600.000000</td>\n",
              "      <td>4600.000000</td>\n",
              "      <td>4.600000e+03</td>\n",
              "      <td>4600.000000</td>\n",
              "      <td>4600.000000</td>\n",
              "      <td>4600.000000</td>\n",
              "      <td>4600.000000</td>\n",
              "      <td>4600.000000</td>\n",
              "      <td>4600.000000</td>\n",
              "      <td>4600.000000</td>\n",
              "      <td>4600.000000</td>\n",
              "    </tr>\n",
              "    <tr>\n",
              "      <th>mean</th>\n",
              "      <td>5.519630e+05</td>\n",
              "      <td>3.400870</td>\n",
              "      <td>2.160815</td>\n",
              "      <td>2139.346957</td>\n",
              "      <td>1.485252e+04</td>\n",
              "      <td>1.512065</td>\n",
              "      <td>0.007174</td>\n",
              "      <td>0.240652</td>\n",
              "      <td>3.451739</td>\n",
              "      <td>1827.265435</td>\n",
              "      <td>312.081522</td>\n",
              "      <td>1970.786304</td>\n",
              "      <td>808.608261</td>\n",
              "    </tr>\n",
              "    <tr>\n",
              "      <th>std</th>\n",
              "      <td>5.638347e+05</td>\n",
              "      <td>0.908848</td>\n",
              "      <td>0.783781</td>\n",
              "      <td>963.206916</td>\n",
              "      <td>3.588444e+04</td>\n",
              "      <td>0.538288</td>\n",
              "      <td>0.084404</td>\n",
              "      <td>0.778405</td>\n",
              "      <td>0.677230</td>\n",
              "      <td>862.168977</td>\n",
              "      <td>464.137228</td>\n",
              "      <td>29.731848</td>\n",
              "      <td>979.414536</td>\n",
              "    </tr>\n",
              "    <tr>\n",
              "      <th>min</th>\n",
              "      <td>0.000000e+00</td>\n",
              "      <td>0.000000</td>\n",
              "      <td>0.000000</td>\n",
              "      <td>370.000000</td>\n",
              "      <td>6.380000e+02</td>\n",
              "      <td>1.000000</td>\n",
              "      <td>0.000000</td>\n",
              "      <td>0.000000</td>\n",
              "      <td>1.000000</td>\n",
              "      <td>370.000000</td>\n",
              "      <td>0.000000</td>\n",
              "      <td>1900.000000</td>\n",
              "      <td>0.000000</td>\n",
              "    </tr>\n",
              "    <tr>\n",
              "      <th>25%</th>\n",
              "      <td>3.228750e+05</td>\n",
              "      <td>3.000000</td>\n",
              "      <td>1.750000</td>\n",
              "      <td>1460.000000</td>\n",
              "      <td>5.000750e+03</td>\n",
              "      <td>1.000000</td>\n",
              "      <td>0.000000</td>\n",
              "      <td>0.000000</td>\n",
              "      <td>3.000000</td>\n",
              "      <td>1190.000000</td>\n",
              "      <td>0.000000</td>\n",
              "      <td>1951.000000</td>\n",
              "      <td>0.000000</td>\n",
              "    </tr>\n",
              "    <tr>\n",
              "      <th>50%</th>\n",
              "      <td>4.609435e+05</td>\n",
              "      <td>3.000000</td>\n",
              "      <td>2.250000</td>\n",
              "      <td>1980.000000</td>\n",
              "      <td>7.683000e+03</td>\n",
              "      <td>1.500000</td>\n",
              "      <td>0.000000</td>\n",
              "      <td>0.000000</td>\n",
              "      <td>3.000000</td>\n",
              "      <td>1590.000000</td>\n",
              "      <td>0.000000</td>\n",
              "      <td>1976.000000</td>\n",
              "      <td>0.000000</td>\n",
              "    </tr>\n",
              "    <tr>\n",
              "      <th>75%</th>\n",
              "      <td>6.549625e+05</td>\n",
              "      <td>4.000000</td>\n",
              "      <td>2.500000</td>\n",
              "      <td>2620.000000</td>\n",
              "      <td>1.100125e+04</td>\n",
              "      <td>2.000000</td>\n",
              "      <td>0.000000</td>\n",
              "      <td>0.000000</td>\n",
              "      <td>4.000000</td>\n",
              "      <td>2300.000000</td>\n",
              "      <td>610.000000</td>\n",
              "      <td>1997.000000</td>\n",
              "      <td>1999.000000</td>\n",
              "    </tr>\n",
              "    <tr>\n",
              "      <th>max</th>\n",
              "      <td>2.659000e+07</td>\n",
              "      <td>9.000000</td>\n",
              "      <td>8.000000</td>\n",
              "      <td>13540.000000</td>\n",
              "      <td>1.074218e+06</td>\n",
              "      <td>3.500000</td>\n",
              "      <td>1.000000</td>\n",
              "      <td>4.000000</td>\n",
              "      <td>5.000000</td>\n",
              "      <td>9410.000000</td>\n",
              "      <td>4820.000000</td>\n",
              "      <td>2014.000000</td>\n",
              "      <td>2014.000000</td>\n",
              "    </tr>\n",
              "  </tbody>\n",
              "</table>\n",
              "</div>"
            ],
            "text/plain": [
              "              price     bedrooms  ...     yr_built  yr_renovated\n",
              "count  4.600000e+03  4600.000000  ...  4600.000000   4600.000000\n",
              "mean   5.519630e+05     3.400870  ...  1970.786304    808.608261\n",
              "std    5.638347e+05     0.908848  ...    29.731848    979.414536\n",
              "min    0.000000e+00     0.000000  ...  1900.000000      0.000000\n",
              "25%    3.228750e+05     3.000000  ...  1951.000000      0.000000\n",
              "50%    4.609435e+05     3.000000  ...  1976.000000      0.000000\n",
              "75%    6.549625e+05     4.000000  ...  1997.000000   1999.000000\n",
              "max    2.659000e+07     9.000000  ...  2014.000000   2014.000000\n",
              "\n",
              "[8 rows x 13 columns]"
            ]
          },
          "metadata": {},
          "execution_count": 40
        }
      ]
    },
    {
      "cell_type": "code",
      "metadata": {
        "colab": {
          "base_uri": "https://localhost:8080/",
          "height": 357
        },
        "id": "iL8aGX6u_FiQ",
        "outputId": "17750337-5aa2-451f-b8a8-1fce5b993b40"
      },
      "source": [
        "\n",
        "data_subset = gmm_data.loc[:,['price','sqft_living']]\n",
        "data_subset.head(10)"
      ],
      "execution_count": 41,
      "outputs": [
        {
          "output_type": "execute_result",
          "data": {
            "text/html": [
              "<div>\n",
              "<style scoped>\n",
              "    .dataframe tbody tr th:only-of-type {\n",
              "        vertical-align: middle;\n",
              "    }\n",
              "\n",
              "    .dataframe tbody tr th {\n",
              "        vertical-align: top;\n",
              "    }\n",
              "\n",
              "    .dataframe thead th {\n",
              "        text-align: right;\n",
              "    }\n",
              "</style>\n",
              "<table border=\"1\" class=\"dataframe\">\n",
              "  <thead>\n",
              "    <tr style=\"text-align: right;\">\n",
              "      <th></th>\n",
              "      <th>price</th>\n",
              "      <th>sqft_living</th>\n",
              "    </tr>\n",
              "  </thead>\n",
              "  <tbody>\n",
              "    <tr>\n",
              "      <th>0</th>\n",
              "      <td>313000.0</td>\n",
              "      <td>1340</td>\n",
              "    </tr>\n",
              "    <tr>\n",
              "      <th>1</th>\n",
              "      <td>2384000.0</td>\n",
              "      <td>3650</td>\n",
              "    </tr>\n",
              "    <tr>\n",
              "      <th>2</th>\n",
              "      <td>342000.0</td>\n",
              "      <td>1930</td>\n",
              "    </tr>\n",
              "    <tr>\n",
              "      <th>3</th>\n",
              "      <td>420000.0</td>\n",
              "      <td>2000</td>\n",
              "    </tr>\n",
              "    <tr>\n",
              "      <th>4</th>\n",
              "      <td>550000.0</td>\n",
              "      <td>1940</td>\n",
              "    </tr>\n",
              "    <tr>\n",
              "      <th>5</th>\n",
              "      <td>490000.0</td>\n",
              "      <td>880</td>\n",
              "    </tr>\n",
              "    <tr>\n",
              "      <th>6</th>\n",
              "      <td>335000.0</td>\n",
              "      <td>1350</td>\n",
              "    </tr>\n",
              "    <tr>\n",
              "      <th>7</th>\n",
              "      <td>482000.0</td>\n",
              "      <td>2710</td>\n",
              "    </tr>\n",
              "    <tr>\n",
              "      <th>8</th>\n",
              "      <td>452500.0</td>\n",
              "      <td>2430</td>\n",
              "    </tr>\n",
              "    <tr>\n",
              "      <th>9</th>\n",
              "      <td>640000.0</td>\n",
              "      <td>1520</td>\n",
              "    </tr>\n",
              "  </tbody>\n",
              "</table>\n",
              "</div>"
            ],
            "text/plain": [
              "       price  sqft_living\n",
              "0   313000.0         1340\n",
              "1  2384000.0         3650\n",
              "2   342000.0         1930\n",
              "3   420000.0         2000\n",
              "4   550000.0         1940\n",
              "5   490000.0          880\n",
              "6   335000.0         1350\n",
              "7   482000.0         2710\n",
              "8   452500.0         2430\n",
              "9   640000.0         1520"
            ]
          },
          "metadata": {},
          "execution_count": 41
        }
      ]
    },
    {
      "cell_type": "markdown",
      "metadata": {
        "id": "gqLapLjiPky2"
      },
      "source": [
        "###**Perform preprocessing on dataset**\n",
        "\n",
        "Removing the features having value 0\n",
        "\n",
        "Removing the outliers from the dataset for the selected features"
      ]
    },
    {
      "cell_type": "code",
      "metadata": {
        "colab": {
          "base_uri": "https://localhost:8080/",
          "height": 279
        },
        "id": "kaws-QzEPnih",
        "outputId": "ff4c4966-c89c-41fd-97e5-838c2d4691fe"
      },
      "source": [
        "from sklearn.preprocessing import StandardScaler\n",
        "from scipy import stats\n",
        "data_gmm = gmm_data.loc[data['price'] > 0]\n",
        "data_selected = data_gmm[['price', 'sqft_living']]\n",
        "outlier_free_data = data_selected[(np.abs(stats.zscore(data_selected)) < 3).all(axis=1)]\n",
        "\n",
        "scaler = StandardScaler()\n",
        "data_scaled = scaler.fit_transform(outlier_free_data)\n",
        "\n",
        "plt.scatter(data_scaled[:,0],data_scaled[:,1])\n",
        "plt.xlabel('price')\n",
        "plt.ylabel('sqft_living')\n",
        "plt.show()"
      ],
      "execution_count": 42,
      "outputs": [
        {
          "output_type": "display_data",
          "data": {
            "image/png": "[encoded data removed]",
            "text/plain": [
              "<Figure size 432x288 with 1 Axes>"
            ]
          },
          "metadata": {
            "needs_background": "light"
          }
        }
      ]
    },
    {
      "cell_type": "markdown",
      "metadata": {
        "id": "dYMSqQkvPvGG"
      },
      "source": [
        "###**Calculating the Silhoutte score to find the number of clusters using Scikit learn**"
      ]
    },
    {
      "cell_type": "code",
      "metadata": {
        "colab": {
          "base_uri": "https://localhost:8080/"
        },
        "id": "pxSdCvkqPv6q",
        "outputId": "36d71748-efd5-4b0d-c9c8-c96448aad2d5"
      },
      "source": [
        "# training gaussian mixture model\n",
        "from sklearn.metrics import silhouette_score\n",
        "from sklearn.mixture import GaussianMixture\n",
        "def find_best_n_clusters(data, clusterer, max_n_clusters, random_state, **kwargs):\n",
        "    \n",
        "    args = {i: j for i, j in kwargs.items() if i in clusterer.get_params(clusterer)}\n",
        "    if 'n_clusters' in clusterer.get_params(clusterer):\n",
        "        kms = True\n",
        "    else:\n",
        "        kms = False\n",
        "    args.pop('n_clusters' if kms else 'n_components', None)\n",
        "    args.update({'random_state': random_state})\n",
        "    score = {}\n",
        "    for i in range(2, max_n_clusters + 1):\n",
        "        args.update({'n_clusters' if kms else 'n_components': i})\n",
        "        km = clusterer(**args)\n",
        "        score[i] = silhouette_score(data, km.fit_predict(data), metric='cosine')\n",
        "    best = pd.Series(score).idxmax()\n",
        "    args.update({'n_clusters' if kms else 'n_components': best})\n",
        "    print(f'Best number of clusters is {best}')\n",
        "    return args \n",
        "find_best_n_clusters(data_scaled,GaussianMixture,30,None)"
      ],
      "execution_count": 43,
      "outputs": [
        {
          "output_type": "stream",
          "name": "stdout",
          "text": [
            "Best number of clusters is 2\n"
          ]
        },
        {
          "output_type": "execute_result",
          "data": {
            "text/plain": [
              "{'n_components': 2, 'random_state': None}"
            ]
          },
          "metadata": {},
          "execution_count": 43
        }
      ]
    },
    {
      "cell_type": "markdown",
      "metadata": {
        "id": "qd4AJ1tjQLtZ"
      },
      "source": [
        "*As per the silhoutte score, we got 2 as the best number of clusters for the dataset.*"
      ]
    },
    {
      "cell_type": "code",
      "metadata": {
        "colab": {
          "base_uri": "https://localhost:8080/",
          "height": 280
        },
        "id": "BcVtj7h6So-S",
        "outputId": "343413ba-39c7-42f3-fa8a-c09f1d646265"
      },
      "source": [
        "from sklearn.mixture import GaussianMixture\n",
        "n_components = np.arange(1, 10)\n",
        "models = [GaussianMixture(n, covariance_type='full', random_state=0).fit(data_scaled)\n",
        "          for n in n_components]\n",
        "\n",
        "plt.plot(n_components, [m.bic(data_scaled) for m in models], label='BIC')\n",
        "plt.plot(n_components, [m.aic(data_scaled) for m in models], label='AIC')\n",
        "plt.legend(loc='best')\n",
        "plt.xlabel('n_components');"
      ],
      "execution_count": 44,
      "outputs": [
        {
          "output_type": "display_data",
          "data": {
            "image/png": "[encoded data removed]",
            "text/plain": [
              "<Figure size 432x288 with 1 Axes>"
            ]
          },
          "metadata": {
            "needs_background": "light"
          }
        }
      ]
    },
    {
      "cell_type": "code",
      "metadata": {
        "colab": {
          "base_uri": "https://localhost:8080/",
          "height": 295
        },
        "id": "uIIy0P1aSs79",
        "outputId": "cf4e0d64-17e4-4e1e-e423-b0aee27ff1a9"
      },
      "source": [
        "from sklearn.mixture import GaussianMixture\n",
        "gmm = GaussianMixture(n_components=3,covariance_type='full')\n",
        "gmm.fit(data_scaled)\n",
        "\n",
        "#predictions from gmm\n",
        "labels = gmm.predict(data_scaled)\n",
        "# frame = pd.DataFrame(data)\n",
        "# frame['cluster'] = labels\n",
        "# frame.columns = ['Weight', 'Height', 'cluster']\n",
        "\n",
        "# color=['blue','green','cyan', 'black']\n",
        "# for k in range(0,4):\n",
        "#     data = frame[frame[\"cluster\"]==k]\n",
        "#     plt.scatter(data[\"Weight\"],data[\"Height\"],c=color[k])\n",
        "# plt.show()\n",
        "\n",
        "cmap = ListedColormap(['green', 'pink']) \n",
        "plt.scatter(data_scaled[:,0], data_scaled[:,1], c=labels, cmap =cmap) \n",
        "\n",
        "plt.title('sqft_living Vs pricing')\n",
        "plt.xlabel('square Feet')\n",
        "plt.ylabel('price')\n",
        "plt.show()"
      ],
      "execution_count": 45,
      "outputs": [
        {
          "output_type": "display_data",
          "data": {
            "image/png": "[encoded data removed]",
            "text/plain": [
              "<Figure size 432x288 with 1 Axes>"
            ]
          },
          "metadata": {
            "needs_background": "light"
          }
        }
      ]
    },
    {
      "cell_type": "code",
      "metadata": {
        "colab": {
          "base_uri": "https://localhost:8080/",
          "height": 265
        },
        "id": "1MMUoGxLTWp0",
        "outputId": "23ef88b7-4800-44e7-a0ab-50fc492d312b"
      },
      "source": [
        "# plotting gaussian\n",
        "from matplotlib.patches import Ellipse\n",
        "\n",
        "def draw_ellipse(position, covariance, ax=None, **kwargs):\n",
        "    \"\"\"Draw an ellipse with a given position and covariance\"\"\"\n",
        "    ax = ax or plt.gca()\n",
        "    \n",
        "    # Convert covariance to principal axes\n",
        "    if covariance.shape == (2, 2):\n",
        "        U, s, Vt = np.linalg.svd(covariance)\n",
        "        angle = np.degrees(np.arctan2(U[1, 0], U[0, 0]))\n",
        "        width, height = 2 * np.sqrt(s)\n",
        "    else:\n",
        "        angle = 0\n",
        "        width, height = 2 * np.sqrt(covariance)\n",
        "    \n",
        "    # Draw the Ellipse\n",
        "    for nsig in range(1, 4):\n",
        "        ax.add_patch(Ellipse(position, nsig * width, nsig * height,\n",
        "                             angle, **kwargs))\n",
        "        \n",
        "def plot_gmm(gmm, X, label=True, ax=None):\n",
        "    ax = ax or plt.gca()\n",
        "    labels = gmm.fit(X).predict(X)\n",
        "    if label:\n",
        "        ax.scatter(X[:, 0], X[:, 1], c=labels, s=40, cmap='viridis', zorder=2)\n",
        "    else:\n",
        "        ax.scatter(X[:, 0], X[:, 1], s=40, zorder=2)\n",
        "    ax.axis('equal')\n",
        "    \n",
        "    w_factor = 0.2 / gmm.weights_.max()\n",
        "    for pos, covar, w in zip(gmm.means_, gmm.covariances_, gmm.weights_):\n",
        "        draw_ellipse(pos, covar, alpha=w * w_factor)\n",
        "plot_gmm(gmm, data_scaled)     "
      ],
      "execution_count": 46,
      "outputs": [
        {
          "output_type": "display_data",
          "data": {
            "image/png": "[encoded data removed]",
            "text/plain": [
              "<Figure size 432x288 with 1 Axes>"
            ]
          },
          "metadata": {
            "needs_background": "light"
          }
        }
      ]
    },
    {
      "cell_type": "markdown",
      "metadata": {
        "id": "L3H6SQNf8_Nz"
      },
      "source": [
        "*Draw the ellipses with given positions and covariance. We see that the housing data is distributed among three Gaussian Distributions.*"
      ]
    },
    {
      "cell_type": "markdown",
      "metadata": {
        "id": "_4YBlz_zLGll"
      },
      "source": [
        "#**DB Scan Clustering using pycaret library**\n",
        "\n",
        "DBScan is a density-based clustering algorithm. The key fact of this algorithm is that the neighbourhood of each point in a cluster which is within a given radius (R) must have a minimum number of points (M)."
      ]
    },
    {
      "cell_type": "code",
      "metadata": {
        "colab": {
          "base_uri": "https://localhost:8080/",
          "height": 1000
        },
        "id": "6EAVGLF4q9q7",
        "outputId": "2b4ce623-b3d2-4f8a-cb29-c82a98a688b5"
      },
      "source": [
        "!pip install mglearn\n",
        "!pip install sklearn\n",
        "!pip install -U scikit-learn\n",
        "!pip install pycaret\n",
        "\n",
        "import mglearn\n",
        "import sklearn"
      ],
      "execution_count": 47,
      "outputs": [
        {
          "output_type": "stream",
          "name": "stdout",
          "text": [
            "Requirement already satisfied: mglearn in /usr/local/lib/python3.7/dist-packages (0.1.9)\n",
            "Requirement already satisfied: imageio in /usr/local/lib/python3.7/dist-packages (from mglearn) (2.4.1)\n",
            "Requirement already satisfied: joblib in /usr/local/lib/python3.7/dist-packages (from mglearn) (1.0.1)\n",
            "Requirement already satisfied: pillow in /usr/local/lib/python3.7/dist-packages (from mglearn) (7.1.2)\n",
            "Requirement already satisfied: numpy in /usr/local/lib/python3.7/dist-packages (from mglearn) (1.19.5)\n",
            "Requirement already satisfied: cycler in /usr/local/lib/python3.7/dist-packages (from mglearn) (0.11.0)\n",
            "Requirement already satisfied: matplotlib in /usr/local/lib/python3.7/dist-packages (from mglearn) (3.2.2)\n",
            "Requirement already satisfied: scikit-learn in /usr/local/lib/python3.7/dist-packages (from mglearn) (0.23.2)\n",
            "Requirement already satisfied: pandas in /usr/local/lib/python3.7/dist-packages (from mglearn) (1.1.5)\n",
            "Requirement already satisfied: kiwisolver>=1.0.1 in /usr/local/lib/python3.7/dist-packages (from matplotlib->mglearn) (1.3.2)\n",
            "Requirement already satisfied: python-dateutil>=2.1 in /usr/local/lib/python3.7/dist-packages (from matplotlib->mglearn) (2.8.2)\n",
            "Requirement already satisfied: pyparsing!=2.0.4,!=2.1.2,!=2.1.6,>=2.0.1 in /usr/local/lib/python3.7/dist-packages (from matplotlib->mglearn) (3.0.6)\n",
            "Requirement already satisfied: six>=1.5 in /usr/local/lib/python3.7/dist-packages (from python-dateutil>=2.1->matplotlib->mglearn) (1.15.0)\n",
            "Requirement already satisfied: pytz>=2017.2 in /usr/local/lib/python3.7/dist-packages (from pandas->mglearn) (2018.9)\n",
            "Requirement already satisfied: threadpoolctl>=2.0.0 in /usr/local/lib/python3.7/dist-packages (from scikit-learn->mglearn) (3.0.0)\n",
            "Requirement already satisfied: scipy>=0.19.1 in /usr/local/lib/python3.7/dist-packages (from scikit-learn->mglearn) (1.5.4)\n",
            "Requirement already satisfied: sklearn in /usr/local/lib/python3.7/dist-packages (0.0)\n",
            "Requirement already satisfied: scikit-learn in /usr/local/lib/python3.7/dist-packages (from sklearn) (0.23.2)\n",
            "Requirement already satisfied: numpy>=1.13.3 in /usr/local/lib/python3.7/dist-packages (from scikit-learn->sklearn) (1.19.5)\n",
            "Requirement already satisfied: scipy>=0.19.1 in /usr/local/lib/python3.7/dist-packages (from scikit-learn->sklearn) (1.5.4)\n",
            "Requirement already satisfied: threadpoolctl>=2.0.0 in /usr/local/lib/python3.7/dist-packages (from scikit-learn->sklearn) (3.0.0)\n",
            "Requirement already satisfied: joblib>=0.11 in /usr/local/lib/python3.7/dist-packages (from scikit-learn->sklearn) (1.0.1)\n",
            "Requirement already satisfied: scikit-learn in /usr/local/lib/python3.7/dist-packages (0.23.2)\n",
            "Collecting scikit-learn\n",
            "  Downloading scikit_learn-1.0.1-cp37-cp37m-manylinux_2_12_x86_64.manylinux2010_x86_64.whl (23.2 MB)\n",
            "\u001b[K     |████████████████████████████████| 23.2 MB 2.0 MB/s \n",
            "\u001b[?25hRequirement already satisfied: numpy>=1.14.6 in /usr/local/lib/python3.7/dist-packages (from scikit-learn) (1.19.5)\n",
            "Requirement already satisfied: scipy>=1.1.0 in /usr/local/lib/python3.7/dist-packages (from scikit-learn) (1.5.4)\n",
            "Requirement already satisfied: threadpoolctl>=2.0.0 in /usr/local/lib/python3.7/dist-packages (from scikit-learn) (3.0.0)\n",
            "Requirement already satisfied: joblib>=0.11 in /usr/local/lib/python3.7/dist-packages (from scikit-learn) (1.0.1)\n",
            "Installing collected packages: scikit-learn\n",
            "  Attempting uninstall: scikit-learn\n",
            "    Found existing installation: scikit-learn 0.23.2\n",
            "    Uninstalling scikit-learn-0.23.2:\n",
            "      Successfully uninstalled scikit-learn-0.23.2\n",
            "\u001b[31mERROR: pip's dependency resolver does not currently take into account all the packages that are installed. This behaviour is the source of the following dependency conflicts.\n",
            "pycaret 2.3.5 requires scikit-learn==0.23.2, but you have scikit-learn 1.0.1 which is incompatible.\u001b[0m\n",
            "Successfully installed scikit-learn-1.0.1\n"
          ]
        },
        {
          "output_type": "display_data",
          "data": {
            "application/vnd.colab-display-data+json": {
              "pip_warning": {
                "packages": [
                  "sklearn"
                ]
              }
            }
          },
          "metadata": {}
        },
        {
          "output_type": "stream",
          "name": "stdout",
          "text": [
            "Requirement already satisfied: pycaret in /usr/local/lib/python3.7/dist-packages (2.3.5)\n",
            "Requirement already satisfied: joblib in /usr/local/lib/python3.7/dist-packages (from pycaret) (1.0.1)\n",
            "Requirement already satisfied: umap-learn in /usr/local/lib/python3.7/dist-packages (from pycaret) (0.5.2)\n",
            "Requirement already satisfied: Boruta in /usr/local/lib/python3.7/dist-packages (from pycaret) (0.3)\n",
            "Requirement already satisfied: imbalanced-learn==0.7.0 in /usr/local/lib/python3.7/dist-packages (from pycaret) (0.7.0)\n",
            "Requirement already satisfied: cufflinks>=0.17.0 in /usr/local/lib/python3.7/dist-packages (from pycaret) (0.17.3)\n",
            "Requirement already satisfied: pyLDAvis in /usr/local/lib/python3.7/dist-packages (from pycaret) (3.2.2)\n",
            "Requirement already satisfied: pyod in /usr/local/lib/python3.7/dist-packages (from pycaret) (0.9.5)\n",
            "Requirement already satisfied: ipywidgets in /usr/local/lib/python3.7/dist-packages (from pycaret) (7.6.5)\n",
            "Requirement already satisfied: seaborn in /usr/local/lib/python3.7/dist-packages (from pycaret) (0.11.2)\n",
            "Requirement already satisfied: gensim<4.0.0 in /usr/local/lib/python3.7/dist-packages (from pycaret) (3.6.0)\n",
            "Requirement already satisfied: nltk in /usr/local/lib/python3.7/dist-packages (from pycaret) (3.2.5)\n",
            "Requirement already satisfied: pandas in /usr/local/lib/python3.7/dist-packages (from pycaret) (1.1.5)\n",
            "Requirement already satisfied: pandas-profiling>=2.8.0 in /usr/local/lib/python3.7/dist-packages (from pycaret) (3.1.0)\n",
            "Requirement already satisfied: plotly>=4.4.1 in /usr/local/lib/python3.7/dist-packages (from pycaret) (4.4.1)\n",
            "Requirement already satisfied: lightgbm>=2.3.1 in /usr/local/lib/python3.7/dist-packages (from pycaret) (3.3.1)\n",
            "Requirement already satisfied: textblob in /usr/local/lib/python3.7/dist-packages (from pycaret) (0.15.3)\n",
            "Collecting scikit-learn==0.23.2\n",
            "  Using cached scikit_learn-0.23.2-cp37-cp37m-manylinux1_x86_64.whl (6.8 MB)\n",
            "Requirement already satisfied: mlxtend>=0.17.0 in /usr/local/lib/python3.7/dist-packages (from pycaret) (0.19.0)\n",
            "Requirement already satisfied: wordcloud in /usr/local/lib/python3.7/dist-packages (from pycaret) (1.5.0)\n",
            "Requirement already satisfied: numpy==1.19.5 in /usr/local/lib/python3.7/dist-packages (from pycaret) (1.19.5)\n",
            "Requirement already satisfied: IPython in /usr/local/lib/python3.7/dist-packages (from pycaret) (5.5.0)\n",
            "Requirement already satisfied: yellowbrick>=1.0.1 in /usr/local/lib/python3.7/dist-packages (from pycaret) (1.3.post1)\n",
            "Requirement already satisfied: scikit-plot in /usr/local/lib/python3.7/dist-packages (from pycaret) (0.3.7)\n",
            "Requirement already satisfied: matplotlib in /usr/local/lib/python3.7/dist-packages (from pycaret) (3.2.2)\n",
            "Requirement already satisfied: scipy<=1.5.4 in /usr/local/lib/python3.7/dist-packages (from pycaret) (1.5.4)\n",
            "Requirement already satisfied: mlflow in /usr/local/lib/python3.7/dist-packages (from pycaret) (1.22.0)\n",
            "Requirement already satisfied: spacy<2.4.0 in /usr/local/lib/python3.7/dist-packages (from pycaret) (2.2.4)\n",
            "Requirement already satisfied: kmodes>=0.10.1 in /usr/local/lib/python3.7/dist-packages (from pycaret) (0.11.1)\n",
            "Requirement already satisfied: threadpoolctl>=2.0.0 in /usr/local/lib/python3.7/dist-packages (from scikit-learn==0.23.2->pycaret) (3.0.0)\n",
            "Requirement already satisfied: colorlover>=0.2.1 in /usr/local/lib/python3.7/dist-packages (from cufflinks>=0.17.0->pycaret) (0.3.0)\n",
            "Requirement already satisfied: setuptools>=34.4.1 in /usr/local/lib/python3.7/dist-packages (from cufflinks>=0.17.0->pycaret) (57.4.0)\n",
            "Requirement already satisfied: six>=1.9.0 in /usr/local/lib/python3.7/dist-packages (from cufflinks>=0.17.0->pycaret) (1.15.0)\n",
            "Requirement already satisfied: smart-open>=1.2.1 in /usr/local/lib/python3.7/dist-packages (from gensim<4.0.0->pycaret) (5.2.1)\n",
            "Requirement already satisfied: decorator in /usr/local/lib/python3.7/dist-packages (from IPython->pycaret) (4.4.2)\n",
            "Requirement already satisfied: simplegeneric>0.8 in /usr/local/lib/python3.7/dist-packages (from IPython->pycaret) (0.8.1)\n",
            "Requirement already satisfied: pygments in /usr/local/lib/python3.7/dist-packages (from IPython->pycaret) (2.6.1)\n",
            "Requirement already satisfied: pickleshare in /usr/local/lib/python3.7/dist-packages (from IPython->pycaret) (0.7.5)\n",
            "Requirement already satisfied: pexpect in /usr/local/lib/python3.7/dist-packages (from IPython->pycaret) (4.8.0)\n",
            "Requirement already satisfied: prompt-toolkit<2.0.0,>=1.0.4 in /usr/local/lib/python3.7/dist-packages (from IPython->pycaret) (1.0.18)\n",
            "Requirement already satisfied: traitlets>=4.2 in /usr/local/lib/python3.7/dist-packages (from IPython->pycaret) (5.1.1)\n",
            "Requirement already satisfied: ipython-genutils~=0.2.0 in /usr/local/lib/python3.7/dist-packages (from ipywidgets->pycaret) (0.2.0)\n",
            "Requirement already satisfied: nbformat>=4.2.0 in /usr/local/lib/python3.7/dist-packages (from ipywidgets->pycaret) (5.1.3)\n",
            "Requirement already satisfied: widgetsnbextension~=3.5.0 in /usr/local/lib/python3.7/dist-packages (from ipywidgets->pycaret) (3.5.2)\n",
            "Requirement already satisfied: jupyterlab-widgets>=1.0.0 in /usr/local/lib/python3.7/dist-packages (from ipywidgets->pycaret) (1.0.2)\n",
            "Requirement already satisfied: ipykernel>=4.5.1 in /usr/local/lib/python3.7/dist-packages (from ipywidgets->pycaret) (4.10.1)\n",
            "Requirement already satisfied: jupyter-client in /usr/local/lib/python3.7/dist-packages (from ipykernel>=4.5.1->ipywidgets->pycaret) (5.3.5)\n",
            "Requirement already satisfied: tornado>=4.0 in /usr/local/lib/python3.7/dist-packages (from ipykernel>=4.5.1->ipywidgets->pycaret) (5.1.1)\n",
            "Requirement already satisfied: wheel in /usr/local/lib/python3.7/dist-packages (from lightgbm>=2.3.1->pycaret) (0.37.0)\n",
            "Requirement already satisfied: python-dateutil>=2.1 in /usr/local/lib/python3.7/dist-packages (from matplotlib->pycaret) (2.8.2)\n",
            "Requirement already satisfied: kiwisolver>=1.0.1 in /usr/local/lib/python3.7/dist-packages (from matplotlib->pycaret) (1.3.2)\n",
            "Requirement already satisfied: cycler>=0.10 in /usr/local/lib/python3.7/dist-packages (from matplotlib->pycaret) (0.11.0)\n",
            "Requirement already satisfied: pyparsing!=2.0.4,!=2.1.2,!=2.1.6,>=2.0.1 in /usr/local/lib/python3.7/dist-packages (from matplotlib->pycaret) (3.0.6)\n",
            "Requirement already satisfied: jupyter-core in /usr/local/lib/python3.7/dist-packages (from nbformat>=4.2.0->ipywidgets->pycaret) (4.9.1)\n",
            "Requirement already satisfied: jsonschema!=2.5.0,>=2.4 in /usr/local/lib/python3.7/dist-packages (from nbformat>=4.2.0->ipywidgets->pycaret) (2.6.0)\n",
            "Requirement already satisfied: pytz>=2017.2 in /usr/local/lib/python3.7/dist-packages (from pandas->pycaret) (2018.9)\n",
            "Requirement already satisfied: htmlmin>=0.1.12 in /usr/local/lib/python3.7/dist-packages (from pandas-profiling>=2.8.0->pycaret) (0.1.12)\n",
            "Requirement already satisfied: multimethod>=1.4 in /usr/local/lib/python3.7/dist-packages (from pandas-profiling>=2.8.0->pycaret) (1.6)\n",
            "Requirement already satisfied: pydantic>=1.8.1 in /usr/local/lib/python3.7/dist-packages (from pandas-profiling>=2.8.0->pycaret) (1.8.2)\n",
            "Requirement already satisfied: visions[type_image_path]==0.7.4 in /usr/local/lib/python3.7/dist-packages (from pandas-profiling>=2.8.0->pycaret) (0.7.4)\n",
            "Requirement already satisfied: PyYAML>=5.0.0 in /usr/local/lib/python3.7/dist-packages (from pandas-profiling>=2.8.0->pycaret) (6.0)\n",
            "Requirement already satisfied: missingno>=0.4.2 in /usr/local/lib/python3.7/dist-packages (from pandas-profiling>=2.8.0->pycaret) (0.5.0)\n",
            "Requirement already satisfied: phik>=0.11.1 in /usr/local/lib/python3.7/dist-packages (from pandas-profiling>=2.8.0->pycaret) (0.12.0)\n",
            "Requirement already satisfied: markupsafe~=2.0.1 in /usr/local/lib/python3.7/dist-packages (from pandas-profiling>=2.8.0->pycaret) (2.0.1)\n",
            "Requirement already satisfied: tangled-up-in-unicode==0.1.0 in /usr/local/lib/python3.7/dist-packages (from pandas-profiling>=2.8.0->pycaret) (0.1.0)\n",
            "Requirement already satisfied: requests>=2.24.0 in /usr/local/lib/python3.7/dist-packages (from pandas-profiling>=2.8.0->pycaret) (2.26.0)\n",
            "Requirement already satisfied: tqdm>=4.48.2 in /usr/local/lib/python3.7/dist-packages (from pandas-profiling>=2.8.0->pycaret) (4.62.3)\n",
            "Requirement already satisfied: jinja2>=2.11.1 in /usr/local/lib/python3.7/dist-packages (from pandas-profiling>=2.8.0->pycaret) (2.11.3)\n",
            "Requirement already satisfied: attrs>=19.3.0 in /usr/local/lib/python3.7/dist-packages (from visions[type_image_path]==0.7.4->pandas-profiling>=2.8.0->pycaret) (21.2.0)\n",
            "Requirement already satisfied: networkx>=2.4 in /usr/local/lib/python3.7/dist-packages (from visions[type_image_path]==0.7.4->pandas-profiling>=2.8.0->pycaret) (2.6.3)\n",
            "Requirement already satisfied: imagehash in /usr/local/lib/python3.7/dist-packages (from visions[type_image_path]==0.7.4->pandas-profiling>=2.8.0->pycaret) (4.2.1)\n",
            "Requirement already satisfied: Pillow in /usr/local/lib/python3.7/dist-packages (from visions[type_image_path]==0.7.4->pandas-profiling>=2.8.0->pycaret) (7.1.2)\n",
            "Requirement already satisfied: retrying>=1.3.3 in /usr/local/lib/python3.7/dist-packages (from plotly>=4.4.1->pycaret) (1.3.3)\n",
            "Requirement already satisfied: wcwidth in /usr/local/lib/python3.7/dist-packages (from prompt-toolkit<2.0.0,>=1.0.4->IPython->pycaret) (0.2.5)\n",
            "Requirement already satisfied: typing-extensions>=3.7.4.3 in /usr/local/lib/python3.7/dist-packages (from pydantic>=1.8.1->pandas-profiling>=2.8.0->pycaret) (3.10.0.2)\n",
            "Requirement already satisfied: urllib3<1.27,>=1.21.1 in /usr/local/lib/python3.7/dist-packages (from requests>=2.24.0->pandas-profiling>=2.8.0->pycaret) (1.24.3)\n",
            "Requirement already satisfied: idna<4,>=2.5 in /usr/local/lib/python3.7/dist-packages (from requests>=2.24.0->pandas-profiling>=2.8.0->pycaret) (2.10)\n",
            "Requirement already satisfied: certifi>=2017.4.17 in /usr/local/lib/python3.7/dist-packages (from requests>=2.24.0->pandas-profiling>=2.8.0->pycaret) (2021.10.8)\n",
            "Requirement already satisfied: charset-normalizer~=2.0.0 in /usr/local/lib/python3.7/dist-packages (from requests>=2.24.0->pandas-profiling>=2.8.0->pycaret) (2.0.8)\n",
            "Requirement already satisfied: srsly<1.1.0,>=1.0.2 in /usr/local/lib/python3.7/dist-packages (from spacy<2.4.0->pycaret) (1.0.5)\n",
            "Requirement already satisfied: plac<1.2.0,>=0.9.6 in /usr/local/lib/python3.7/dist-packages (from spacy<2.4.0->pycaret) (1.1.3)\n",
            "Requirement already satisfied: blis<0.5.0,>=0.4.0 in /usr/local/lib/python3.7/dist-packages (from spacy<2.4.0->pycaret) (0.4.1)\n",
            "Requirement already satisfied: preshed<3.1.0,>=3.0.2 in /usr/local/lib/python3.7/dist-packages (from spacy<2.4.0->pycaret) (3.0.6)\n",
            "Requirement already satisfied: thinc==7.4.0 in /usr/local/lib/python3.7/dist-packages (from spacy<2.4.0->pycaret) (7.4.0)\n",
            "Requirement already satisfied: wasabi<1.1.0,>=0.4.0 in /usr/local/lib/python3.7/dist-packages (from spacy<2.4.0->pycaret) (0.8.2)\n",
            "Requirement already satisfied: murmurhash<1.1.0,>=0.28.0 in /usr/local/lib/python3.7/dist-packages (from spacy<2.4.0->pycaret) (1.0.6)\n",
            "Requirement already satisfied: catalogue<1.1.0,>=0.0.7 in /usr/local/lib/python3.7/dist-packages (from spacy<2.4.0->pycaret) (1.0.0)\n",
            "Requirement already satisfied: cymem<2.1.0,>=2.0.2 in /usr/local/lib/python3.7/dist-packages (from spacy<2.4.0->pycaret) (2.0.6)\n",
            "Requirement already satisfied: importlib-metadata>=0.20 in /usr/local/lib/python3.7/dist-packages (from catalogue<1.1.0,>=0.0.7->spacy<2.4.0->pycaret) (4.8.2)\n",
            "Requirement already satisfied: zipp>=0.5 in /usr/local/lib/python3.7/dist-packages (from importlib-metadata>=0.20->catalogue<1.1.0,>=0.0.7->spacy<2.4.0->pycaret) (3.6.0)\n",
            "Requirement already satisfied: notebook>=4.4.1 in /usr/local/lib/python3.7/dist-packages (from widgetsnbextension~=3.5.0->ipywidgets->pycaret) (5.3.1)\n",
            "Requirement already satisfied: terminado>=0.8.1 in /usr/local/lib/python3.7/dist-packages (from notebook>=4.4.1->widgetsnbextension~=3.5.0->ipywidgets->pycaret) (0.12.1)\n",
            "Requirement already satisfied: Send2Trash in /usr/local/lib/python3.7/dist-packages (from notebook>=4.4.1->widgetsnbextension~=3.5.0->ipywidgets->pycaret) (1.8.0)\n",
            "Requirement already satisfied: nbconvert in /usr/local/lib/python3.7/dist-packages (from notebook>=4.4.1->widgetsnbextension~=3.5.0->ipywidgets->pycaret) (5.6.1)\n",
            "Requirement already satisfied: pyzmq>=13 in /usr/local/lib/python3.7/dist-packages (from jupyter-client->ipykernel>=4.5.1->ipywidgets->pycaret) (22.3.0)\n",
            "Requirement already satisfied: ptyprocess in /usr/local/lib/python3.7/dist-packages (from terminado>=0.8.1->notebook>=4.4.1->widgetsnbextension~=3.5.0->ipywidgets->pycaret) (0.7.0)\n",
            "Requirement already satisfied: PyWavelets in /usr/local/lib/python3.7/dist-packages (from imagehash->visions[type_image_path]==0.7.4->pandas-profiling>=2.8.0->pycaret) (1.2.0)\n",
            "Requirement already satisfied: databricks-cli>=0.8.7 in /usr/local/lib/python3.7/dist-packages (from mlflow->pycaret) (0.16.2)\n",
            "Requirement already satisfied: sqlparse>=0.3.1 in /usr/local/lib/python3.7/dist-packages (from mlflow->pycaret) (0.4.2)\n",
            "Requirement already satisfied: docker>=4.0.0 in /usr/local/lib/python3.7/dist-packages (from mlflow->pycaret) (5.0.3)\n",
            "Requirement already satisfied: packaging in /usr/local/lib/python3.7/dist-packages (from mlflow->pycaret) (21.3)\n",
            "Requirement already satisfied: Flask in /usr/local/lib/python3.7/dist-packages (from mlflow->pycaret) (1.1.4)\n",
            "Requirement already satisfied: prometheus-flask-exporter in /usr/local/lib/python3.7/dist-packages (from mlflow->pycaret) (0.18.6)\n",
            "Requirement already satisfied: querystring-parser in /usr/local/lib/python3.7/dist-packages (from mlflow->pycaret) (1.2.4)\n",
            "Requirement already satisfied: protobuf>=3.7.0 in /usr/local/lib/python3.7/dist-packages (from mlflow->pycaret) (3.17.3)\n",
            "Requirement already satisfied: click>=7.0 in /usr/local/lib/python3.7/dist-packages (from mlflow->pycaret) (7.1.2)\n",
            "Requirement already satisfied: entrypoints in /usr/local/lib/python3.7/dist-packages (from mlflow->pycaret) (0.3)\n",
            "Requirement already satisfied: gunicorn in /usr/local/lib/python3.7/dist-packages (from mlflow->pycaret) (20.1.0)\n",
            "Requirement already satisfied: alembic<=1.4.1 in /usr/local/lib/python3.7/dist-packages (from mlflow->pycaret) (1.4.1)\n",
            "Requirement already satisfied: cloudpickle in /usr/local/lib/python3.7/dist-packages (from mlflow->pycaret) (1.3.0)\n",
            "Requirement already satisfied: sqlalchemy in /usr/local/lib/python3.7/dist-packages (from mlflow->pycaret) (1.4.27)\n",
            "Requirement already satisfied: gitpython>=2.1.0 in /usr/local/lib/python3.7/dist-packages (from mlflow->pycaret) (3.1.24)\n",
            "Requirement already satisfied: Mako in /usr/local/lib/python3.7/dist-packages (from alembic<=1.4.1->mlflow->pycaret) (1.1.6)\n",
            "Requirement already satisfied: python-editor>=0.3 in /usr/local/lib/python3.7/dist-packages (from alembic<=1.4.1->mlflow->pycaret) (1.0.4)\n",
            "Requirement already satisfied: tabulate>=0.7.7 in /usr/local/lib/python3.7/dist-packages (from databricks-cli>=0.8.7->mlflow->pycaret) (0.8.9)\n",
            "Requirement already satisfied: websocket-client>=0.32.0 in /usr/local/lib/python3.7/dist-packages (from docker>=4.0.0->mlflow->pycaret) (1.2.1)\n",
            "Requirement already satisfied: gitdb<5,>=4.0.1 in /usr/local/lib/python3.7/dist-packages (from gitpython>=2.1.0->mlflow->pycaret) (4.0.9)\n",
            "Requirement already satisfied: smmap<6,>=3.0.1 in /usr/local/lib/python3.7/dist-packages (from gitdb<5,>=4.0.1->gitpython>=2.1.0->mlflow->pycaret) (5.0.0)\n",
            "Requirement already satisfied: greenlet!=0.4.17 in /usr/local/lib/python3.7/dist-packages (from sqlalchemy->mlflow->pycaret) (1.1.2)\n",
            "Requirement already satisfied: itsdangerous<2.0,>=0.24 in /usr/local/lib/python3.7/dist-packages (from Flask->mlflow->pycaret) (1.1.0)\n",
            "Requirement already satisfied: Werkzeug<2.0,>=0.15 in /usr/local/lib/python3.7/dist-packages (from Flask->mlflow->pycaret) (1.0.1)\n",
            "Requirement already satisfied: mistune<2,>=0.8.1 in /usr/local/lib/python3.7/dist-packages (from nbconvert->notebook>=4.4.1->widgetsnbextension~=3.5.0->ipywidgets->pycaret) (0.8.4)\n",
            "Requirement already satisfied: defusedxml in /usr/local/lib/python3.7/dist-packages (from nbconvert->notebook>=4.4.1->widgetsnbextension~=3.5.0->ipywidgets->pycaret) (0.7.1)\n",
            "Requirement already satisfied: testpath in /usr/local/lib/python3.7/dist-packages (from nbconvert->notebook>=4.4.1->widgetsnbextension~=3.5.0->ipywidgets->pycaret) (0.5.0)\n",
            "Requirement already satisfied: pandocfilters>=1.4.1 in /usr/local/lib/python3.7/dist-packages (from nbconvert->notebook>=4.4.1->widgetsnbextension~=3.5.0->ipywidgets->pycaret) (1.5.0)\n",
            "Requirement already satisfied: bleach in /usr/local/lib/python3.7/dist-packages (from nbconvert->notebook>=4.4.1->widgetsnbextension~=3.5.0->ipywidgets->pycaret) (4.1.0)\n",
            "Requirement already satisfied: webencodings in /usr/local/lib/python3.7/dist-packages (from bleach->nbconvert->notebook>=4.4.1->widgetsnbextension~=3.5.0->ipywidgets->pycaret) (0.5.1)\n",
            "Requirement already satisfied: prometheus-client in /usr/local/lib/python3.7/dist-packages (from prometheus-flask-exporter->mlflow->pycaret) (0.12.0)\n",
            "Requirement already satisfied: future in /usr/local/lib/python3.7/dist-packages (from pyLDAvis->pycaret) (0.16.0)\n",
            "Requirement already satisfied: numexpr in /usr/local/lib/python3.7/dist-packages (from pyLDAvis->pycaret) (2.7.3)\n",
            "Requirement already satisfied: funcy in /usr/local/lib/python3.7/dist-packages (from pyLDAvis->pycaret) (1.16)\n",
            "Requirement already satisfied: statsmodels in /usr/local/lib/python3.7/dist-packages (from pyod->pycaret) (0.10.2)\n",
            "Requirement already satisfied: numba>=0.35 in /usr/local/lib/python3.7/dist-packages (from pyod->pycaret) (0.51.2)\n",
            "Requirement already satisfied: llvmlite<0.35,>=0.34.0.dev0 in /usr/local/lib/python3.7/dist-packages (from numba>=0.35->pyod->pycaret) (0.34.0)\n",
            "Requirement already satisfied: patsy>=0.4.0 in /usr/local/lib/python3.7/dist-packages (from statsmodels->pyod->pycaret) (0.5.2)\n",
            "Requirement already satisfied: pynndescent>=0.5 in /usr/local/lib/python3.7/dist-packages (from umap-learn->pycaret) (0.5.5)\n",
            "Installing collected packages: scikit-learn\n",
            "  Attempting uninstall: scikit-learn\n",
            "    Found existing installation: scikit-learn 1.0.1\n",
            "    Uninstalling scikit-learn-1.0.1:\n",
            "      Successfully uninstalled scikit-learn-1.0.1\n",
            "Successfully installed scikit-learn-0.23.2\n"
          ]
        },
        {
          "output_type": "display_data",
          "data": {
            "application/vnd.colab-display-data+json": {
              "pip_warning": {
                "packages": [
                  "sklearn"
                ]
              }
            }
          },
          "metadata": {}
        }
      ]
    },
    {
      "cell_type": "code",
      "metadata": {
        "id": "QhEccf2_0W-A"
      },
      "source": [
        "import mglearn\n",
        "import sklearn"
      ],
      "execution_count": 48,
      "outputs": []
    },
    {
      "cell_type": "code",
      "metadata": {
        "colab": {
          "base_uri": "https://localhost:8080/",
          "height": 485
        },
        "id": "imrOz5FSrBqP",
        "outputId": "e75bdc3c-ff9a-4a60-be7c-bdc2a8e58564"
      },
      "source": [
        "mglearn.plots.plot_kmeans_algorithm()"
      ],
      "execution_count": 49,
      "outputs": [
        {
          "output_type": "display_data",
          "data": {
            "image/png": "[encoded data removed]",
            "text/plain": [
              "<Figure size 720x576 with 9 Axes>"
            ]
          },
          "metadata": {}
        }
      ]
    },
    {
      "cell_type": "code",
      "metadata": {
        "colab": {
          "base_uri": "https://localhost:8080/",
          "height": 279
        },
        "id": "vLAMhfm3rUMi",
        "outputId": "f96dca1e-23f5-4fdc-aee8-dcfb3df47fd1"
      },
      "source": [
        "import numpy as np\n",
        "import matplotlib.pyplot as plt\n",
        "from sklearn.datasets import make_blobs\n",
        "from sklearn.cluster import KMeans\n",
        "\n",
        "# generate some random cluster data\n",
        "X, y = make_blobs(random_state=170, n_samples=600, centers = 5)\n",
        "rng = np.random.RandomState(74)\n",
        "# transform the data to be stretched\n",
        "transformation = rng.normal(size=(2, 2))\n",
        "X = np.dot(X, transformation)\n",
        "# plot\n",
        "plt.scatter(X[:, 0], X[:, 1])\n",
        "plt.xlabel(\"Feature 0\")\n",
        "plt.ylabel(\"Feature 1\")\n",
        "plt.show()"
      ],
      "execution_count": 50,
      "outputs": [
        {
          "output_type": "display_data",
          "data": {
            "image/png": "[encoded data removed]",
            "text/plain": [
              "<Figure size 432x288 with 1 Axes>"
            ]
          },
          "metadata": {
            "needs_background": "light"
          }
        }
      ]
    },
    {
      "cell_type": "code",
      "metadata": {
        "colab": {
          "base_uri": "https://localhost:8080/",
          "height": 297
        },
        "id": "K6A1xL1m5qkq",
        "outputId": "74fefa95-891d-4b94-d2ce-fd1a624d8cf1"
      },
      "source": [
        "# cluster the data into five clusters\n",
        "kmeans = KMeans(n_clusters=5)\n",
        "kmeans.fit(X)\n",
        "y_pred = kmeans.predict(X)\n",
        "# plot the cluster assignments and cluster centers\n",
        "plt.scatter(X[:, 0], X[:, 1], c=y_pred, cmap=\"plasma\")\n",
        "plt.scatter(kmeans.cluster_centers_[:, 0],   \n",
        "            kmeans.cluster_centers_[:, 1],\n",
        "            marker='^', \n",
        "            c=[0, 1, 2, 3, 4], \n",
        "            s=100, \n",
        "            linewidth=2,\n",
        "            cmap=\"plasma\")\n",
        "plt.xlabel(\"Feature 0\")\n",
        "plt.ylabel(\"Feature 1\")"
      ],
      "execution_count": 51,
      "outputs": [
        {
          "output_type": "execute_result",
          "data": {
            "text/plain": [
              "Text(0, 0.5, 'Feature 1')"
            ]
          },
          "metadata": {},
          "execution_count": 51
        },
        {
          "output_type": "display_data",
          "data": {
            "image/png": "[encoded data removed]",
            "text/plain": [
              "<Figure size 432x288 with 1 Axes>"
            ]
          },
          "metadata": {
            "needs_background": "light"
          }
        }
      ]
    },
    {
      "cell_type": "code",
      "metadata": {
        "colab": {
          "base_uri": "https://localhost:8080/",
          "height": 203
        },
        "id": "AOifSXVd1I4q",
        "outputId": "a570f3bb-d729-41ac-bbd3-39f77cbd5f32"
      },
      "source": [
        "cols = ['column1', 'column2', 'column3',\n",
        "        'column4', 'column5']\n",
        "arr = make_blobs(n_samples = 1000, n_features = 5, random_state =20,\n",
        "                 centers = 3, cluster_std = 1)\n",
        "data = pd.DataFrame(data = arr[0], columns = cols)\n",
        "data.head()"
      ],
      "execution_count": 52,
      "outputs": [
        {
          "output_type": "execute_result",
          "data": {
            "text/html": [
              "<div>\n",
              "<style scoped>\n",
              "    .dataframe tbody tr th:only-of-type {\n",
              "        vertical-align: middle;\n",
              "    }\n",
              "\n",
              "    .dataframe tbody tr th {\n",
              "        vertical-align: top;\n",
              "    }\n",
              "\n",
              "    .dataframe thead th {\n",
              "        text-align: right;\n",
              "    }\n",
              "</style>\n",
              "<table border=\"1\" class=\"dataframe\">\n",
              "  <thead>\n",
              "    <tr style=\"text-align: right;\">\n",
              "      <th></th>\n",
              "      <th>column1</th>\n",
              "      <th>column2</th>\n",
              "      <th>column3</th>\n",
              "      <th>column4</th>\n",
              "      <th>column5</th>\n",
              "    </tr>\n",
              "  </thead>\n",
              "  <tbody>\n",
              "    <tr>\n",
              "      <th>0</th>\n",
              "      <td>2.916076</td>\n",
              "      <td>6.504857</td>\n",
              "      <td>8.246937</td>\n",
              "      <td>6.185952</td>\n",
              "      <td>-9.776481</td>\n",
              "    </tr>\n",
              "    <tr>\n",
              "      <th>1</th>\n",
              "      <td>-2.044462</td>\n",
              "      <td>5.282757</td>\n",
              "      <td>5.265467</td>\n",
              "      <td>7.487941</td>\n",
              "      <td>6.347177</td>\n",
              "    </tr>\n",
              "    <tr>\n",
              "      <th>2</th>\n",
              "      <td>3.439328</td>\n",
              "      <td>-3.020505</td>\n",
              "      <td>-0.783592</td>\n",
              "      <td>2.907385</td>\n",
              "      <td>-6.117881</td>\n",
              "    </tr>\n",
              "    <tr>\n",
              "      <th>3</th>\n",
              "      <td>2.155568</td>\n",
              "      <td>8.776136</td>\n",
              "      <td>5.788650</td>\n",
              "      <td>5.751763</td>\n",
              "      <td>-7.609132</td>\n",
              "    </tr>\n",
              "    <tr>\n",
              "      <th>4</th>\n",
              "      <td>-6.650020</td>\n",
              "      <td>5.458227</td>\n",
              "      <td>5.848407</td>\n",
              "      <td>7.150584</td>\n",
              "      <td>5.992247</td>\n",
              "    </tr>\n",
              "  </tbody>\n",
              "</table>\n",
              "</div>"
            ],
            "text/plain": [
              "    column1   column2   column3   column4   column5\n",
              "0  2.916076  6.504857  8.246937  6.185952 -9.776481\n",
              "1 -2.044462  5.282757  5.265467  7.487941  6.347177\n",
              "2  3.439328 -3.020505 -0.783592  2.907385 -6.117881\n",
              "3  2.155568  8.776136  5.788650  5.751763 -7.609132\n",
              "4 -6.650020  5.458227  5.848407  7.150584  5.992247"
            ]
          },
          "metadata": {},
          "execution_count": 52
        }
      ]
    },
    {
      "cell_type": "markdown",
      "metadata": {
        "id": "iCWg6Nsf5F9r"
      },
      "source": [
        "**Initializing the PyCaret Environment**"
      ]
    },
    {
      "cell_type": "code",
      "metadata": {
        "id": "Vfr0cUJeboEz"
      },
      "source": [
        "from pycaret import clustering"
      ],
      "execution_count": 63,
      "outputs": []
    },
    {
      "cell_type": "code",
      "metadata": {
        "colab": {
          "base_uri": "https://localhost:8080/",
          "height": 1000,
          "referenced_widgets": [
            "cef3d173b2d34f0eae2dfa30f884d030",
            "8381dea5a535437abc1eff646cee1e22",
            "ce916dc728b447329b0d5325e5c9caf6",
            "7200b5519e794131809bf1bc3736eb53",
            "2c512632ce8e43c1a2873f3b9c028f82",
            "abdbe891be92437f8cbfa536fabd209f"
          ]
        },
        "id": "AfXp8FZP1czs",
        "outputId": "10f83021-602a-4f45-9222-da53fe61295c"
      },
      "source": [
        "cluster = clustering.setup(data, session_id = 7652)"
      ],
      "execution_count": 66,
      "outputs": [
        {
          "output_type": "display_data",
          "data": {
            "text/html": [
              "<div>\n",
              "<style scoped>\n",
              "    .dataframe tbody tr th:only-of-type {\n",
              "        vertical-align: middle;\n",
              "    }\n",
              "\n",
              "    .dataframe tbody tr th {\n",
              "        vertical-align: top;\n",
              "    }\n",
              "\n",
              "    .dataframe thead th {\n",
              "        text-align: right;\n",
              "    }\n",
              "</style>\n",
              "<table border=\"1\" class=\"dataframe\">\n",
              "  <thead>\n",
              "    <tr style=\"text-align: right;\">\n",
              "      <th></th>\n",
              "      <th>Description</th>\n",
              "      <th>Value</th>\n",
              "    </tr>\n",
              "  </thead>\n",
              "  <tbody>\n",
              "    <tr>\n",
              "      <th>0</th>\n",
              "      <td>session_id</td>\n",
              "      <td>7652</td>\n",
              "    </tr>\n",
              "    <tr>\n",
              "      <th>1</th>\n",
              "      <td>Original Data</td>\n",
              "      <td>(1000, 5)</td>\n",
              "    </tr>\n",
              "    <tr>\n",
              "      <th>2</th>\n",
              "      <td>Missing Values</td>\n",
              "      <td>False</td>\n",
              "    </tr>\n",
              "    <tr>\n",
              "      <th>3</th>\n",
              "      <td>Numeric Features</td>\n",
              "      <td>5</td>\n",
              "    </tr>\n",
              "    <tr>\n",
              "      <th>4</th>\n",
              "      <td>Categorical Features</td>\n",
              "      <td>0</td>\n",
              "    </tr>\n",
              "    <tr>\n",
              "      <th>5</th>\n",
              "      <td>Ordinal Features</td>\n",
              "      <td>False</td>\n",
              "    </tr>\n",
              "    <tr>\n",
              "      <th>6</th>\n",
              "      <td>High Cardinality Features</td>\n",
              "      <td>False</td>\n",
              "    </tr>\n",
              "    <tr>\n",
              "      <th>7</th>\n",
              "      <td>High Cardinality Method</td>\n",
              "      <td>None</td>\n",
              "    </tr>\n",
              "    <tr>\n",
              "      <th>8</th>\n",
              "      <td>Transformed Data</td>\n",
              "      <td>(1000, 5)</td>\n",
              "    </tr>\n",
              "    <tr>\n",
              "      <th>9</th>\n",
              "      <td>CPU Jobs</td>\n",
              "      <td>-1</td>\n",
              "    </tr>\n",
              "    <tr>\n",
              "      <th>10</th>\n",
              "      <td>Use GPU</td>\n",
              "      <td>False</td>\n",
              "    </tr>\n",
              "    <tr>\n",
              "      <th>11</th>\n",
              "      <td>Log Experiment</td>\n",
              "      <td>False</td>\n",
              "    </tr>\n",
              "    <tr>\n",
              "      <th>12</th>\n",
              "      <td>Experiment Name</td>\n",
              "      <td>cluster-default-name</td>\n",
              "    </tr>\n",
              "    <tr>\n",
              "      <th>13</th>\n",
              "      <td>USI</td>\n",
              "      <td>7eaf</td>\n",
              "    </tr>\n",
              "    <tr>\n",
              "      <th>14</th>\n",
              "      <td>Imputation Type</td>\n",
              "      <td>simple</td>\n",
              "    </tr>\n",
              "    <tr>\n",
              "      <th>15</th>\n",
              "      <td>Iterative Imputation Iteration</td>\n",
              "      <td>None</td>\n",
              "    </tr>\n",
              "    <tr>\n",
              "      <th>16</th>\n",
              "      <td>Numeric Imputer</td>\n",
              "      <td>mean</td>\n",
              "    </tr>\n",
              "    <tr>\n",
              "      <th>17</th>\n",
              "      <td>Iterative Imputation Numeric Model</td>\n",
              "      <td>None</td>\n",
              "    </tr>\n",
              "    <tr>\n",
              "      <th>18</th>\n",
              "      <td>Categorical Imputer</td>\n",
              "      <td>mode</td>\n",
              "    </tr>\n",
              "    <tr>\n",
              "      <th>19</th>\n",
              "      <td>Iterative Imputation Categorical Model</td>\n",
              "      <td>None</td>\n",
              "    </tr>\n",
              "    <tr>\n",
              "      <th>20</th>\n",
              "      <td>Unknown Categoricals Handling</td>\n",
              "      <td>least_frequent</td>\n",
              "    </tr>\n",
              "    <tr>\n",
              "      <th>21</th>\n",
              "      <td>Normalize</td>\n",
              "      <td>False</td>\n",
              "    </tr>\n",
              "    <tr>\n",
              "      <th>22</th>\n",
              "      <td>Normalize Method</td>\n",
              "      <td>None</td>\n",
              "    </tr>\n",
              "    <tr>\n",
              "      <th>23</th>\n",
              "      <td>Transformation</td>\n",
              "      <td>False</td>\n",
              "    </tr>\n",
              "    <tr>\n",
              "      <th>24</th>\n",
              "      <td>Transformation Method</td>\n",
              "      <td>None</td>\n",
              "    </tr>\n",
              "    <tr>\n",
              "      <th>25</th>\n",
              "      <td>PCA</td>\n",
              "      <td>False</td>\n",
              "    </tr>\n",
              "    <tr>\n",
              "      <th>26</th>\n",
              "      <td>PCA Method</td>\n",
              "      <td>None</td>\n",
              "    </tr>\n",
              "    <tr>\n",
              "      <th>27</th>\n",
              "      <td>PCA Components</td>\n",
              "      <td>None</td>\n",
              "    </tr>\n",
              "    <tr>\n",
              "      <th>28</th>\n",
              "      <td>Ignore Low Variance</td>\n",
              "      <td>False</td>\n",
              "    </tr>\n",
              "    <tr>\n",
              "      <th>29</th>\n",
              "      <td>Combine Rare Levels</td>\n",
              "      <td>False</td>\n",
              "    </tr>\n",
              "    <tr>\n",
              "      <th>30</th>\n",
              "      <td>Rare Level Threshold</td>\n",
              "      <td>None</td>\n",
              "    </tr>\n",
              "    <tr>\n",
              "      <th>31</th>\n",
              "      <td>Numeric Binning</td>\n",
              "      <td>False</td>\n",
              "    </tr>\n",
              "    <tr>\n",
              "      <th>32</th>\n",
              "      <td>Remove Outliers</td>\n",
              "      <td>False</td>\n",
              "    </tr>\n",
              "    <tr>\n",
              "      <th>33</th>\n",
              "      <td>Outliers Threshold</td>\n",
              "      <td>None</td>\n",
              "    </tr>\n",
              "    <tr>\n",
              "      <th>34</th>\n",
              "      <td>Remove Multicollinearity</td>\n",
              "      <td>False</td>\n",
              "    </tr>\n",
              "    <tr>\n",
              "      <th>35</th>\n",
              "      <td>Multicollinearity Threshold</td>\n",
              "      <td>None</td>\n",
              "    </tr>\n",
              "    <tr>\n",
              "      <th>36</th>\n",
              "      <td>Remove Perfect Collinearity</td>\n",
              "      <td>False</td>\n",
              "    </tr>\n",
              "    <tr>\n",
              "      <th>37</th>\n",
              "      <td>Clustering</td>\n",
              "      <td>False</td>\n",
              "    </tr>\n",
              "    <tr>\n",
              "      <th>38</th>\n",
              "      <td>Clustering Iteration</td>\n",
              "      <td>None</td>\n",
              "    </tr>\n",
              "    <tr>\n",
              "      <th>39</th>\n",
              "      <td>Polynomial Features</td>\n",
              "      <td>False</td>\n",
              "    </tr>\n",
              "    <tr>\n",
              "      <th>40</th>\n",
              "      <td>Polynomial Degree</td>\n",
              "      <td>None</td>\n",
              "    </tr>\n",
              "    <tr>\n",
              "      <th>41</th>\n",
              "      <td>Trignometry Features</td>\n",
              "      <td>False</td>\n",
              "    </tr>\n",
              "    <tr>\n",
              "      <th>42</th>\n",
              "      <td>Polynomial Threshold</td>\n",
              "      <td>None</td>\n",
              "    </tr>\n",
              "    <tr>\n",
              "      <th>43</th>\n",
              "      <td>Group Features</td>\n",
              "      <td>False</td>\n",
              "    </tr>\n",
              "    <tr>\n",
              "      <th>44</th>\n",
              "      <td>Feature Selection</td>\n",
              "      <td>False</td>\n",
              "    </tr>\n",
              "    <tr>\n",
              "      <th>45</th>\n",
              "      <td>Feature Selection Method</td>\n",
              "      <td>classic</td>\n",
              "    </tr>\n",
              "    <tr>\n",
              "      <th>46</th>\n",
              "      <td>Features Selection Threshold</td>\n",
              "      <td>None</td>\n",
              "    </tr>\n",
              "    <tr>\n",
              "      <th>47</th>\n",
              "      <td>Feature Interaction</td>\n",
              "      <td>False</td>\n",
              "    </tr>\n",
              "    <tr>\n",
              "      <th>48</th>\n",
              "      <td>Feature Ratio</td>\n",
              "      <td>False</td>\n",
              "    </tr>\n",
              "    <tr>\n",
              "      <th>49</th>\n",
              "      <td>Interaction Threshold</td>\n",
              "      <td>None</td>\n",
              "    </tr>\n",
              "  </tbody>\n",
              "</table>\n",
              "</div>"
            ],
            "text/plain": [
              "                               Description                 Value\n",
              "0                               session_id                  7652\n",
              "1                            Original Data             (1000, 5)\n",
              "2                           Missing Values                 False\n",
              "3                         Numeric Features                     5\n",
              "4                     Categorical Features                     0\n",
              "5                         Ordinal Features                 False\n",
              "6                High Cardinality Features                 False\n",
              "7                  High Cardinality Method                  None\n",
              "8                         Transformed Data             (1000, 5)\n",
              "9                                 CPU Jobs                    -1\n",
              "10                                 Use GPU                 False\n",
              "11                          Log Experiment                 False\n",
              "12                         Experiment Name  cluster-default-name\n",
              "13                                     USI                  7eaf\n",
              "14                         Imputation Type                simple\n",
              "15          Iterative Imputation Iteration                  None\n",
              "16                         Numeric Imputer                  mean\n",
              "17      Iterative Imputation Numeric Model                  None\n",
              "18                     Categorical Imputer                  mode\n",
              "19  Iterative Imputation Categorical Model                  None\n",
              "20           Unknown Categoricals Handling        least_frequent\n",
              "21                               Normalize                 False\n",
              "22                        Normalize Method                  None\n",
              "23                          Transformation                 False\n",
              "24                   Transformation Method                  None\n",
              "25                                     PCA                 False\n",
              "26                              PCA Method                  None\n",
              "27                          PCA Components                  None\n",
              "28                     Ignore Low Variance                 False\n",
              "29                     Combine Rare Levels                 False\n",
              "30                    Rare Level Threshold                  None\n",
              "31                         Numeric Binning                 False\n",
              "32                         Remove Outliers                 False\n",
              "33                      Outliers Threshold                  None\n",
              "34                Remove Multicollinearity                 False\n",
              "35             Multicollinearity Threshold                  None\n",
              "36             Remove Perfect Collinearity                 False\n",
              "37                              Clustering                 False\n",
              "38                    Clustering Iteration                  None\n",
              "39                     Polynomial Features                 False\n",
              "40                       Polynomial Degree                  None\n",
              "41                    Trignometry Features                 False\n",
              "42                    Polynomial Threshold                  None\n",
              "43                          Group Features                 False\n",
              "44                       Feature Selection                 False\n",
              "45                Feature Selection Method               classic\n",
              "46            Features Selection Threshold                  None\n",
              "47                     Feature Interaction                 False\n",
              "48                           Feature Ratio                 False\n",
              "49                   Interaction Threshold                  None"
            ]
          },
          "metadata": {}
        }
      ]
    },
    {
      "cell_type": "markdown",
      "metadata": {
        "id": "gbx61OKi5TUR"
      },
      "source": [
        "After completing the Exploratory Data Analysis (EDA), we are now going to use the setup() function to initialize the PyCaret environment. By doing this, a pipeline that prepares the data for model training and deployment will be created"
      ]
    },
    {
      "cell_type": "code",
      "metadata": {
        "colab": {
          "base_uri": "https://localhost:8080/",
          "height": 80,
          "referenced_widgets": [
            "76c1aa49347e4657853588adc1c2f060",
            "01493080be8b440b974465c6bfdf9dd7",
            "7cda01eac0a0472f9db6238a706a81f2"
          ]
        },
        "id": "xNy0y5793K3-",
        "outputId": "907c6b91-c375-4af8-df66-1c312307a1a3"
      },
      "source": [
        "model = clustering.create_model('kmeans', num_clusters = 3)"
      ],
      "execution_count": 67,
      "outputs": [
        {
          "output_type": "display_data",
          "data": {
            "text/html": [
              "<div>\n",
              "<style scoped>\n",
              "    .dataframe tbody tr th:only-of-type {\n",
              "        vertical-align: middle;\n",
              "    }\n",
              "\n",
              "    .dataframe tbody tr th {\n",
              "        vertical-align: top;\n",
              "    }\n",
              "\n",
              "    .dataframe thead th {\n",
              "        text-align: right;\n",
              "    }\n",
              "</style>\n",
              "<table border=\"1\" class=\"dataframe\">\n",
              "  <thead>\n",
              "    <tr style=\"text-align: right;\">\n",
              "      <th></th>\n",
              "      <th>Silhouette</th>\n",
              "      <th>Calinski-Harabasz</th>\n",
              "      <th>Davies-Bouldin</th>\n",
              "      <th>Homogeneity</th>\n",
              "      <th>Rand Index</th>\n",
              "      <th>Completeness</th>\n",
              "    </tr>\n",
              "  </thead>\n",
              "  <tbody>\n",
              "    <tr>\n",
              "      <th>0</th>\n",
              "      <td>0.7972</td>\n",
              "      <td>8565.5114</td>\n",
              "      <td>0.2904</td>\n",
              "      <td>0</td>\n",
              "      <td>0</td>\n",
              "      <td>0</td>\n",
              "    </tr>\n",
              "  </tbody>\n",
              "</table>\n",
              "</div>"
            ],
            "text/plain": [
              "   Silhouette  Calinski-Harabasz  ...  Rand Index  Completeness\n",
              "0      0.7972          8565.5114  ...           0             0\n",
              "\n",
              "[1 rows x 6 columns]"
            ]
          },
          "metadata": {}
        }
      ]
    },
    {
      "cell_type": "code",
      "metadata": {
        "colab": {
          "base_uri": "https://localhost:8080/",
          "height": 80,
          "referenced_widgets": [
            "10e2eb5f6c6b46189c34e4c5f7c1052b",
            "443b54737fff48fe8f17509b2285db22",
            "3573c870a7b0407baf8698bd162b1c96"
          ]
        },
        "id": "aa5MieyW2T43",
        "outputId": "e77f179d-bb01-4996-d43a-22918019cdc3"
      },
      "source": [
        "model = clustering.create_model('kmeans')"
      ],
      "execution_count": 69,
      "outputs": [
        {
          "output_type": "display_data",
          "data": {
            "text/html": [
              "<div>\n",
              "<style scoped>\n",
              "    .dataframe tbody tr th:only-of-type {\n",
              "        vertical-align: middle;\n",
              "    }\n",
              "\n",
              "    .dataframe tbody tr th {\n",
              "        vertical-align: top;\n",
              "    }\n",
              "\n",
              "    .dataframe thead th {\n",
              "        text-align: right;\n",
              "    }\n",
              "</style>\n",
              "<table border=\"1\" class=\"dataframe\">\n",
              "  <thead>\n",
              "    <tr style=\"text-align: right;\">\n",
              "      <th></th>\n",
              "      <th>Silhouette</th>\n",
              "      <th>Calinski-Harabasz</th>\n",
              "      <th>Davies-Bouldin</th>\n",
              "      <th>Homogeneity</th>\n",
              "      <th>Rand Index</th>\n",
              "      <th>Completeness</th>\n",
              "    </tr>\n",
              "  </thead>\n",
              "  <tbody>\n",
              "    <tr>\n",
              "      <th>0</th>\n",
              "      <td>0.5822</td>\n",
              "      <td>6041.4265</td>\n",
              "      <td>1.2247</td>\n",
              "      <td>0</td>\n",
              "      <td>0</td>\n",
              "      <td>0</td>\n",
              "    </tr>\n",
              "  </tbody>\n",
              "</table>\n",
              "</div>"
            ],
            "text/plain": [
              "   Silhouette  Calinski-Harabasz  ...  Rand Index  Completeness\n",
              "0      0.5822          6041.4265  ...           0             0\n",
              "\n",
              "[1 rows x 6 columns]"
            ]
          },
          "metadata": {}
        }
      ]
    },
    {
      "cell_type": "code",
      "metadata": {
        "colab": {
          "base_uri": "https://localhost:8080/",
          "height": 617
        },
        "id": "NoU79PHr3B1I",
        "outputId": "09f9bab3-d8a5-4d60-b60a-b48ea3d4074b"
      },
      "source": [
        "clustering.plot_model(model, 'cluster')"
      ],
      "execution_count": 71,
      "outputs": [
        {
          "output_type": "display_data",
          "data": {
            "text/html": [
              "<html>\n",
              "<head><meta charset=\"utf-8\" /></head>\n",
              "<body>\n",
              "    <div>\n",
              "            <script src=\"https://cdnjs.cloudflare.com/ajax/libs/mathjax/2.7.5/MathJax.js?config=TeX-AMS-MML_SVG\"></script><script type=\"text/javascript\">if (window.MathJax) {MathJax.Hub.Config({SVG: {font: \"STIX-Web\"}});}</script>\n",
              "                <script type=\"text/javascript\">window.PlotlyConfig = {MathJaxConfig: 'local'};</script>\n",
              "        <script src=\"https://cdn.plot.ly/plotly-latest.min.js\"></script>    \n",
              "            <div id=\"24c37233-3b56-4550-8dd1-4b082244d423\" class=\"plotly-graph-div\" style=\"height:600px; width:100%;\"></div>\n",
              "            <script type=\"text/javascript\">\n",
              "                \n",
              "                    window.PLOTLYENV=window.PLOTLYENV || {};\n",
              "                    \n",
              "                if (document.getElementById(\"24c37233-3b56-4550-8dd1-4b082244d423\")) {\n",
              "                    Plotly.newPlot(\n",
              "                        '24c37233-3b56-4550-8dd1-4b082244d423',\n",
              "                        [{\"customdata\": [[4.465194718634754], [3.7300653734487184], [5.244696103884017], [4.7634836994463745], [3.456589748950729], [4.420329219333912], [4.444586829055065], [2.883047671673468], [5.308471987452714], [4.367853748869446], [3.9158413486793697], [5.076568379711791], [4.42375301127239], [5.018047284027991], [5.060968766548688], [4.748664891869697], [4.33560019755118], [3.5591158705543497], [2.559696388597789], [3.4753705033065385], [2.874987790175888], [4.575658638225856], [5.238680044517927], [5.334183399180498], [3.900188997563438], [3.1204540408095647], [3.4779610866416792], [3.5728636382356465], [4.3724806791400574], [4.437991309941803], [5.942620368496524], [4.558494149052374], [4.792381105297464], [2.036281637239631], [5.011519841266252], [3.7162514842246868], [3.471711026208947], [2.887923346647264], [3.815165274384144], [4.137854360852231], [3.8154737976221202], [4.431446684341928], [3.82493164433346], [4.027195023752956], [5.471928066924671], [4.018303188510836], [3.637840396755074], [5.3880397268343145], [2.1957451054372132], [3.5328389596397947], [4.884261943377899], [4.640054442497226], [4.5611652602936585], [3.7025664355968315], [4.557317675114401], [2.570149800311317], [2.1928605675738533], [3.596597462767908], [4.803092904030182], [3.9668295454797473], [3.2763624954933657], [4.14691808909472], [2.4540064547747495], [3.9481937145910657], [4.905943716536807], [2.7650483306562714], [4.016588043181055], [4.222598709620608], [4.509658742404212], [4.89987225899238], [4.7559842618354295], [3.070078248979988], [5.614459239373549], [4.381034678597828], [2.9977189654606735], [2.6349620390145456], [4.082984921805165], [3.4989450281969425], [5.012402561130589], [2.4494255363368027], [6.04278779834479], [5.535585065549722], [5.420230380844216], [4.786917856315333], [4.683571908854166], [4.166397626043541], [4.084092462131169], [4.8075252283525804], [2.59052896545951], [3.480351521304418], [4.8181681099815625], [4.445333180922504], [4.464091422304067], [4.437110188029514], [3.159948237282289], [5.569250748194198], [4.17129364247914], [3.134221211816219], [3.105931206258723], [2.842764931656882], [2.8011795407545463], [6.306720720899866], [3.4334400632582476], [4.455722253618195], [3.588138087969443], [4.975521145205956], [4.376290823983966], [2.947183175321833], [4.731831449287935], [3.594913827197108], [4.775881724055571], [4.382932844288892], [4.639516042725019], [2.4834407484293877], [4.118276896638043], [4.406364205407463], [4.291007843579619], [2.403414743061079], [3.998419264589215], [5.64323318767385], [3.062202419618558], [4.205814516424921], [3.193577243505919], [3.955732399828041], [1.7102151469300866], [2.476661827518943], [4.473653194279748], [4.109840735219418], [4.671584563977331], [2.828646857920927], [3.6502339920430034], [3.319244561335152], [4.180497690382692], [3.8540114649234476], [4.31949808677652], [4.864257026130733], [4.737639100542194], [2.666779579555456], [3.1989288894227714], [3.8273703408018838], [4.443472277622282], [4.422033588957548], [6.16657207199509], [4.0537025112862946], [4.1537376887026864], [3.397118622715247], [4.484413595849952], [3.604441183068369], [3.1586437839446355]], \"hoverlabel\": {\"namelength\": 0}, \"hovertemplate\": \"Cluster=Cluster 0<br>PCA1=%{x}<br>PCA2=%{y}<br>Feature=%{customdata[0]}\", \"legendgroup\": \"Cluster=Cluster 0\", \"marker\": {\"color\": \"#636efa\", \"opacity\": 0.5, \"symbol\": \"circle\"}, \"mode\": \"markers\", \"name\": \"Cluster=Cluster 0\", \"showlegend\": true, \"textposition\": \"top center\", \"type\": \"scatter\", \"x\": [-5.278097629547119, -6.1784186363220215, -5.611978054046631, -7.027503967285156, -6.425078868865967, -6.078079700469971, -7.444376468658447, -4.482356548309326, -5.939921855926514, -6.719666004180908, -6.235559463500977, -6.371644020080566, -4.279750347137451, -6.663607120513916, -6.186374187469482, -7.731220245361328, -6.231062412261963, -5.808089256286621, -5.676522254943848, -4.59131383895874, -4.701606750488281, -5.953861236572266, -6.090645790100098, -7.402953147888184, -5.742506980895996, -7.618121147155762, -4.84532356262207, -5.191931247711182, -5.344825744628906, -6.660876274108887, -5.819209098815918, -5.019591808319092, -6.8984375, -4.271054744720459, -6.366772651672363, -5.006258487701416, -4.187655448913574, -5.895946979522705, -4.954431056976318, -5.984757423400879, -5.477515697479248, -6.1372504234313965, -4.413901329040527, -5.72035551071167, -6.679617404937744, -5.2212395668029785, -3.9009809494018555, -7.413066864013672, -4.123078346252441, -5.083848476409912, -6.7434844970703125, -5.822748184204102, -7.11807918548584, -5.171859264373779, -4.525867462158203, -4.604507923126221, -4.966167449951172, -5.414583683013916, -5.885439395904541, -5.038549423217773, -5.15839147567749, -5.319966793060303, -4.5186285972595215, -4.713067531585693, -6.917103290557861, -4.932671070098877, -6.090587615966797, -5.965991497039795, -6.852248668670654, -7.245964050292969, -6.0107502937316895, -4.685046195983887, -6.537695407867432, -5.34732723236084, -5.202770233154297, -4.680789947509766, -5.068051338195801, -4.973151206970215, -5.8980560302734375, -5.395216941833496, -7.001620769500732, -7.173563480377197, -6.1977434158325195, -6.405293941497803, -6.883929252624512, -5.2525811195373535, -4.884466648101807, -6.401281356811523, -3.8300693035125732, -4.50308895111084, -4.975367546081543, -7.002579689025879, -4.730198383331299, -5.7912821769714355, -6.244909286499023, -6.745690822601318, -5.378147125244141, -6.580519199371338, -4.277320861816406, -4.064735412597656, -5.234222888946533, -6.11607027053833, -5.626737117767334, -5.906805992126465, -5.522475242614746, -5.929464817047119, -5.145137786865234, -6.3753767013549805, -4.96693229675293, -4.31340217590332, -4.929216384887695, -5.174914836883545, -5.091568470001221, -3.64216685295105, -5.781750202178955, -4.982814788818359, -6.161491394042969, -4.456852912902832, -5.541489601135254, -6.549647331237793, -4.300553798675537, -5.578914165496826, -5.135774612426758, -4.505528926849365, -4.6475396156311035, -5.340836048126221, -5.683932781219482, -4.4809794425964355, -4.963479042053223, -3.369722843170166, -4.340785503387451, -5.300295352935791, -5.046933174133301, -5.98737907409668, -5.626512050628662, -6.261229038238525, -6.048402309417725, -3.735506057739258, -5.759435653686523, -6.894687175750732, -5.725854396820068, -5.600800037384033, -7.3928093910217285, -4.983485221862793, -3.9938108921051025, -4.315156936645508, -4.897516250610352, -5.84391975402832, -4.887736797332764], \"xaxis\": \"x\", \"y\": [-5.551486492156982, -5.7305521965026855, -6.427095413208008, -6.529168128967285, -5.929137229919434, -5.421425819396973, -7.252023220062256, -6.591653347015381, -6.8546462059021, -7.6764020919799805, -6.532135009765625, -5.097511291503906, -5.659717559814453, -7.863751411437988, -6.7829508781433105, -5.902265548706055, -6.129024028778076, -3.4163506031036377, -6.991366863250732, -5.271809101104736, -5.869997978210449, -6.25895881652832, -5.606119155883789, -5.5404953956604, -6.572232723236084, -4.721245765686035, -7.533973693847656, -6.768776893615723, -4.585057735443115, -5.818841934204102, -6.41530704498291, -7.732387065887451, -5.892990589141846, -5.476083278656006, -5.3555426597595215, -5.9979472160339355, -6.1962127685546875, -4.084515571594238, -6.835522174835205, -7.148073673248291, -6.2275919914245605, -7.086784362792969, -5.3916096687316895, -5.951314926147461, -5.99955940246582, -6.154853820800781, -7.0670976638793945, -5.658604145050049, -5.7238006591796875, -4.692249298095703, -6.246674537658691, -5.636263847351074, -5.951630115509033, -5.192735195159912, -7.200019359588623, -6.482161998748779, -6.669426441192627, -5.469134330749512, -6.093806743621826, -4.780923843383789, -4.21294641494751, -6.10606575012207, -5.043642044067383, -7.220437526702881, -6.6034770011901855, -5.771862506866455, -6.463650226593018, -5.914711952209473, -6.35788631439209, -5.735559940338135, -5.511307716369629, -6.598195552825928, -6.915010452270508, -7.697227478027344, -6.104887962341309, -5.533056735992432, -5.303490161895752, -7.3522162437438965, -7.207034111022949, -4.421234130859375, -7.899192810058594, -4.4272379875183105, -6.468997955322266, -5.3452982902526855, -5.98336124420166, -6.663728713989258, -4.612441062927246, -5.964865684509277, -6.60699987411499, -7.060484409332275, -7.094305515289307, -4.379133701324463, -6.706565856933594, -6.436225891113281, -3.7645905017852783, -5.514069557189941, -5.553945064544678, -5.373129844665527, -6.35967493057251, -5.990758419036865, -6.2278571128845215, -5.211647987365723, -5.92788553237915, -5.960651874542236, -6.398948669433594, -5.54786491394043, -6.2819976806640625, -6.611651420593262, -5.86012601852417, -6.658451080322266, -5.7325873374938965, -6.534260272979736, -6.950683116912842, -5.550738334655762, -5.7674689292907715, -6.670234680175781, -5.4584879875183105, -5.828592777252197, -6.447779655456543, -6.148777961730957, -7.233209133148193, -7.121583461761475, -6.427049160003662, -6.161181926727295, -6.828656196594238, -4.662572383880615, -8.596147537231445, -7.170472621917725, -5.695245265960693, -5.785099983215332, -7.1899261474609375, -7.172691822052002, -6.333516597747803, -5.293082237243652, -4.778138637542725, -6.198058128356934, -5.914713382720947, -5.759609222412109, -6.879007816314697, -5.189399719238281, -6.932048320770264, -6.266290664672852, -6.709833145141602, -5.212468147277832, -7.243124961853027, -4.809636116027832, -5.908442497253418, -6.725048542022705, -5.186983585357666], \"yaxis\": \"y\"}, {\"customdata\": [[-4.427001557225854], [-1.922005839291805], [-4.387575467492265], [-3.9694668264283384], [-2.5171801250398698], [-4.798559194966874], [-5.286186539477244], [-4.967065551218751], [-5.617994128611749], [-3.6065716585129675], [-3.560920291742237], [-4.776685212394792], [-3.217605586267773], [-6.410374314875324], [-5.327883270179908], [-5.081932873813407], [-4.512250445339747], [-6.622417484482693], [-4.6093448905635706], [-6.259909130025182], [-3.6066407622640466], [-4.958776373282114], [-4.436566058275696], [-4.87894654833167], [-6.121568504518108], [-4.479957639946997], [-4.319053112368992], [-2.621044816634603], [-3.5100410231074775], [-5.32148887100278], [-3.77161148612277], [-4.264251687140179], [-4.777415826779658], [-5.04445135060376], [-5.336176636693797], [-5.643253027826946], [-3.569501842260645], [-4.489372151148721], [-4.1674588192039055], [-4.894681463879625], [-5.8083179713929765], [-3.847447705240136], [-4.561185452443247], [-4.432442043636493], [-1.285834504921933], [-3.8906592587132494], [-4.804363787201476], [-3.9053429938418427], [-3.499399483385778], [-3.4241338220092468], [-3.7583688807168327], [-3.7944676898504626], [-4.028479966778737], [-3.597075342865613], [-4.4905449478798865], [-3.331987004010788], [-5.571327154196277], [-3.2427249507538987], [-4.456231814121037], [-5.261349379661721], [-4.011422544881912], [-4.355359811384103], [-5.249606304025392], [-4.057970793764329], [-6.3166159677383655], [-5.866415944275818], [-4.887748385970015], [-4.06055064728896], [-4.8907603849312276], [-5.098072987438352], [-2.2441725863023296], [-6.144707747396916], [-5.458991180953892], [-4.257616210069049], [-3.101334336839254], [-7.692010963227167], [-4.094078977076141], [-4.96445844148103], [-4.117763197701336], [-4.364712681082785], [-5.12770850760253], [-3.863792537347593], [-6.362229284967608], [-3.9069506098291082], [-5.1813071682652], [-4.780286682612059], [-5.839775155996588], [-3.7122881522358004], [-3.910053025798542], [-6.913121637334043], [-4.950405210399337], [-4.07531178441711], [-4.399721368203007], [-3.1634154503357568], [-5.535010290721081], [-4.863538506381117], [-3.7106268473064525], [-3.9933119247085074], [-3.689858612717864], [-3.6550717252898437], [-4.30239099376119], [-5.508905994628022], [-3.673299322100756], [-3.17568913638607], [-6.597891855891002], [-7.136155048631588], [-5.424880369429536], [-3.9465721466301082], [-5.168350573019038], [-5.127589933051832], [-3.797364382927511], [-3.0219416183900627], [-4.669834248703738], [-2.5832205243970545], [-6.196367384006262], [-5.033198276888556], [-3.620942370160816], [-3.121459950606229], [-5.668046199190705], [-5.665829121984701], [-4.742271212621588], [-6.136048456360436], [-3.1827564576395204], [-5.066330119983229], [-4.745517358021639], [-5.041400315165297], [-4.721080821451611], [-5.239927738565175], [-4.4389014127529665], [-3.6234814252135514], [-4.699337397215292], [-6.338549851044303], [-5.578367550364385], [-5.856538931554978], [-6.9099456251514395], [-3.3729531597048705], [-3.4734524240770774], [-4.620892784744745], [-3.176862350233627], [-3.879530176749562], [-5.10765166900953], [-3.7460236807744978], [-3.9540515087703563], [-3.929753221229616], [-4.390804554951678], [-5.263361691900033], [-4.804684152075301], [-5.73361613955305], [-3.230819539084341], [-4.9026556217121655], [-5.481387923248055], [-4.078911036902437], [-3.855702745599775], [-5.925412094338695], [-4.859667616127855], [-5.157684498573838], [-4.224144412820082], [-4.05462567192179], [-3.6742877614046274], [-5.232942866928181], [-4.936522625121104], [-3.8599269459637675], [-3.2673089212383584], [-4.486072269519243], [-5.078323364083814], [-4.244014837291473], [-4.6319297056575675], [-3.8103518587307352], [-5.187110328490501], [-5.610249627772052], [-4.774095137489607], [-4.10419314992255], [-5.404476079587275], [-4.600212503396584], [-2.8837143050161718], [-4.847656259585593], [-4.356430168033079], [-4.604281048907604], [-4.385136668674632], [-4.714155345099538], [-3.7667264266188876], [-4.785348012523385], [-5.825164142609103], [-3.326327656852424], [-4.684199985487289], [-4.071899332957524], [-7.335799787304904], [-4.312702717361672], [-4.976216415623022], [-3.3911775745959805], [-5.564566482860771], [-5.290849866570968], [-4.375825878186432], [-3.1639882396531473], [-3.4159501174229483], [-4.513089266928751], [-6.24462541326681], [-4.37490599824465], [-5.591179737116423], [-4.146584938259902], [-5.622272256766618], [-3.580536360924427], [-4.491899073370021], [-5.637822773569522], [-3.5620553990184476], [-5.71200402051801], [-4.26688578835538], [-5.0473099790674425], [-3.9648437510523165], [-5.471887452352761], [-3.9335646200366265], [-3.6598054991813695], [-1.8349134348987608], [-3.9799380992724283], [-2.8988544905356135], [-3.1549371546637532], [-2.3847064573390293], [-4.453058532588941], [-5.612447697320118], [-5.775008341096385], [-3.1244821632743713], [-4.986785982432637], [-4.203662025534316], [-3.9469049821081366], [-4.575658706766917], [-5.138965895897666], [-5.185949325319541], [-5.51300921953313], [-4.873121900912499], [-4.1518096687004675], [-5.072789223171927], [-6.4851427040050735], [-4.955027991707502], [-5.5467407369311195], [-2.683730660524901], [-4.750438883340904], [-5.230602448545306], [-5.568622196630715], [-4.96222325883386], [-6.2520122340973705], [-6.6500203257746175], [-2.0444624462070298], [-4.903554795132813], [-3.4363235013112625], [-3.9916540887525076], [-6.41158731588719], [-3.414435284660546], [-6.845784570565465], [-4.3391241965523335], [-3.6227872650380815], [-3.792320762851451], [-6.216848175459498], [-4.045565624756902], [-3.7428283538317566], [-3.3428368381649234], [-2.6486855581138924], [-4.600578165639894], [-5.030550559355724], [-4.67974426918763], [-2.7483958551957492], [-3.8338792723673984], [-5.423373629067487], [-2.9296886435691354], [-4.651629509415527], [-5.962929020580656], [-3.4827593218755286], [-4.9226963982544], [-3.245067857648426], [-5.507022927620261], [-3.8728024901289286], [-2.544488657733788], [-4.6204760014989334], [-5.050657239628276], [-4.280700058534139], [-4.636968444172823], [-4.669854105111596], [-5.011895322311469], [-3.6152802537889874], [-3.924029842588756], [-4.358411905024234], [-5.721782946917048], [-4.610266449598738], [-6.14780979541583], [-6.071797950005768], [-4.402386944685413], [-2.8665221194990615], [-5.448419649977758], [-4.409099327560603], [-4.637439230475052], [-4.1623949111999305], [-3.943337057859285], [-4.362084365191827], [-3.8740058863529137], [-5.770880837080354], [-4.981599688632257], [-3.86054927815483], [-5.176856104053915], [-5.60566603380485], [-4.355572805562225], [-4.702731212297441], [-5.165111764911145], [-5.257175351182836], [-4.1466778808837805], [-5.629952344300044], [-6.3667142132998125], [-6.182790354328898], [-4.873109424700771], [-4.622102123042752], [-5.210038056031906], [-3.4242610317328164], [-6.410000699713182], [-5.237332061744842], [-5.698154931989415], [-4.5343101462423325], [-3.77143110065899], [-5.13213512976786], [-2.6351504900898055], [-4.197512127744031], [-3.6673973844673875], [-3.5779009005673488], [-5.922516251221286], [-5.4133044693878265], [-3.8883584533304347], [-6.066444564429068], [-4.975256825079506], [-4.302380659523402], [-5.639589605661444], [-4.040452443923671], [-3.6744660481814906], [-4.959569577141751], [-4.54381540214429], [-5.75013626952488], [-5.144849861908204]], \"hoverlabel\": {\"namelength\": 0}, \"hovertemplate\": \"Cluster=Cluster 1<br>PCA1=%{x}<br>PCA2=%{y}<br>Feature=%{customdata[0]}\", \"legendgroup\": \"Cluster=Cluster 1\", \"marker\": {\"color\": \"#EF553B\", \"opacity\": 0.5, \"symbol\": \"circle\"}, \"mode\": \"markers\", \"name\": \"Cluster=Cluster 1\", \"showlegend\": true, \"textposition\": \"top center\", \"type\": \"scatter\", \"x\": [9.586624145507812, 9.223485946655273, 9.411746978759766, 10.879870414733887, 8.172337532043457, 10.350154876708984, 10.859332084655762, 11.764973640441895, 13.477995872497559, 10.247224807739258, 11.812260627746582, 10.118315696716309, 8.973146438598633, 11.09760856628418, 11.303634643554688, 9.876276016235352, 8.645641326904297, 11.732544898986816, 8.846110343933105, 12.864542007446289, 9.431970596313477, 9.638471603393555, 11.497346878051758, 12.550228118896484, 9.835391998291016, 10.654882431030273, 9.879548072814941, 8.9500150680542, 11.05984115600586, 11.061823844909668, 10.508551597595215, 11.98831558227539, 10.554250717163086, 10.421464920043945, 11.027165412902832, 10.387219429016113, 11.071856498718262, 10.252145767211914, 9.955853462219238, 10.727689743041992, 10.948249816894531, 10.467413902282715, 11.324873924255371, 11.402939796447754, 8.113648414611816, 8.285948753356934, 7.822752475738525, 10.12195110321045, 10.36834716796875, 8.210776329040527, 8.831711769104004, 11.379936218261719, 9.925164222717285, 8.426918983459473, 11.864900588989258, 8.38351821899414, 11.47576904296875, 9.682099342346191, 10.8565673828125, 11.042167663574219, 9.388148307800293, 9.167375564575195, 10.359676361083984, 10.260583877563477, 10.227701187133789, 11.509385108947754, 9.21645450592041, 10.633148193359375, 10.639230728149414, 12.067315101623535, 9.201394081115723, 10.609088897705078, 10.649477005004883, 12.543280601501465, 9.10411548614502, 12.719560623168945, 9.853660583496094, 10.321572303771973, 10.803901672363281, 10.69420051574707, 9.574491500854492, 10.907205581665039, 9.320338249206543, 10.1317138671875, 9.920689582824707, 9.417739868164062, 10.047497749328613, 7.896267890930176, 11.000445365905762, 11.733555793762207, 10.25818920135498, 10.157475471496582, 9.914257049560547, 8.319443702697754, 11.983437538146973, 10.57491683959961, 9.51822566986084, 10.164697647094727, 8.535090446472168, 10.357905387878418, 10.810932159423828, 9.969223022460938, 10.230570793151855, 10.097224235534668, 10.829280853271484, 9.816386222839355, 11.631707191467285, 10.272909164428711, 9.530149459838867, 10.823974609375, 11.311179161071777, 9.932765007019043, 10.388426780700684, 10.666074752807617, 10.937787055969238, 9.762348175048828, 9.0703125, 9.301995277404785, 10.272111892700195, 10.940545082092285, 10.851580619812012, 12.348251342773438, 9.360142707824707, 10.591742515563965, 10.622806549072266, 8.83831787109375, 12.732752799987793, 10.267194747924805, 10.182684898376465, 11.03122615814209, 9.55771255493164, 11.020733833312988, 11.3504638671875, 12.23636245727539, 10.315361976623535, 10.557683944702148, 9.1775484085083, 10.095343589782715, 10.390539169311523, 10.767224311828613, 10.754344940185547, 9.294379234313965, 9.413189888000488, 10.710334777832031, 10.151695251464844, 10.436585426330566, 10.227173805236816, 9.336969375610352, 8.296109199523926, 10.450332641601562, 10.938104629516602, 10.651662826538086, 8.891631126403809, 12.3478422164917, 10.614701271057129, 10.824359893798828, 10.523273468017578, 11.009368896484375, 9.000760078430176, 9.802651405334473, 10.292302131652832, 9.681674003601074, 8.740449905395508, 11.06795597076416, 9.824706077575684, 9.484286308288574, 9.438720703125, 11.20630931854248, 11.039413452148438, 10.49936580657959, 10.926841735839844, 9.610686302185059, 10.641473770141602, 10.359790802001953, 9.629197120666504, 8.940024375915527, 10.462023735046387, 9.368294715881348, 10.836054801940918, 10.535264015197754, 9.307530403137207, 11.51779556274414, 11.528609275817871, 8.700970649719238, 9.791231155395508, 10.326958656311035, 11.472530364990234, 10.251055717468262, 10.542492866516113, 9.852462768554688, 10.734810829162598, 11.402311325073242, 12.026354789733887, 8.787165641784668, 10.565862655639648, 9.479545593261719, 11.587928771972656, 10.736381530761719, 10.42159652709961, 9.450007438659668, 11.662949562072754, 10.400383949279785, 11.308133125305176, 9.642233848571777, 10.368744850158691, 10.356342315673828, 11.238777160644531, 9.103962898254395, 9.554518699645996, 10.437713623046875, 10.597343444824219, 8.501152038574219, 7.981241703033447, 9.85744857788086, 8.716678619384766, 10.123897552490234, 9.319571495056152, 10.256988525390625, 11.257466316223145, 11.586121559143066, 9.767148971557617, 10.107394218444824, 10.1167573928833, 8.840982437133789, 12.061261177062988, 10.912532806396484, 8.21051025390625, 9.94576358795166, 9.696080207824707, 10.559845924377441, 9.928118705749512, 12.864749908447266, 11.269871711730957, 10.999493598937988, 9.23449420928955, 9.071194648742676, 10.733394622802734, 11.312091827392578, 10.075540542602539, 10.728158950805664, 11.922412872314453, 9.931710243225098, 9.773642539978027, 9.366188049316406, 9.391805648803711, 11.313307762145996, 9.858078002929688, 12.028372764587402, 10.486108779907227, 9.150259971618652, 9.619132995605469, 11.04703140258789, 10.121079444885254, 10.390113830566406, 10.257308006286621, 9.650910377502441, 10.015130043029785, 10.50212574005127, 9.19198226928711, 9.551654815673828, 10.223544120788574, 9.771011352539062, 10.165060997009277, 10.316781044006348, 11.038187980651855, 10.317760467529297, 9.288471221923828, 9.48969841003418, 10.72055721282959, 9.53554630279541, 10.736888885498047, 10.799473762512207, 10.208773612976074, 11.22187614440918, 11.069137573242188, 9.557000160217285, 9.57274055480957, 9.665547370910645, 10.932171821594238, 10.503241539001465, 10.91175651550293, 10.687933921813965, 10.796743392944336, 10.696860313415527, 11.333401679992676, 10.857806205749512, 11.860264778137207, 10.84562873840332, 11.815064430236816, 9.513970375061035, 9.674220085144043, 8.2554349899292, 8.275809288024902, 10.749007225036621, 11.866837501525879, 9.537132263183594, 11.50632095336914, 8.903563499450684, 7.816201210021973, 11.572528839111328, 10.873199462890625, 10.844613075256348, 8.803353309631348, 10.493922233581543, 10.046978950500488, 11.880999565124512, 11.053449630737305, 8.615795135498047, 9.47170639038086, 10.892142295837402, 11.666946411132812, 9.692203521728516, 12.438912391662598, 9.978611946105957, 10.347042083740234, 9.485356330871582, 9.004149436950684, 11.064413070678711, 7.169133186340332, 10.099584579467773, 11.037585258483887, 11.451272964477539, 10.00050163269043, 11.01150131225586, 9.27197551727295, 10.384592056274414, 12.3754301071167, 10.340625762939453, 11.556524276733398, 11.891135215759277, 10.407768249511719, 10.119438171386719, 10.172340393066406], \"xaxis\": \"x\", \"y\": [0.2694438397884369, 0.9542140960693359, 0.4798251986503601, -1.723795771598816, 0.11998458206653595, -1.135433554649353, 0.9752084612846375, -0.4785931706428528, -1.3939441442489624, -1.9362438917160034, -1.3254419565200806, 0.012538062408566475, -1.3895423412322998, 0.7751045227050781, -0.7069787979125977, -1.9527242183685303, -1.204390525817871, -0.8118812441825867, -1.105523705482483, -0.8388034701347351, -0.9354586005210876, -0.3365950286388397, -1.7512907981872559, -0.1501529961824417, 1.331406831741333, -0.41109758615493774, 0.044104114174842834, -2.613906145095825, -1.4475754499435425, 0.882106602191925, 0.26559802889823914, -0.04763754829764366, 0.35039806365966797, -0.6058796644210815, -2.8308064937591553, -1.3907086849212646, -0.49216631054878235, 0.561881422996521, 0.4219430387020111, 0.368962824344635, 0.8078756332397461, -1.368086338043213, -1.768552303314209, -0.5030162334442139, -2.2819344997406006, -0.7264490723609924, 0.08438100665807724, 0.32583385705947876, -0.0994894802570343, -0.37244540452957153, -2.7314794063568115, -1.4020861387252808, -1.315394639968872, -1.3058552742004395, -0.9260061979293823, -0.4641971290111542, -1.4753025770187378, 0.023840708658099174, 0.24977119266986847, -1.2172635793685913, 0.0012492891401052475, -1.7347012758255005, 0.28237226605415344, 0.04154963791370392, 2.096867322921753, -0.6163225769996643, -1.3023829460144043, -2.1237270832061768, -2.0237133502960205, -0.33923739194869995, -2.5616109371185303, -2.0176150798797607, -0.1820765882730484, -0.12213201820850372, -2.816223621368408, 0.13047751784324646, 0.039835140109062195, 0.779750406742096, -0.04981539770960808, -1.3325550556182861, 0.25397977232933044, -0.0800919458270073, -0.13094498217105865, -1.7340571880340576, -1.8060065507888794, -0.6996378302574158, 0.514270544052124, 0.07652503252029419, -0.972942054271698, -0.824364185333252, -0.004705958534032106, -1.5991414785385132, -1.0861608982086182, -2.2589609622955322, 0.9398615956306458, -0.9217066168785095, -0.7017011046409607, -0.5385387539863586, -2.278067111968994, -0.3856777250766754, -1.399752140045166, -0.041377078741788864, -1.6704294681549072, -1.620866060256958, -1.0246260166168213, 0.8764345049858093, -0.8498080372810364, 0.37822067737579346, 2.2498607635498047, -0.16064868867397308, -1.7300461530685425, -0.12175291776657104, 1.1834763288497925, 1.1000467538833618, -0.424409419298172, -1.3521442413330078, -0.4193512797355652, -1.1668580770492554, -1.989284634590149, -4.625002861022949, 0.2181204855442047, -0.440128892660141, 0.3639223873615265, -0.9568313360214233, 0.5489518642425537, -2.0914604663848877, -0.5210174918174744, -0.444549560546875, 0.10331852734088898, -2.095128059387207, -1.7234574556350708, -1.3195008039474487, -0.2826848030090332, -1.339136004447937, -1.9043364524841309, 0.15778687596321106, 0.2421085387468338, -0.21101818978786469, -0.8964560627937317, 0.7701219320297241, -1.273752212524414, -0.8597841858863831, -0.057906705886125565, -1.1681872606277466, -0.25795918703079224, -1.2199369668960571, -0.01478471141308546, -0.7863764762878418, 1.7721798419952393, 0.8885625600814819, -0.08551192283630371, -0.8226107954978943, -1.931115984916687, 0.27821311354637146, 0.5271872282028198, -0.9809035658836365, 0.4499611258506775, 0.7950357794761658, -0.8484796285629272, 0.35539716482162476, 0.9881056547164917, 0.9803537130355835, -2.5815346240997314, -0.8529298305511475, -1.4650774002075195, 0.7933335304260254, -0.30303266644477844, -0.5376788973808289, -1.0878099203109741, -0.6723305583000183, -1.0203039646148682, 1.2500805854797363, -0.03926542028784752, -1.6018879413604736, 0.15121851861476898, -1.0116603374481201, 1.3226510286331177, -0.7891749739646912, -0.5043618679046631, -1.119515299797058, 1.623350739479065, -0.33460190892219543, 0.35060039162635803, -0.9959737062454224, -0.35322636365890503, 1.6706743240356445, -0.6849143505096436, -1.0140126943588257, -1.790629267692566, -0.7416314482688904, -0.05203498527407646, -0.2309570163488388, -0.9593906402587891, -0.9646680355072021, -0.9259080290794373, -0.7005471587181091, -0.021306462585926056, -0.7016744613647461, -0.6844619512557983, -0.6058037877082825, -0.5184704661369324, -1.0466986894607544, 1.6097215414047241, -0.1118270605802536, -1.8120328187942505, -1.0898265838623047, -1.8172093629837036, -0.02072218805551529, -0.07088077813386917, -1.2677299976348877, -1.5888829231262207, -0.49226030707359314, -1.8319302797317505, -1.0533761978149414, -0.1986655443906784, 0.4333403408527374, -0.9660840034484863, 0.1395646631717682, -1.574230432510376, -2.188863754272461, -1.7499183416366577, 0.357318252325058, -1.1580536365509033, -0.5750500559806824, -0.026257451623678207, -1.2495135068893433, -0.5894070267677307, -0.6300116181373596, 1.2906750440597534, -1.310659408569336, -0.32551300525665283, 0.4578828513622284, 1.0999418497085571, -2.4740896224975586, 1.171156644821167, -0.37408992648124695, -0.25633496046066284, 0.452694833278656, -0.9741522073745728, -1.5218877792358398, 0.4318057894706726, -0.5575262308120728, -1.13893461227417, 0.2742774188518524, 0.9591127038002014, 0.10839422792196274, -0.2518535554409027, -0.8883136510848999, -2.656907320022583, -0.6878066658973694, -0.6782353520393372, -2.661649703979492, -0.9654794335365295, -2.2523460388183594, -0.2675471603870392, -1.5923686027526855, -1.0528782606124878, 0.57565838098526, 0.9613839387893677, -1.9885735511779785, 0.43117690086364746, 0.08523049205541611, -0.3553462028503418, 0.5855951905250549, -0.5980730056762695, -1.337903380393982, -0.06166291981935501, -1.465665578842163, -0.023082533851265907, -1.2172576189041138, -1.9027751684188843, -0.04105708748102188, 1.1420960426330566, -0.06320109218358994, -1.3523777723312378, -0.09434875100851059, 1.1062954664230347, -0.4192086160182953, -1.5328032970428467, -0.41544660925865173, -0.46343278884887695, -0.9180143475532532, 0.13863997161388397, -0.7346475124359131, -2.252586841583252, 0.18721896409988403, -1.044026494026184, -1.1123123168945312, -1.3456097841262817, -0.9863908290863037, 0.3254314064979553, -2.2289562225341797, -0.9698606729507446, -1.5750551223754883, -0.8241198658943176, 0.4743560552597046, 1.1280996799468994, 0.8311675190925598, -1.2734899520874023, -0.09860527515411377, -1.607003092765808, 1.2427719831466675, -0.9340863227844238, -1.2760770320892334, 0.7715910077095032, -1.8762481212615967, -1.719744086265564, -0.939922034740448, -1.403012752532959, -1.6553131341934204, 0.07326766103506088, -1.8195010423660278, -0.9825849533081055, 0.12895388901233673, -1.0812366008758545, -0.20458188652992249, -0.5234130024909973, 0.42553701996803284, -0.39757293462753296, -0.44003820419311523, -0.615955114364624, 0.5628355741500854, -0.9421790838241577, -0.05571006238460541, -1.191864013671875, -1.5563215017318726, -1.3395938873291016, -1.3635993003845215, 0.2890676259994507, -0.9450199604034424, 0.7739606499671936, -1.6141694784164429, -0.4104122221469879], \"yaxis\": \"y\"}, {\"customdata\": [[2.861422320330057], [0.9881323771368326], [1.6532303081707014], [0.12575412831797816], [1.9185095935635506], [2.3814386666145717], [1.1254670654994157], [1.4240248825946291], [1.3723922058892593], [1.9036289318222281], [2.8671053584095016], [1.8322388601161008], [3.1505579334155023], [2.625282459934443], [1.6012784037103198], [2.3832852628127337], [4.360399653722328], [1.2480123293279717], [2.7705022530739027], [2.628331924816577], [2.5453194512975603], [1.504590465267913], [1.1652813948958392], [2.2956986478818244], [2.3758984817406743], [-0.36801434063704397], [3.338803873672162], [1.4932236639278516], [2.254895160146413], [1.9573723374381458], [2.0324402605745506], [1.9786983585046736], [1.3154405686908404], [2.0680306455894355], [2.009586668763555], [1.9239663094049004], [2.644972669771852], [2.0164532123742847], [-0.25221432776368413], [0.4274688288800834], [0.5527323353658904], [2.9603421871348656], [2.2255715215836753], [2.024599365359311], [2.4566034839780837], [1.0474129610551146], [0.19077644360482937], [1.6322632224320779], [0.08209076439940333], [1.8504166960923123], [1.2978231467725847], [0.013563605241936783], [2.476745431049659], [0.055603869068174605], [2.1200567973432753], [1.5078240269577936], [1.0887906052405165], [2.2634355070815904], [3.2347084850094343], [1.7444940798035675], [0.44959873505640435], [0.8398760875582476], [1.554910563923954], [3.164638012420789], [0.8547954588339632], [0.9446565822710525], [3.5498388719330047], [3.09419682653835], [1.7297937597923443], [3.1942761935606345], [2.4940081837908026], [1.4401985384698155], [2.918218632081509], [2.6580464621371416], [3.3066034191378524], [1.455530174433607], [2.7733930047582582], [2.4403051371502986], [2.208489790673921], [0.942884964552404], [3.1168836520733945], [1.7831908319742404], [3.2676334271436023], [1.615045113597418], [2.7470396196766513], [0.8379014676173647], [2.6143514175357145], [2.227695332508312], [1.6588354452300766], [1.441597088658625], [2.612189411439274], [0.7771842014852877], [0.41602905236874976], [1.246211637579794], [1.522064669472969], [1.6848697595777353], [1.683304101118155], [4.81476342688835], [1.0272239663056217], [0.8977378250218165], [0.28338953349665674], [3.057646741832131], [2.223732585427978], [1.7429815264086987], [2.4693803809344366], [1.5484682548114292], [2.9027821800394307], [2.6701980777618095], [1.437894128580167], [1.5213569352329743], [0.7704466889326268], [1.2906887103546274], [2.3141483703812864], [3.1683620138999795], [1.9258181282270153], [3.9050933772916063], [0.36202191319304267], [0.31233344786054595], [2.976923040630324], [2.7786968829350966], [2.1682141199228084], [3.0755635662713674], [0.9193851048238583], [0.9348092503737734], [0.9217874347330729], [0.913259890214921], [1.917334199161002], [3.0209050681209453], [2.946071628340267], [0.9170536055373598], [2.9160759828942813], [3.3685543913000986], [1.457615334298644], [1.981209190162633], [1.1095948811290375], [2.356886547359739], [2.1817156789689927], [0.4519604050087431], [1.7877968329979805], [1.4842098535234873], [1.5219753671491174], [2.062791250895504], [2.2461864899720316], [1.764320166486964], [1.7581636813877448], [1.8953592877158338], [0.4120730751662638], [1.0136881175606094], [1.7988361005138669], [1.261453913267832], [-0.6325778569880627], [0.8520171124244381], [1.885543032093125], [1.0319604859004943], [-0.3504660742867589], [1.0370254461490267], [2.733009452372792], [0.3180354384564237], [1.9732181162143134], [1.6700563843862817], [1.6229433912580469], [0.9799863815624812], [2.47522084537659], [-0.11640321063255743], [1.1463323206172538], [1.5395350016658274], [0.6774629288272627], [1.7646336182423052], [0.7972535920618842], [1.669698118597554], [-0.2800245607220182], [1.8017700962751144], [2.2463198291871014], [0.4117918285604256], [0.4397906395044189], [0.2770219121205755], [0.6299544789845035], [0.29249820346567845], [2.6517554956053284], [2.0551630031163906], [2.537235755276878], [3.528805258554921], [2.857465547799097], [3.031507920551335], [-0.62708169726861], [3.10060193518549], [1.2425557565833831], [0.7711156845347034], [1.554193911608499], [1.8013689666581807], [4.090543664058552], [0.3337098572073822], [0.9115141842446589], [2.58592801495839], [2.400674851685757], [1.8713537432492808], [2.8556696764524956], [0.9772841087383078], [2.1130283798962726], [2.0118727630660427], [0.9229313912370569], [0.6959094384214275], [1.8104228989043223], [0.34941490649326523], [1.982196398832593], [0.9930933537156986], [1.7214786164485991], [2.6047215044592766], [1.6081218198487857], [1.3157718224342145], [0.2568025715239015], [1.8149374633141737], [2.3782516798991464], [3.3391394069313214], [2.5633689703084954], [3.7561743316206275], [2.1560324948919054], [3.3032577008880466], [3.215544984816888], [1.0324950148647165], [1.0132114156333376], [1.1415296229360383], [0.37031609137501253], [3.4041182795767777], [1.5382633801240575], [2.4406255423548924], [2.235253357020174], [0.9925350101111351], [2.565557356676902], [2.7484672388415703], [0.5200841514016139], [3.2668168809385865], [1.9313088827246583], [1.0137193075695126], [1.7346444582594829], [2.7952566937384207], [2.732355525939814], [2.6047935247683514], [1.1273446611915467], [1.0536408723411745], [2.622276690564934], [1.8673769799780824], [1.7227246410950914], [2.126075144544528], [2.777912600832142], [2.454509494573637], [-0.7376542593275737], [1.2272844350262226], [0.02765356782090378], [1.6558047592937386], [0.7948780408484178], [2.4424814588839983], [0.8608741221728683], [2.3005956964162793], [0.8832196020911762], [3.5995276489186847], [3.351535723990465], [2.1645185923860857], [0.6244238764445451], [3.125201950018914], [2.499532938347227], [2.246618707402215], [2.5634076311016787], [1.2309965216754324], [0.9206679517916466], [1.7315759839761207], [-0.5084315150910901], [1.2384897404105009], [2.349890371735974], [0.7935877535727478], [1.8102262789369352], [0.28754080854192354], [0.23454293739279342], [4.016766875758021], [0.14764188099691533], [0.660969215522202], [1.7576566510638196], [2.6613578459361835], [3.575153436103948], [2.6464334808902836], [1.284794385732734], [0.668625822071494], [-0.24023568706255505], [0.22698682189557706], [2.131768103015223], [2.5660358252102644], [1.4228691844837607], [2.6346839658039185], [-0.9916279405127466], [1.7170973835440853], [0.5460024755204946], [1.1607516637508901], [2.0256185415931083], [2.220042541049639], [2.505086761203335], [1.9364952232127077], [1.9094771606055208], [0.7873219261844372], [1.9853927098363675], [2.9616950887037774], [1.9630487780170496], [0.6686368245013603], [2.1555682075936526], [2.446630179719772], [1.7276244449933331], [2.8452469289423545], [2.7320784230721658], [1.6753146299789201], [2.8082448760872833], [1.842264047572788], [3.378522049317894], [1.8489755369543213], [-0.0908033407069937], [1.0218510728584613], [1.8987926862419662], [2.097466066024084], [2.185719867260849], [2.996192275321768], [1.1661762018516266], [2.347198434507245], [1.3964243459235073], [2.23507221827715], [2.1574880452617484], [1.3603379974767347], [1.1755420184892675], [0.12636262277002164], [2.846047390900189], [2.1359196533910607], [1.477393342515714], [2.0763873208832107], [1.6219429670843903], [1.2795435019331647], [2.6759777629252133], [0.07307809326984627]], \"hoverlabel\": {\"namelength\": 0}, \"hovertemplate\": \"Cluster=Cluster 2<br>PCA1=%{x}<br>PCA2=%{y}<br>Feature=%{customdata[0]}\", \"legendgroup\": \"Cluster=Cluster 2\", \"marker\": {\"color\": \"#00cc96\", \"opacity\": 0.5, \"symbol\": \"circle\"}, \"mode\": \"markers\", \"name\": \"Cluster=Cluster 2\", \"showlegend\": true, \"textposition\": \"top center\", \"type\": \"scatter\", \"x\": [-5.228050708770752, -5.574576377868652, -4.700812339782715, -2.3977129459381104, -5.2931599617004395, -2.965762138366699, -3.8021340370178223, -4.163531303405762, -5.271399021148682, -3.472325086593628, -4.304129123687744, -3.8037283420562744, -4.956845760345459, -5.806180000305176, -4.6415696144104, -5.542446613311768, -5.7931742668151855, -3.540374279022217, -5.644242286682129, -4.996805191040039, -4.289801120758057, -4.015538215637207, -4.131187915802002, -4.3702921867370605, -4.033321380615234, -4.25433349609375, -4.825992107391357, -3.9788436889648438, -4.556175708770752, -3.922410011291504, -3.814530611038208, -4.706995487213135, -3.287216901779175, -4.695039749145508, -4.672308921813965, -3.98043155670166, -4.550030708312988, -5.157169342041016, -3.8977949619293213, -3.9280803203582764, -4.464864730834961, -4.095621585845947, -3.9616525173187256, -3.658475637435913, -5.026005268096924, -4.519058704376221, -3.7061212062835693, -3.252882480621338, -3.313934564590454, -4.029524326324463, -5.017288684844971, -3.1356990337371826, -3.9344828128814697, -5.2469706535339355, -5.828063488006592, -4.140754222869873, -2.347851276397705, -5.158791542053223, -4.852499485015869, -2.5195693969726562, -3.3678033351898193, -3.1252248287200928, -3.838581085205078, -4.746588230133057, -3.5108346939086914, -3.867945671081543, -6.226373195648193, -4.458437919616699, -4.788094520568848, -6.327141284942627, -5.495307445526123, -4.824764728546143, -5.080452919006348, -4.247037410736084, -4.750514030456543, -4.4050774574279785, -5.3389105796813965, -4.943758010864258, -4.823774337768555, -3.370281934738159, -6.851500034332275, -5.5318217277526855, -5.4619855880737305, -4.778599262237549, -5.74407434463501, -4.063399791717529, -3.871206760406494, -3.914196252822876, -5.005364418029785, -4.377758502960205, -4.307817459106445, -4.444822311401367, -2.566537618637085, -3.4175186157226562, -3.038771629333496, -5.161783695220947, -5.147651672363281, -5.317016124725342, -3.7872085571289062, -4.215991973876953, -5.946476459503174, -4.039380073547363, -5.345516681671143, -4.121133804321289, -4.676112174987793, -4.1215434074401855, -5.181586265563965, -4.273569107055664, -4.087138652801514, -2.819251537322998, -4.831134796142578, -4.677097797393799, -4.6651387214660645, -4.820334434509277, -4.18103551864624, -5.354518413543701, -3.2678959369659424, -4.020258903503418, -5.647125244140625, -4.984030246734619, -5.755626678466797, -4.9059157371521, -4.8274359703063965, -2.6531789302825928, -4.535881519317627, -3.4362192153930664, -4.819874286651611, -4.8017072677612305, -4.94872522354126, -2.8078384399414062, -5.619495868682861, -6.0098981857299805, -4.723421573638916, -3.988034248352051, -4.908527374267578, -5.75324010848999, -4.384820461273193, -4.098102569580078, -6.135549068450928, -4.54677152633667, -3.1823956966400146, -3.590088129043579, -4.2108845710754395, -6.305023193359375, -4.665791988372803, -3.4323666095733643, -4.898242950439453, -4.009007930755615, -3.6042375564575195, -2.6572647094726562, -3.310241937637329, -3.615830421447754, -4.3459882736206055, -3.002943992614746, -2.3635032176971436, -3.5838472843170166, -5.531642436981201, -3.848496675491333, -5.576185703277588, -5.433319091796875, -4.301514148712158, -2.529794454574585, -4.666092395782471, -4.687297821044922, -4.180511474609375, -4.532917022705078, -2.6121397018432617, -3.3373024463653564, -4.635654926300049, -4.9962873458862305, -2.3874754905700684, -5.436094760894775, -5.663375377655029, -4.065618991851807, -5.453596591949463, -5.385476112365723, -4.864902496337891, -2.2513411045074463, -3.968353509902954, -2.6597206592559814, -4.74513053894043, -5.709222316741943, -5.189980983734131, -4.473092079162598, -1.9721755981445312, -5.622334003448486, -4.696305274963379, -5.459764003753662, -5.023860454559326, -6.582146644592285, -4.7725138664245605, -4.1210150718688965, -4.420925617218018, -5.023326873779297, -4.782379627227783, -5.576710224151611, -4.679651737213135, -4.158987522125244, -5.681228160858154, -3.4150543212890625, -3.8965659141540527, -4.794619560241699, -5.440423488616943, -4.496262073516846, -5.338475227355957, -4.9285173416137695, -4.881280422210693, -5.413618564605713, -5.162262439727783, -3.003831148147583, -4.980199813842773, -6.027966022491455, -4.513375282287598, -5.253455638885498, -5.376104831695557, -6.660322666168213, -3.9907867908477783, -5.4006428718566895, -4.996690273284912, -4.633147716522217, -4.809629440307617, -4.471339225769043, -4.103425025939941, -3.711869239807129, -5.29633092880249, -4.525884628295898, -5.721874237060547, -5.327233791351318, -4.744505405426025, -6.53326940536499, -3.0963218212127686, -4.278449058532715, -3.718456506729126, -3.9657859802246094, -5.890552520751953, -4.202919006347656, -3.1879067420959473, -4.5313825607299805, -3.8455615043640137, -3.141404151916504, -4.228089809417725, -3.416872024536133, -4.880997180938721, -5.672970294952393, -5.052380561828613, -3.1472795009613037, -4.622835159301758, -5.075969219207764, -3.124342679977417, -4.022227764129639, -5.332284450531006, -6.276116371154785, -3.5362586975097656, -4.191192626953125, -5.005516529083252, -5.314996242523193, -6.687227249145508, -4.992563724517822, -4.187487602233887, -6.940035343170166, -3.724755048751831, -4.795505523681641, -4.559572696685791, -4.946427345275879, -3.586615562438965, -3.768002986907959, -3.2149083614349365, -3.2279670238494873, -4.599410057067871, -4.840456962585449, -4.268517017364502, -4.028288841247559, -4.621427059173584, -6.968095302581787, -2.963218927383423, -3.31376314163208, -5.781766414642334, -5.827576637268066, -5.147158145904541, -4.400345802307129, -3.5245554447174072, -3.257228136062622, -2.3175768852233887, -2.6218202114105225, -6.133987903594971, -4.063984394073486, -4.894973278045654, -5.11141300201416, -2.2435061931610107, -4.690550804138184, -4.632762908935547, -3.5633034706115723, -4.67221736907959, -4.187235355377197, -4.394073963165283, -5.863489151000977, -4.648420333862305, -3.530487298965454, -4.492251396179199, -5.174239158630371, -4.755117893218994, -2.7297866344451904, -3.485600233078003, -4.987462997436523, -5.382525444030762, -4.000981330871582, -4.674766540527344, -2.349599599838257, -4.860650539398193, -4.6737165451049805, -4.721986770629883, -5.476134777069092, -4.03367805480957, -3.8084232807159424, -4.961280345916748, -4.7791266441345215, -3.1911866664886475, -7.118173599243164, -5.080164432525635, -4.859212875366211, -5.112124443054199, -5.654670715332031, -5.957447052001953, -5.428641319274902, -4.6391119956970215, -3.8897500038146973, -5.269270420074463, -4.414943695068359, -4.040029525756836, -5.654171943664551, -5.041046142578125, -4.229025363922119, -6.352135181427002, -4.643563747406006], \"xaxis\": \"x\", \"y\": [6.837408542633057, 7.688549995422363, 7.997407913208008, 7.578149795532227, 4.508737087249756, 7.994096755981445, 6.58814001083374, 6.664829254150391, 7.196338653564453, 6.9081878662109375, 6.294397354125977, 6.357281684875488, 6.275503158569336, 7.40596342086792, 6.759343147277832, 7.719657897949219, 7.453329086303711, 6.6639909744262695, 6.261964321136475, 8.348332405090332, 5.989857196807861, 5.495965003967285, 7.023200035095215, 6.923462390899658, 6.498251914978027, 7.818234443664551, 4.564194202423096, 7.9468674659729, 7.260735511779785, 6.350504398345947, 5.686551570892334, 8.29541301727295, 8.030280113220215, 9.006195068359375, 7.8450422286987305, 7.665505886077881, 7.767148494720459, 9.07919692993164, 7.286651134490967, 5.676666736602783, 7.204221725463867, 7.00225305557251, 7.42110013961792, 9.100870132446289, 5.255136966705322, 6.896609783172607, 8.457721710205078, 7.841207981109619, 6.2665252685546875, 6.363193988800049, 7.099061965942383, 8.94025993347168, 8.075106620788574, 6.70811653137207, 4.73018741607666, 6.4928693771362305, 6.30296516418457, 6.357773780822754, 7.4941840171813965, 5.682459354400635, 6.595769882202148, 7.231947422027588, 4.8758158683776855, 6.190038204193115, 8.31983757019043, 7.969806671142578, 6.730786323547363, 5.042346477508545, 8.005291938781738, 7.656706809997559, 8.129361152648926, 8.743449211120605, 6.844083309173584, 5.356913089752197, 7.415223598480225, 6.854816436767578, 6.1792097091674805, 8.598542213439941, 8.087179183959961, 5.817342758178711, 7.740201950073242, 8.581880569458008, 7.953935146331787, 7.562972545623779, 8.081314086914062, 7.3770527839660645, 7.237978458404541, 5.705313205718994, 7.002105712890625, 6.919416904449463, 6.079722881317139, 7.75982141494751, 9.348090171813965, 6.6299285888671875, 8.946024894714355, 5.818430423736572, 5.507565498352051, 7.687341690063477, 7.255300521850586, 8.072041511535645, 7.800755977630615, 7.810657024383545, 6.661989688873291, 8.475228309631348, 6.172091484069824, 6.518723487854004, 7.290640830993652, 6.917081356048584, 7.356317043304443, 7.333611488342285, 8.72948169708252, 8.656238555908203, 8.296331405639648, 6.216278553009033, 8.632299423217773, 9.566652297973633, 6.780978202819824, 8.123018264770508, 6.909355640411377, 5.710993766784668, 7.500504493713379, 5.063060283660889, 7.533799648284912, 8.07742977142334, 6.711642742156982, 5.899265766143799, 9.51576042175293, 4.438690662384033, 7.890745639801025, 9.178332328796387, 6.221024990081787, 5.510138511657715, 7.960940361022949, 8.424731254577637, 7.636394023895264, 7.092033863067627, 6.109973907470703, 7.805754661560059, 7.307710647583008, 6.782238960266113, 7.922348499298096, 6.718678951263428, 6.9421539306640625, 7.397380828857422, 5.522054672241211, 8.272066116333008, 7.622956275939941, 8.526037216186523, 6.391818046569824, 8.947216987609863, 7.847883701324463, 6.137281894683838, 6.497848033905029, 5.821597099304199, 7.040150165557861, 7.272801399230957, 4.575675010681152, 7.575870037078857, 8.616183280944824, 7.571817874908447, 8.047032356262207, 5.789638042449951, 5.240683555603027, 7.442081928253174, 6.025376319885254, 5.808043956756592, 6.045689105987549, 7.196605205535889, 7.307122707366943, 8.313982009887695, 8.171488761901855, 8.892618179321289, 8.030679702758789, 7.872857570648193, 7.807980060577393, 9.598870277404785, 7.414888858795166, 7.678668022155762, 8.823469161987305, 6.44069766998291, 7.829967021942139, 6.844079971313477, 6.331649303436279, 7.441855430603027, 7.956923961639404, 8.102964401245117, 7.994645118713379, 5.669144630432129, 6.138967514038086, 9.512624740600586, 7.563718795776367, 6.699069023132324, 6.951629638671875, 6.824095249176025, 5.72704553604126, 7.514005184173584, 6.887102127075195, 6.955748081207275, 11.390064239501953, 9.423483848571777, 5.44169282913208, 7.852124214172363, 7.168145656585693, 6.50200080871582, 4.657255172729492, 7.238894939422607, 7.506701469421387, 4.920501232147217, 7.6547651290893555, 6.4413323402404785, 9.60536003112793, 6.035730838775635, 7.649062156677246, 7.9798359870910645, 7.352887153625488, 6.558779239654541, 6.546195983886719, 7.529520511627197, 5.949380874633789, 7.7125701904296875, 6.880430221557617, 7.019989490509033, 6.734808444976807, 8.33347225189209, 7.707383155822754, 7.216586112976074, 5.914374351501465, 7.367117404937744, 7.9765625, 5.493988037109375, 8.256817817687988, 7.147860527038574, 5.462913513183594, 8.686325073242188, 5.798571586608887, 5.2779459953308105, 4.736123085021973, 6.201359748840332, 6.978449821472168, 6.725738048553467, 6.075498104095459, 7.1500420570373535, 7.229710578918457, 7.322146415710449, 7.801913261413574, 6.204155921936035, 6.636010646820068, 5.529134273529053, 7.2723493576049805, 7.8060832023620605, 6.86776876449585, 7.59280252456665, 6.769923686981201, 4.24607515335083, 6.110234260559082, 6.285617828369141, 6.883852481842041, 7.132007122039795, 8.078877449035645, 8.121255874633789, 7.882639408111572, 6.226231098175049, 7.532607078552246, 7.292171478271484, 7.1030354499816895, 8.687419891357422, 7.777287483215332, 7.021613597869873, 7.588634967803955, 5.520445823669434, 6.4705634117126465, 5.5462117195129395, 8.21241283416748, 5.299111843109131, 6.906255722045898, 7.19360876083374, 7.502323627471924, 7.481825828552246, 6.038036823272705, 7.914164066314697, 7.947192668914795, 7.752556324005127, 6.309517860412598, 5.735123634338379, 9.085021018981934, 7.716463088989258, 8.698933601379395, 6.368405342102051, 7.624256134033203, 8.305880546569824, 7.445467472076416, 7.73096227645874, 7.346150875091553, 5.529652118682861, 7.7884931564331055, 7.097692489624023, 6.364799499511719, 7.481171607971191, 8.716137886047363, 8.997771263122559, 6.775606632232666, 7.370902061462402, 5.921307563781738, 7.680453300476074, 4.939137935638428, 7.389662742614746, 7.732146739959717, 8.266349792480469, 6.128750324249268, 8.002006530761719, 6.3223419189453125, 6.110705852508545, 7.328267574310303, 7.560317039489746, 7.173200607299805, 7.295647144317627, 7.269070148468018, 6.243845462799072, 7.051021099090576, 7.513738632202148, 7.456792831420898, 7.67006254196167, 6.110948085784912, 7.125787734985352, 7.535964488983154, 7.386437892913818, 6.552470684051514, 4.394500255584717, 5.880651950836182, 6.97750186920166, 9.488231658935547, 5.941112995147705, 7.29634952545166, 7.810731410980225], \"yaxis\": \"y\"}, {\"customdata\": [[4.551146693799156], [3.439328363334545], [3.2393367728706264], [4.520077770105044], [3.948251182025343], [2.9520527356894974], [5.249343929667437], [2.2154767983412236], [3.8495920552983947], [5.855774407365931], [4.172134019727029], [3.3864628671363906], [4.484098692968758], [3.4315676513829696], [1.8481178483885718], [2.447817092043686], [2.974184264101257], [4.539064308892492], [3.8300199672112107], [1.4070731919628585], [4.695048839589145], [3.6422522727668967], [5.225678995930633], [3.672106658432457], [4.809287872485302], [3.5814612651514857], [3.9237972409831574], [5.931396204487587], [3.0753243641031354], [2.3090995182834932], [5.288998724996469], [2.4893967331620006], [3.8781622640363214], [3.734699138474289], [4.52721893528018], [2.1283877106570217], [2.359055517216254], [5.85055158090046], [2.5024645298246764], [4.722199679585752], [3.5257430984579003], [2.9324468062317184], [3.642247390239322], [4.599901312834852], [2.871573238083119], [3.4645028943161136], [4.513640059691507], [5.936998159121915], [1.3772847094476153], [3.5599627182311187], [4.387651126557512], [3.3579220000098657], [3.796824587535875], [5.898960665395666], [1.4091957935813872], [3.9312376590070057], [2.7094130941318793], [2.251947476593309], [3.7200361454747215], [5.068101894801791], [4.991117468509513], [3.3883031865727253], [2.190651076573886], [4.3304477318381664], [3.2896949383494096], [3.0022342650783833], [3.747752582826437], [4.2878650204928555], [1.3871354361829904], [4.442837805660461], [3.715764958605041], [2.7509963714947325], [3.550217729006219], [3.1039549569584244], [5.011263814902383], [2.6995760818741097], [2.7624912038739895], [4.298196251700765], [5.222439694878616], [4.125479570450385], [5.422441780511459], [2.985628993575126], [5.162908506970051], [4.2106563510939266], [3.4970124115055587], [3.2042722247000146], [5.943824166704689], [3.3353881844448434], [4.328996355027101], [4.446553328304088], [6.23442248159971], [3.82572935304618], [4.038177652535135], [3.518580345072907], [4.380333279200585], [2.45282980304123], [3.4032650631025847], [2.858631890915533], [4.605347932975392], [4.382993037574645], [2.718198300807639], [1.9246646634777087], [4.562763188669996], [4.202172547168624], [3.3565751656228744], [3.8375896054669516], [3.6111522798953355], [4.255420293611576], [2.8646552497913182], [2.5178519395219343], [3.9098985829159325], [3.376819610245089], [4.2293410073897055], [3.18184761992936], [2.9411132948810956], [3.2814221913627146], [3.2855411510348396], [2.068292618169024], [1.5607342043149335], [3.8652754133492473], [4.836265831033033], [4.589003057776951], [5.26261937582798], [3.1201922203558072], [3.170849802635674], [2.074262001666984], [3.719126418195552], [3.940784118045147], [4.3841935211907055], [4.717415903477247], [4.690786576658558], [3.940339866910465], [3.3068435848771776], [4.311970777307936], [2.8999769118631344], [3.6624713815154752], [1.75496599375529], [5.34353419280592], [4.068891740422511], [3.2300819117295143], [0.8572319959266665], [4.506774683143665], [3.4023158001235507], [3.942162103390864], [4.232704371449397], [3.679314730771529], [3.8513298776034413], [3.712787505594918], [5.405011577891168], [5.191356054040888], [2.2531921692919483], [5.469799654803041], [2.6228966627923693], [5.59819064103766], [4.651285813736262], [3.6653109724356026], [3.5734830689105714], [3.069502784244644], [6.677832168287372], [4.067556684352694], [4.73530926947263], [4.658552398447153], [3.7122791357593465], [4.739498472237349], [4.931618595062385], [4.020888690515175], [5.162529494204481], [4.94722616411638], [4.3712182319282125], [5.064785255381967], [2.760000995251997], [3.551364181901672], [4.246279915407495], [1.937374715881064], [3.342096218792269], [5.016519426431813], [3.1993403833919625], [5.124036683567244], [3.748096495083838], [4.970948056286473], [3.0586661985116828], [4.529720477861455], [4.5559806335530855], [6.3029888519928505]], \"hoverlabel\": {\"namelength\": 0}, \"hovertemplate\": \"Cluster=Cluster 3<br>PCA1=%{x}<br>PCA2=%{y}<br>Feature=%{customdata[0]}\", \"legendgroup\": \"Cluster=Cluster 3\", \"marker\": {\"color\": \"#ab63fa\", \"opacity\": 0.5, \"symbol\": \"circle\"}, \"mode\": \"markers\", \"name\": \"Cluster=Cluster 3\", \"showlegend\": true, \"textposition\": \"top center\", \"type\": \"scatter\", \"x\": [-6.534343719482422, -5.886172294616699, -6.627129554748535, -5.819217205047607, -6.063643455505371, -6.501068592071533, -7.6277618408203125, -4.3680596351623535, -5.416208267211914, -7.060787677764893, -6.936112880706787, -5.798413276672363, -7.086993217468262, -6.039820671081543, -5.741684913635254, -4.840975761413574, -5.203251361846924, -4.879902362823486, -7.387692451477051, -4.462223052978516, -5.431833744049072, -6.3160834312438965, -6.306786060333252, -5.581970691680908, -7.274132251739502, -6.353672027587891, -6.261856555938721, -6.562448501586914, -5.893402099609375, -5.224308967590332, -4.942120552062988, -5.73071813583374, -6.945270538330078, -6.68039608001709, -6.459417343139648, -5.587163925170898, -5.473877429962158, -7.614805698394775, -5.439094066619873, -5.783905982971191, -6.3725762367248535, -4.3966875076293945, -4.614541053771973, -5.821048736572266, -6.30304479598999, -6.820469856262207, -6.275878429412842, -7.713248252868652, -3.14794921875, -5.45211124420166, -6.0243611335754395, -5.6567912101745605, -4.051934242248535, -5.964283466339111, -6.8189568519592285, -4.388347625732422, -6.599376201629639, -5.426172733306885, -5.427309513092041, -6.396597385406494, -7.118390083312988, -6.028143405914307, -5.399372100830078, -4.689004421234131, -6.006624221801758, -6.0957489013671875, -4.748958110809326, -6.073439598083496, -5.525250434875488, -5.938724040985107, -5.546970844268799, -4.790938377380371, -5.3712592124938965, -5.507348537445068, -7.319936275482178, -5.765363693237305, -5.550259113311768, -7.502414226531982, -6.10572624206543, -5.465047359466553, -7.203977584838867, -6.044013500213623, -5.793262481689453, -7.127347946166992, -5.943467140197754, -4.868128776550293, -6.997684001922607, -6.08762788772583, -5.760502815246582, -6.155299186706543, -7.550722599029541, -6.459988594055176, -7.499817371368408, -6.34251070022583, -6.0464067459106445, -4.934054851531982, -4.853662490844727, -4.700187683105469, -5.006574630737305, -7.864926338195801, -4.604928016662598, -5.018681526184082, -7.865238189697266, -7.524341583251953, -6.53562593460083, -7.0950469970703125, -4.946349143981934, -5.200885772705078, -5.625046253204346, -5.382606506347656, -6.671163082122803, -6.660501480102539, -5.733047008514404, -5.301650524139404, -3.903101682662964, -6.023989677429199, -5.0641303062438965, -3.7309744358062744, -3.937420606613159, -5.767845153808594, -5.348055839538574, -5.589664936065674, -6.397983074188232, -5.285242557525635, -6.334102630615234, -4.9939284324646, -6.214510917663574, -6.970921993255615, -6.4028096199035645, -5.55294132232666, -6.762783527374268, -6.0551323890686035, -5.473387718200684, -7.156892776489258, -5.8921308517456055, -5.540823459625244, -5.806525230407715, -7.390949249267578, -4.913955211639404, -5.878931045532227, -5.772778034210205, -7.034249782562256, -5.494264602661133, -7.252354621887207, -7.835866928100586, -6.893291473388672, -5.699744701385498, -4.260557651519775, -5.716526031494141, -6.954677581787109, -5.3748321533203125, -6.610964298248291, -5.698984146118164, -5.998866558074951, -6.402535915374756, -5.636324405670166, -6.711852550506592, -7.361637115478516, -7.7537360191345215, -5.785834312438965, -5.683821201324463, -4.893495559692383, -6.4044060707092285, -6.846304416656494, -5.415529251098633, -3.900589942932129, -7.829305648803711, -7.254757881164551, -7.811700344085693, -5.49317741394043, -5.786590576171875, -5.578934669494629, -6.519095420837402, -5.9174957275390625, -6.518859386444092, -7.053366661071777, -6.550227642059326, -5.618777275085449, -5.684401512145996, -5.603549003601074, -3.6610524654388428, -7.707559108734131, -5.123793125152588, -7.033313751220703], \"xaxis\": \"x\", \"y\": [-7.709128379821777, -7.609225749969482, -7.273890972137451, -7.313958644866943, -7.0930585861206055, -7.0340576171875, -8.394458770751953, -6.2571892738342285, -8.540492057800293, -7.612837314605713, -8.184476852416992, -5.381990909576416, -5.808897972106934, -7.110610485076904, -6.9763922691345215, -7.022949695587158, -8.066888809204102, -7.993844032287598, -8.110494613647461, -5.436147689819336, -7.266302108764648, -7.69473123550415, -6.160442352294922, -7.665458679199219, -7.6269025802612305, -6.952805995941162, -8.62941837310791, -6.45347261428833, -7.6380295753479, -6.588059902191162, -6.936792373657227, -7.126427173614502, -7.28048849105835, -7.405556678771973, -6.554598331451416, -6.920787334442139, -6.020747661590576, -5.966292858123779, -5.0335798263549805, -9.264942169189453, -6.052350044250488, -5.3149733543396, -6.881028652191162, -7.923587799072266, -7.3848137855529785, -5.76063346862793, -6.463387966156006, -6.6215105056762695, -6.987431526184082, -6.187479019165039, -6.763996601104736, -6.1195454597473145, -7.503552436828613, -7.54006290435791, -5.720675945281982, -7.114923000335693, -7.255829811096191, -8.200654029846191, -7.769871234893799, -6.913895130157471, -7.413978576660156, -8.292889595031738, -6.853917121887207, -7.555395603179932, -6.528743743896484, -6.827045440673828, -7.587054252624512, -7.288797855377197, -7.427500247955322, -6.96701717376709, -7.447946071624756, -7.322795867919922, -8.477950096130371, -5.85689115524292, -6.3174591064453125, -6.11500358581543, -7.303076267242432, -7.692653179168701, -6.177024841308594, -5.452615261077881, -7.980135917663574, -6.851508140563965, -6.523472309112549, -7.125594615936279, -6.055417060852051, -6.752523899078369, -6.743640422821045, -6.277215003967285, -6.093904972076416, -7.432871341705322, -7.598933219909668, -7.773182392120361, -8.383123397827148, -5.572061538696289, -6.940446853637695, -6.194297790527344, -6.278779029846191, -6.845240116119385, -8.993780136108398, -5.454943656921387, -7.874469757080078, -7.176775932312012, -7.495190620422363, -7.269677639007568, -5.64286994934082, -7.945068359375, -7.6145477294921875, -7.148899078369141, -6.512732028961182, -5.588341236114502, -7.260760307312012, -5.107715129852295, -6.649954795837402, -5.512706279754639, -7.288135528564453, -5.564046382904053, -6.2083024978637695, -8.001768112182617, -6.639632225036621, -6.379152774810791, -6.776180267333984, -7.664262771606445, -6.615588188171387, -6.8364338874816895, -7.670917510986328, -8.027063369750977, -7.304258823394775, -6.3354902267456055, -7.646843910217285, -8.156984329223633, -6.927234649658203, -5.600588798522949, -5.990702152252197, -6.8640570640563965, -6.228297233581543, -7.712398052215576, -7.456189155578613, -5.594563961029053, -8.564348220825195, -6.288755416870117, -5.129251956939697, -6.750038146972656, -5.9217119216918945, -5.7040910720825195, -5.720727920532227, -6.519087791442871, -7.479325771331787, -6.006141185760498, -7.72275972366333, -7.073912143707275, -7.767121315002441, -7.641196250915527, -7.532971382141113, -7.358570098876953, -8.443286895751953, -7.47652530670166, -6.981174468994141, -6.384818077087402, -7.540277481079102, -7.902750492095947, -6.845725059509277, -8.111825942993164, -6.414584636688232, -7.409275054931641, -8.016060829162598, -6.894516944885254, -6.679621696472168, -8.119373321533203, -6.57992696762085, -7.588626861572266, -6.883080959320068, -8.28116512298584, -7.002257347106934, -6.185734272003174, -6.815855026245117, -7.336758613586426, -5.1044769287109375, -5.992823123931885, -7.461343288421631, -6.9833083152771, -6.896719455718994, -6.144851207733154, -7.279359340667725, -6.473471164703369], \"yaxis\": \"y\"}],\n",
              "                        {\"height\": 600, \"legend\": {\"tracegroupgap\": 0}, \"margin\": {\"t\": 60}, \"plot_bgcolor\": \"rgb(240,240,240)\", \"template\": {\"data\": {\"bar\": [{\"error_x\": {\"color\": \"#2a3f5f\"}, \"error_y\": {\"color\": \"#2a3f5f\"}, \"marker\": {\"line\": {\"color\": \"#E5ECF6\", \"width\": 0.5}}, \"type\": \"bar\"}], \"barpolar\": [{\"marker\": {\"line\": {\"color\": \"#E5ECF6\", \"width\": 0.5}}, \"type\": \"barpolar\"}], \"carpet\": [{\"aaxis\": {\"endlinecolor\": \"#2a3f5f\", \"gridcolor\": \"white\", \"linecolor\": \"white\", \"minorgridcolor\": \"white\", \"startlinecolor\": \"#2a3f5f\"}, \"baxis\": {\"endlinecolor\": \"#2a3f5f\", \"gridcolor\": \"white\", \"linecolor\": \"white\", \"minorgridcolor\": \"white\", \"startlinecolor\": \"#2a3f5f\"}, \"type\": \"carpet\"}], \"choropleth\": [{\"colorbar\": {\"outlinewidth\": 0, \"ticks\": \"\"}, \"type\": \"choropleth\"}], \"contour\": [{\"colorbar\": {\"outlinewidth\": 0, \"ticks\": \"\"}, \"colorscale\": [[0.0, \"#0d0887\"], [0.1111111111111111, \"#46039f\"], [0.2222222222222222, \"#7201a8\"], [0.3333333333333333, \"#9c179e\"], [0.4444444444444444, \"#bd3786\"], [0.5555555555555556, \"#d8576b\"], [0.6666666666666666, \"#ed7953\"], [0.7777777777777778, \"#fb9f3a\"], [0.8888888888888888, \"#fdca26\"], [1.0, \"#f0f921\"]], \"type\": \"contour\"}], \"contourcarpet\": [{\"colorbar\": {\"outlinewidth\": 0, \"ticks\": \"\"}, \"type\": \"contourcarpet\"}], \"heatmap\": [{\"colorbar\": {\"outlinewidth\": 0, \"ticks\": \"\"}, \"colorscale\": [[0.0, \"#0d0887\"], [0.1111111111111111, \"#46039f\"], [0.2222222222222222, \"#7201a8\"], [0.3333333333333333, \"#9c179e\"], [0.4444444444444444, \"#bd3786\"], [0.5555555555555556, \"#d8576b\"], [0.6666666666666666, \"#ed7953\"], [0.7777777777777778, \"#fb9f3a\"], [0.8888888888888888, \"#fdca26\"], [1.0, \"#f0f921\"]], \"type\": \"heatmap\"}], \"heatmapgl\": [{\"colorbar\": {\"outlinewidth\": 0, \"ticks\": \"\"}, \"colorscale\": [[0.0, \"#0d0887\"], [0.1111111111111111, \"#46039f\"], [0.2222222222222222, \"#7201a8\"], [0.3333333333333333, \"#9c179e\"], [0.4444444444444444, \"#bd3786\"], [0.5555555555555556, \"#d8576b\"], [0.6666666666666666, \"#ed7953\"], [0.7777777777777778, \"#fb9f3a\"], [0.8888888888888888, \"#fdca26\"], [1.0, \"#f0f921\"]], \"type\": \"heatmapgl\"}], \"histogram\": [{\"marker\": {\"colorbar\": {\"outlinewidth\": 0, \"ticks\": \"\"}}, \"type\": \"histogram\"}], \"histogram2d\": [{\"colorbar\": {\"outlinewidth\": 0, \"ticks\": \"\"}, \"colorscale\": [[0.0, \"#0d0887\"], [0.1111111111111111, \"#46039f\"], [0.2222222222222222, \"#7201a8\"], [0.3333333333333333, \"#9c179e\"], [0.4444444444444444, \"#bd3786\"], [0.5555555555555556, \"#d8576b\"], [0.6666666666666666, \"#ed7953\"], [0.7777777777777778, \"#fb9f3a\"], [0.8888888888888888, \"#fdca26\"], [1.0, \"#f0f921\"]], \"type\": \"histogram2d\"}], \"histogram2dcontour\": [{\"colorbar\": {\"outlinewidth\": 0, \"ticks\": \"\"}, \"colorscale\": [[0.0, \"#0d0887\"], [0.1111111111111111, \"#46039f\"], [0.2222222222222222, \"#7201a8\"], [0.3333333333333333, \"#9c179e\"], [0.4444444444444444, \"#bd3786\"], [0.5555555555555556, \"#d8576b\"], [0.6666666666666666, \"#ed7953\"], [0.7777777777777778, \"#fb9f3a\"], [0.8888888888888888, \"#fdca26\"], [1.0, \"#f0f921\"]], \"type\": \"histogram2dcontour\"}], \"mesh3d\": [{\"colorbar\": {\"outlinewidth\": 0, \"ticks\": \"\"}, \"type\": \"mesh3d\"}], \"parcoords\": [{\"line\": {\"colorbar\": {\"outlinewidth\": 0, \"ticks\": \"\"}}, \"type\": \"parcoords\"}], \"pie\": [{\"automargin\": true, \"type\": \"pie\"}], \"scatter\": [{\"marker\": {\"colorbar\": {\"outlinewidth\": 0, \"ticks\": \"\"}}, \"type\": \"scatter\"}], \"scatter3d\": [{\"line\": {\"colorbar\": {\"outlinewidth\": 0, \"ticks\": \"\"}}, \"marker\": {\"colorbar\": {\"outlinewidth\": 0, \"ticks\": \"\"}}, \"type\": \"scatter3d\"}], \"scattercarpet\": [{\"marker\": {\"colorbar\": {\"outlinewidth\": 0, \"ticks\": \"\"}}, \"type\": \"scattercarpet\"}], \"scattergeo\": [{\"marker\": {\"colorbar\": {\"outlinewidth\": 0, \"ticks\": \"\"}}, \"type\": \"scattergeo\"}], \"scattergl\": [{\"marker\": {\"colorbar\": {\"outlinewidth\": 0, \"ticks\": \"\"}}, \"type\": \"scattergl\"}], \"scattermapbox\": [{\"marker\": {\"colorbar\": {\"outlinewidth\": 0, \"ticks\": \"\"}}, \"type\": \"scattermapbox\"}], \"scatterpolar\": [{\"marker\": {\"colorbar\": {\"outlinewidth\": 0, \"ticks\": \"\"}}, \"type\": \"scatterpolar\"}], \"scatterpolargl\": [{\"marker\": {\"colorbar\": {\"outlinewidth\": 0, \"ticks\": \"\"}}, \"type\": \"scatterpolargl\"}], \"scatterternary\": [{\"marker\": {\"colorbar\": {\"outlinewidth\": 0, \"ticks\": \"\"}}, \"type\": \"scatterternary\"}], \"surface\": [{\"colorbar\": {\"outlinewidth\": 0, \"ticks\": \"\"}, \"colorscale\": [[0.0, \"#0d0887\"], [0.1111111111111111, \"#46039f\"], [0.2222222222222222, \"#7201a8\"], [0.3333333333333333, \"#9c179e\"], [0.4444444444444444, \"#bd3786\"], [0.5555555555555556, \"#d8576b\"], [0.6666666666666666, \"#ed7953\"], [0.7777777777777778, \"#fb9f3a\"], [0.8888888888888888, \"#fdca26\"], [1.0, \"#f0f921\"]], \"type\": \"surface\"}], \"table\": [{\"cells\": {\"fill\": {\"color\": \"#EBF0F8\"}, \"line\": {\"color\": \"white\"}}, \"header\": {\"fill\": {\"color\": \"#C8D4E3\"}, \"line\": {\"color\": \"white\"}}, \"type\": \"table\"}]}, \"layout\": {\"annotationdefaults\": {\"arrowcolor\": \"#2a3f5f\", \"arrowhead\": 0, \"arrowwidth\": 1}, \"coloraxis\": {\"colorbar\": {\"outlinewidth\": 0, \"ticks\": \"\"}}, \"colorscale\": {\"diverging\": [[0, \"#8e0152\"], [0.1, \"#c51b7d\"], [0.2, \"#de77ae\"], [0.3, \"#f1b6da\"], [0.4, \"#fde0ef\"], [0.5, \"#f7f7f7\"], [0.6, \"#e6f5d0\"], [0.7, \"#b8e186\"], [0.8, \"#7fbc41\"], [0.9, \"#4d9221\"], [1, \"#276419\"]], \"sequential\": [[0.0, \"#0d0887\"], [0.1111111111111111, \"#46039f\"], [0.2222222222222222, \"#7201a8\"], [0.3333333333333333, \"#9c179e\"], [0.4444444444444444, \"#bd3786\"], [0.5555555555555556, \"#d8576b\"], [0.6666666666666666, \"#ed7953\"], [0.7777777777777778, \"#fb9f3a\"], [0.8888888888888888, \"#fdca26\"], [1.0, \"#f0f921\"]], \"sequentialminus\": [[0.0, \"#0d0887\"], [0.1111111111111111, \"#46039f\"], [0.2222222222222222, \"#7201a8\"], [0.3333333333333333, \"#9c179e\"], [0.4444444444444444, \"#bd3786\"], [0.5555555555555556, \"#d8576b\"], [0.6666666666666666, \"#ed7953\"], [0.7777777777777778, \"#fb9f3a\"], [0.8888888888888888, \"#fdca26\"], [1.0, \"#f0f921\"]]}, \"colorway\": [\"#636efa\", \"#EF553B\", \"#00cc96\", \"#ab63fa\", \"#FFA15A\", \"#19d3f3\", \"#FF6692\", \"#B6E880\", \"#FF97FF\", \"#FECB52\"], \"font\": {\"color\": \"#2a3f5f\"}, \"geo\": {\"bgcolor\": \"white\", \"lakecolor\": \"white\", \"landcolor\": \"#E5ECF6\", \"showlakes\": true, \"showland\": true, \"subunitcolor\": \"white\"}, \"hoverlabel\": {\"align\": \"left\"}, \"hovermode\": \"closest\", \"mapbox\": {\"style\": \"light\"}, \"paper_bgcolor\": \"white\", \"plot_bgcolor\": \"#E5ECF6\", \"polar\": {\"angularaxis\": {\"gridcolor\": \"white\", \"linecolor\": \"white\", \"ticks\": \"\"}, \"bgcolor\": \"#E5ECF6\", \"radialaxis\": {\"gridcolor\": \"white\", \"linecolor\": \"white\", \"ticks\": \"\"}}, \"scene\": {\"xaxis\": {\"backgroundcolor\": \"#E5ECF6\", \"gridcolor\": \"white\", \"gridwidth\": 2, \"linecolor\": \"white\", \"showbackground\": true, \"ticks\": \"\", \"zerolinecolor\": \"white\"}, \"yaxis\": {\"backgroundcolor\": \"#E5ECF6\", \"gridcolor\": \"white\", \"gridwidth\": 2, \"linecolor\": \"white\", \"showbackground\": true, \"ticks\": \"\", \"zerolinecolor\": \"white\"}, \"zaxis\": {\"backgroundcolor\": \"#E5ECF6\", \"gridcolor\": \"white\", \"gridwidth\": 2, \"linecolor\": \"white\", \"showbackground\": true, \"ticks\": \"\", \"zerolinecolor\": \"white\"}}, \"shapedefaults\": {\"line\": {\"color\": \"#2a3f5f\"}}, \"ternary\": {\"aaxis\": {\"gridcolor\": \"white\", \"linecolor\": \"white\", \"ticks\": \"\"}, \"baxis\": {\"gridcolor\": \"white\", \"linecolor\": \"white\", \"ticks\": \"\"}, \"bgcolor\": \"#E5ECF6\", \"caxis\": {\"gridcolor\": \"white\", \"linecolor\": \"white\", \"ticks\": \"\"}}, \"title\": {\"x\": 0.05}, \"xaxis\": {\"automargin\": true, \"gridcolor\": \"white\", \"linecolor\": \"white\", \"ticks\": \"\", \"title\": {\"standoff\": 15}, \"zerolinecolor\": \"white\", \"zerolinewidth\": 2}, \"yaxis\": {\"automargin\": true, \"gridcolor\": \"white\", \"linecolor\": \"white\", \"ticks\": \"\", \"title\": {\"standoff\": 15}, \"zerolinecolor\": \"white\", \"zerolinewidth\": 2}}}, \"title\": {\"text\": \"2D Cluster PCA Plot\"}, \"xaxis\": {\"anchor\": \"y\", \"domain\": [0.0, 1.0], \"title\": {\"text\": \"PCA1\"}}, \"yaxis\": {\"anchor\": \"x\", \"domain\": [0.0, 1.0], \"title\": {\"text\": \"PCA2\"}}},\n",
              "                        {\"responsive\": true}\n",
              "                    ).then(function(){\n",
              "                            \n",
              "var gd = document.getElementById('24c37233-3b56-4550-8dd1-4b082244d423');\n",
              "var x = new MutationObserver(function (mutations, observer) {{\n",
              "        var display = window.getComputedStyle(gd).display;\n",
              "        if (!display || display === 'none') {{\n",
              "            console.log([gd, 'removed!']);\n",
              "            Plotly.purge(gd);\n",
              "            observer.disconnect();\n",
              "        }}\n",
              "}});\n",
              "\n",
              "// Listen for the removal of the full notebook cells\n",
              "var notebookContainer = gd.closest('#notebook-container');\n",
              "if (notebookContainer) {{\n",
              "    x.observe(notebookContainer, {childList: true});\n",
              "}}\n",
              "\n",
              "// Listen for the clearing of the current output cell\n",
              "var outputEl = gd.closest('.output');\n",
              "if (outputEl) {{\n",
              "    x.observe(outputEl, {childList: true});\n",
              "}}\n",
              "\n",
              "                        })\n",
              "                };\n",
              "                \n",
              "            </script>\n",
              "        </div>\n",
              "</body>\n",
              "</html>"
            ]
          },
          "metadata": {}
        }
      ]
    },
    {
      "cell_type": "markdown",
      "metadata": {
        "id": "hnxk5Ym15c1M"
      },
      "source": [
        "**DBSCAN**"
      ]
    },
    {
      "cell_type": "code",
      "metadata": {
        "colab": {
          "base_uri": "https://localhost:8080/",
          "height": 796
        },
        "id": "MiX31Xe9rfpK",
        "outputId": "c52be595-6d2a-45fa-f2ee-4c18449b5840"
      },
      "source": [
        "mglearn.plots.plot_dbscan()"
      ],
      "execution_count": 57,
      "outputs": [
        {
          "output_type": "stream",
          "name": "stdout",
          "text": [
            "min_samples: 2 eps: 1.000000  cluster: [-1  0  0 -1  0 -1  1  1  0  1 -1 -1]\n",
            "min_samples: 2 eps: 1.500000  cluster: [0 1 1 1 1 0 2 2 1 2 2 0]\n",
            "min_samples: 2 eps: 2.000000  cluster: [0 1 1 1 1 0 0 0 1 0 0 0]\n",
            "min_samples: 2 eps: 3.000000  cluster: [0 0 0 0 0 0 0 0 0 0 0 0]\n",
            "min_samples: 3 eps: 1.000000  cluster: [-1  0  0 -1  0 -1  1  1  0  1 -1 -1]\n",
            "min_samples: 3 eps: 1.500000  cluster: [0 1 1 1 1 0 2 2 1 2 2 0]\n",
            "min_samples: 3 eps: 2.000000  cluster: [0 1 1 1 1 0 0 0 1 0 0 0]\n",
            "min_samples: 3 eps: 3.000000  cluster: [0 0 0 0 0 0 0 0 0 0 0 0]\n",
            "min_samples: 5 eps: 1.000000  cluster: [-1 -1 -1 -1 -1 -1 -1 -1 -1 -1 -1 -1]\n",
            "min_samples: 5 eps: 1.500000  cluster: [-1  0  0  0  0 -1 -1 -1  0 -1 -1 -1]\n",
            "min_samples: 5 eps: 2.000000  cluster: [-1  0  0  0  0 -1 -1 -1  0 -1 -1 -1]\n",
            "min_samples: 5 eps: 3.000000  cluster: [0 0 0 0 0 0 0 0 0 0 0 0]\n"
          ]
        },
        {
          "output_type": "display_data",
          "data": {
            "image/png": "[encoded data removed]",
            "text/plain": [
              "<Figure size 792x576 with 12 Axes>"
            ]
          },
          "metadata": {}
        }
      ]
    },
    {
      "cell_type": "code",
      "metadata": {
        "colab": {
          "base_uri": "https://localhost:8080/",
          "height": 297
        },
        "id": "DCiknVnerXoh",
        "outputId": "1fc7b912-bb2d-40c7-fc0d-4d2e965bb5ff"
      },
      "source": [
        "from sklearn.cluster import DBSCAN\n",
        "from sklearn.preprocessing import StandardScaler\n",
        "scaler = StandardScaler()\n",
        "X_scaled = scaler.fit_transform(X)\n",
        "# cluster the data into five clusters\n",
        "dbscan = DBSCAN(eps=0.123, min_samples = 2)\n",
        "clusters = dbscan.fit_predict(X_scaled)\n",
        "# plot the cluster assignments\n",
        "plt.scatter(X[:, 0], X[:, 1], c=clusters, cmap=\"plasma\")\n",
        "plt.xlabel(\"Feature 0\")\n",
        "plt.ylabel(\"Feature 1\")"
      ],
      "execution_count": 58,
      "outputs": [
        {
          "output_type": "execute_result",
          "data": {
            "text/plain": [
              "Text(0, 0.5, 'Feature 1')"
            ]
          },
          "metadata": {},
          "execution_count": 58
        },
        {
          "output_type": "display_data",
          "data": {
            "image/png": "[encoded data removed]",
            "text/plain": [
              "<Figure size 432x288 with 1 Axes>"
            ]
          },
          "metadata": {
            "needs_background": "light"
          }
        }
      ]
    },
    {
      "cell_type": "markdown",
      "metadata": {
        "id": "Qu8oQCJq6BCY"
      },
      "source": [
        "Fairly consistent clusters have been found after twisting eps and min_samples still including some noise points. While DBSCAN doesn’t require setting the number of clusters explicitly, setting eps implicitly controls how many clusters will be found.\n",
        "\n",
        "In DBScan we can see how clear the graph is compared to k-means."
      ]
    },
    {
      "cell_type": "markdown",
      "metadata": {
        "id": "CVufeImvuN0u"
      },
      "source": [
        "#**Conclusion**\n",
        "\n",
        "### Advantages of K-Means\n",
        "\n",
        "- Easy to understand and implement.\n",
        "\n",
        "- Can handle large datasets well.\n",
        "\n",
        "### Disadvantages of K-Means\n",
        "- Sensitive to number of clusters/centroids chosen. Even after using techniques like Elbow method, it is sometimes hard to generate good clusters.\n",
        "\n",
        "- Does not work well with outliers. Centroids can get dragged by the outliers resulting in skewed clusters.\n",
        "\n",
        "- Gets difficult in high dimensional spaces as the distance between the points increases and Euclidean distance diverges.\n",
        "\n",
        "- Gets slow as the number of dimensions increases.\n",
        "\n",
        "---\n",
        "\n",
        "### Advantages of DBSCAN\n",
        "- Works well for noisy datasets.\n",
        "\n",
        "- Can identity Outliers easily.\n",
        "\n",
        "- Clusters can take any irregular shape unlike K-Means where clusters are more or less spherical.\n",
        "\n",
        "### Disadvantages of DBSCAN\n",
        "- Does not work very well for sparse datasets or datasets with varying density.\n",
        "\n",
        "- Sensitive to eps and minPts parameters.\n",
        "\n",
        "- Not partitionable for multiprocessor systems.\n",
        "\n",
        "---\n",
        "### Advantages\tof Hierarchical\tclustering\n",
        "- Hierarchical\tclustering\toutputs\ta\thierarchy. Therefore,\tit\tis\teasier\tto\tdecideon\tthe\tnumber\tof\tclusters\tby\tlooking\tat\tthe\tdendrogram.\n",
        "\n",
        "- Easy\tto\timplement\t\n",
        "\n",
        "### Disadvantages\tof Hierarchical\tclustering\n",
        "- It\tis\tnot\tpossible\tto\tundo\tthe\tprevious\tstep:\tonce\tthe\tinstances\thave\tbeen\tassigned\tto\ta\tcluster,\tthey\tcan\tno\tlonger\tbe\tmoved\taround.\t\n",
        "\n",
        "- Time\tcomplexity:\tnot\tsuitable\tfor\tlarge\tdatasets\n",
        "\n",
        "- The\torder\tof\tthe\tdata\thas\tan\timpact\ton\tthe\tfinal\tresults\t\n",
        "\n",
        "- Very\tsensitive\tto\toutliers"
      ]
    }
  ]
}